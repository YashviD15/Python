{
 "cells": [
  {
   "cell_type": "markdown",
   "metadata": {},
   "source": [
    "# chap-6"
   ]
  },
  {
   "cell_type": "code",
   "execution_count": 50,
   "metadata": {},
   "outputs": [
    {
     "name": "stdout",
     "output_type": "stream",
     "text": [
      "This is python hellooo yashviii shah hiii shahhhhh\n",
      "This is python hellooo yashviii shah hiii shahhhhh\n"
     ]
    }
   ],
   "source": [
    "#read only\n",
    "f=open(\"Demo.txt\",\"r\")\n",
    "print(f.read())\n",
    " *or\n",
    "with open(\"Demo.txt\",\"r\") as f:\n",
    "    print(f.read())"
   ]
  },
  {
   "cell_type": "code",
   "execution_count": 19,
   "metadata": {},
   "outputs": [],
   "source": [
    "#read+ write\n",
    "f=open(\"Demo.txt\",\"r+\")\n",
    "f.write(\"This is java\")\n",
    "f.close()"
   ]
  },
  {
   "cell_type": "code",
   "execution_count": 20,
   "metadata": {},
   "outputs": [],
   "source": [
    "#append at last append+write\n",
    "f=open(\"Demo.txt\",\"a+\")\n",
    "f.write(\"This is java\")\n",
    "f.close()"
   ]
  },
  {
   "cell_type": "code",
   "execution_count": 21,
   "metadata": {},
   "outputs": [],
   "source": [
    "#write+read both\n",
    "f=open(\"Demo.txt\",\"w+\")\n",
    "f.write(\"This is java\")\n",
    "f.close()"
   ]
  },
  {
   "cell_type": "code",
   "execution_count": 22,
   "metadata": {},
   "outputs": [
    {
     "ename": "UnsupportedOperation",
     "evalue": "not writable",
     "output_type": "error",
     "traceback": [
      "\u001b[1;31m---------------------------------------------------------------------------\u001b[0m",
      "\u001b[1;31mUnsupportedOperation\u001b[0m                      Traceback (most recent call last)",
      "\u001b[1;32m<ipython-input-22-28f52a291785>\u001b[0m in \u001b[0;36m<module>\u001b[1;34m\u001b[0m\n\u001b[0;32m      1\u001b[0m \u001b[0mf\u001b[0m\u001b[1;33m=\u001b[0m\u001b[0mopen\u001b[0m\u001b[1;33m(\u001b[0m\u001b[1;34m\"Demo.txt\"\u001b[0m\u001b[1;33m,\u001b[0m\u001b[1;34m\"r\"\u001b[0m\u001b[1;33m)\u001b[0m\u001b[1;33m\u001b[0m\u001b[1;33m\u001b[0m\u001b[0m\n\u001b[1;32m----> 2\u001b[1;33m \u001b[0mf\u001b[0m\u001b[1;33m.\u001b[0m\u001b[0mwrite\u001b[0m\u001b[1;33m(\u001b[0m\u001b[1;34m\"This is java\"\u001b[0m\u001b[1;33m)\u001b[0m\u001b[1;33m\u001b[0m\u001b[1;33m\u001b[0m\u001b[0m\n\u001b[0m\u001b[0;32m      3\u001b[0m \u001b[0mf\u001b[0m\u001b[1;33m.\u001b[0m\u001b[0mclose\u001b[0m\u001b[1;33m(\u001b[0m\u001b[1;33m)\u001b[0m\u001b[1;33m\u001b[0m\u001b[1;33m\u001b[0m\u001b[0m\n",
      "\u001b[1;31mUnsupportedOperation\u001b[0m: not writable"
     ]
    }
   ],
   "source": [
    "#only read cant write error\n",
    "f=open(\"Demo.txt\",\"r\")\n",
    "f.write(\"This is java\")\n",
    "f.close()"
   ]
  },
  {
   "cell_type": "code",
   "execution_count": 23,
   "metadata": {
    "scrolled": true
   },
   "outputs": [
    {
     "name": "stdout",
     "output_type": "stream",
     "text": [
      "14\n",
      "\n",
      "0\n",
      "this is python\n"
     ]
    }
   ],
   "source": [
    "f=open(\"Demo.txt\",\"r+\")\n",
    "f.write(\"this is python\")\n",
    "print(f.tell())\n",
    "print(f.read())\n",
    "f.seek(0)\n",
    "print(f.tell())\n",
    "print(f.read())\n",
    "f.close()"
   ]
  },
  {
   "cell_type": "code",
   "execution_count": 34,
   "metadata": {},
   "outputs": [
    {
     "name": "stdout",
     "output_type": "stream",
     "text": [
      "This \n",
      "is python \n",
      "hel\n"
     ]
    }
   ],
   "source": [
    "#Read acording to index given\n",
    "#space included\n",
    "f=open(\"Demo.txt\",\"r\")\n",
    "print(f.read(5))\n",
    "print(f.read(10))\n",
    "print(f.read(3))\n"
   ]
  },
  {
   "cell_type": "code",
   "execution_count": 42,
   "metadata": {},
   "outputs": [
    {
     "name": "stdout",
     "output_type": "stream",
     "text": [
      "This \n",
      "is Pyth\n",
      "on1\n",
      "\n",
      "This is Python2\n",
      "\n",
      "This is Python3\n",
      "\n"
     ]
    }
   ],
   "source": [
    "#Readline with and without index both\n",
    "f=open(\"Demo1.txt\",\"r\")\n",
    "print(f.readline(5))\n",
    "print(f.readline(7))\n",
    "print(f.readline(10))\n",
    "print(f.readline(20))\n",
    "print(f.readline(50))"
   ]
  },
  {
   "cell_type": "code",
   "execution_count": 49,
   "metadata": {},
   "outputs": [
    {
     "name": "stdout",
     "output_type": "stream",
     "text": [
      "['This is Python1\\n', 'This is Python2\\n', 'This is Python3\\n']\n"
     ]
    }
   ],
   "source": [
    "#Readline inside list \n",
    "f=open(\"Demo1.txt\",\"r\")\n",
    "print(f.readlines(35))"
   ]
  },
  {
   "cell_type": "code",
   "execution_count": 54,
   "metadata": {},
   "outputs": [],
   "source": [
    "#for write\n",
    "#write() writelines()\n",
    "f=open(\"b4.txt\",\"w\")\n",
    "f.write(\"This is text1 data\")\n",
    "f.close()\n"
   ]
  },
  {
   "cell_type": "code",
   "execution_count": 56,
   "metadata": {},
   "outputs": [],
   "source": [
    "#by default close first\n",
    "with open(\"b4.txt\",\"w\") as f:\n",
    "    f.write(\"Alternate mode\")"
   ]
  },
  {
   "cell_type": "code",
   "execution_count": 59,
   "metadata": {},
   "outputs": [],
   "source": [
    "#writelines()\n",
    "f=open(\"b4.txt\",\"w\")\n",
    "l=[\"A\",\"B\",\"C\",\"D\"]\n",
    "f.writelines(l)\n",
    "f.close()"
   ]
  },
  {
   "cell_type": "code",
   "execution_count": 5,
   "metadata": {},
   "outputs": [
    {
     "name": "stdout",
     "output_type": "stream",
     "text": [
      "Enter name :Y\n",
      "Enter name :H\n",
      "Enter name :V\n",
      "Enter name :S\n",
      "Enter name :P\n"
     ]
    }
   ],
   "source": [
    "#write the student name in files\n",
    "f=open(\"user.txt\",\"w+\")\n",
    "for i in range(5):\n",
    "    name=input(\"Enter name :\")\n",
    "    f.write(name+\"\\n\")\n",
    "f.close()"
   ]
  },
  {
   "cell_type": "code",
   "execution_count": 3,
   "metadata": {},
   "outputs": [
    {
     "name": "stdout",
     "output_type": "stream",
     "text": [
      "Enter name :h\n",
      "Enter name :j\n",
      "Enter name :k\n",
      "Enter name :d\n",
      "Enter name :\n"
     ]
    }
   ],
   "source": [
    "f=open(\"user.txt\",\"r+\")\n",
    "for i in range(5):\n",
    "    name=input(\"Enter name :\")\n",
    "    f.writelines(name+\"\\n\")\n",
    "f.close()"
   ]
  },
  {
   "cell_type": "code",
   "execution_count": 11,
   "metadata": {},
   "outputs": [
    {
     "name": "stdout",
     "output_type": "stream",
     "text": [
      "False\n",
      "Demo.txt\n",
      "r\n",
      "True\n",
      "False\n",
      "\n",
      "False\n",
      "Demo.txt\n",
      "r+\n",
      "True\n",
      "True\n",
      "\n",
      "False\n",
      "Demo.txt\n",
      "a+\n",
      "True\n",
      "True\n",
      "\n",
      "False\n",
      "Demo.txt\n",
      "w\n",
      "False\n",
      "True\n"
     ]
    }
   ],
   "source": [
    "#\n",
    "f=open(\"Demo.txt\",\"r\")\n",
    "print(f.closed)\n",
    "print(f.name)\n",
    "print(f.mode)\n",
    "print(f.readable())\n",
    "print(f.writable())\n",
    "print()\n",
    "\n",
    "f=open(\"Demo.txt\",\"r+\")\n",
    "print(f.closed)\n",
    "print(f.name)\n",
    "print(f.mode)\n",
    "print(f.readable())\n",
    "print(f.writable())\n",
    "print()\n",
    "\n",
    "\n",
    "f=open(\"Demo.txt\",\"a+\")\n",
    "print(f.closed)\n",
    "print(f.name)\n",
    "print(f.mode)\n",
    "print(f.readable())\n",
    "print(f.writable())\n",
    "print()\n",
    "\n",
    "f=open(\"Demo.txt\",\"w\")\n",
    "print(f.closed)\n",
    "print(f.name)\n",
    "print(f.mode)\n",
    "print(f.readable())\n",
    "print(f.writable())"
   ]
  },
  {
   "cell_type": "code",
   "execution_count": 7,
   "metadata": {},
   "outputs": [],
   "source": [
    "#wap to copy the content of one file to another file r or r+\n",
    "f=open(\"f1.txt\",\"r+\")\n",
    "f1=open(\"f2.txt\",\"w+\")\n",
    "f1.write(f.read())\n",
    "f.close()\n",
    "f1.close()"
   ]
  },
  {
   "cell_type": "code",
   "execution_count": 13,
   "metadata": {},
   "outputs": [],
   "source": [
    "#write a dict to file in python\n",
    "details={\"Name\":\"Yashvi\",\"Age\":20, \"Degree\":\"CSE\", \"University\":\"LJU\"}\n",
    "f=open(\"data.txt\",\"w\")\n",
    "for k,v in details.items():\n",
    "    f.write(str(k)+\":\"+str(v)+\"\\n\")\n",
    "f.close()\n"
   ]
  },
  {
   "cell_type": "code",
   "execution_count": 14,
   "metadata": {},
   "outputs": [],
   "source": [
    "#wap to copy the content of one file to another file in uppercase\n",
    "f=open(\"f1.txt\",\"r+\")\n",
    "f1=open(\"f2.txt\",\"w+\")\n",
    "f1.write(f.read().upper())\n",
    "f.close()\n",
    "f1.close()"
   ]
  },
  {
   "cell_type": "code",
   "execution_count": 22,
   "metadata": {},
   "outputs": [],
   "source": [
    "#wap to copy the content of one file to another file in reverse order\n",
    "f=open(\"f1.txt\",\"r+\")\n",
    "f1=open(\"f2.txt\",\"w+\")\n",
    "f1.writelines(reversed(f.read()))\n",
    "f.close()\n",
    "f1.close()"
   ]
  },
  {
   "cell_type": "code",
   "execution_count": 29,
   "metadata": {},
   "outputs": [],
   "source": [
    "#wap to copy the content of one file to another file and reversed line\n",
    "f=open(\"data.txt\",\"r\")\n",
    "f1=open(\"new.txt\",\"w\")\n",
    "a=f.readlines()\n",
    "f1.writelines(a[::-1])\n",
    "f.close()\n",
    "f1.close()"
   ]
  },
  {
   "cell_type": "code",
   "execution_count": 41,
   "metadata": {},
   "outputs": [
    {
     "name": "stdout",
     "output_type": "stream",
     "text": [
      "Enter Line :1\n",
      "Bishop’s much loved and much discussed ode to loss, which Claudia Roth Pierpont called “a \n",
      "\n"
     ]
    }
   ],
   "source": [
    "#wap to read specific line form a file\n",
    "d=int(input(\"Enter Line :\"))\n",
    "f=open(\"new.txt\",\"r+\",encoding='utf-8')\n",
    "l=f.readlines()\n",
    "print(l[d-1])"
   ]
  },
  {
   "cell_type": "code",
   "execution_count": 50,
   "metadata": {},
   "outputs": [],
   "source": [
    "#wap to copy the odds lines from one file to nother file\n",
    "f=open(\"new.txt\",\"r+\",encoding='utf-8')\n",
    "f1=open(\"new1.txt\",\"w\",encoding='utf-8')\n",
    "l=f.readlines()\n",
    "f1.writelines(l[0::2])\n",
    "f.close()\n",
    "f1.close()"
   ]
  },
  {
   "cell_type": "markdown",
   "metadata": {},
   "source": [
    "# pager progrmmm"
   ]
  },
  {
   "cell_type": "code",
   "execution_count": null,
   "metadata": {},
   "outputs": [],
   "source": [
    "text =open(input(\"Enter file name:\"))\n",
    "num_line=5\n",
    "for index,line in enumerate(text,1):\n",
    "    print(line)\n",
    "    if index%num_line==0:\n",
    "        x=input(\"Enter any key to continue press a to quit\")\n",
    "        if x.lower()=='q':\n",
    "            break\n",
    "        else:\n",
    "            continue"
   ]
  },
  {
   "cell_type": "code",
   "execution_count": null,
   "metadata": {},
   "outputs": [],
   "source": [
    "#wap to copy the content of two files in single fine\n",
    "f=open(\"new1.txt\")\n",
    "f1=open(\"Demo.txt\")\n",
    "f2=open(\"Combo.txt\",\"w+\")\n",
    "f2.writelines()"
   ]
  },
  {
   "cell_type": "code",
   "execution_count": 6,
   "metadata": {},
   "outputs": [],
   "source": [
    "#wap to display all the line of files except those that has#sign \n",
    "f1=open(\"f1.txt\",\"r\")\n",
    "f2=open(\"f2.txt\",\"w\")\n",
    "while True:\n",
    "    a=f1.readline()\n",
    "    if len(a)!=0:\n",
    "        if a[0]==\"#\":\n",
    "            continue\n",
    "        else:\n",
    "            if \"#\" in a:\n",
    "                for i in range(1,len(a)):\n",
    "                    if a[i]==\"#\":\n",
    "                        f2.write(a[0:i]+\"\\n\")\n",
    "            else:\n",
    "                 f2.write(a)\n",
    "    else:\n",
    "        break\n",
    "f1.close()\n",
    "f2.close()"
   ]
  },
  {
   "cell_type": "code",
   "execution_count": 15,
   "metadata": {},
   "outputs": [
    {
     "name": "stdout",
     "output_type": "stream",
     "text": [
      "Line 1\n",
      "Position  9\n",
      "Line 4\n",
      "Position  9\n"
     ]
    }
   ],
   "source": [
    "#wap to compare to files and find the differnce in line and character\n",
    "f=open(\"f3.txt\")\n",
    "f1=open(\"user.txt\",\"r\")\n",
    "a= f.readlines()\n",
    "b=f1.readlines()\n",
    "for i in range(len(a)):\n",
    "    for j in range(len(a[i])):\n",
    "        if a[i][j]!=b[i][j]:\n",
    "            print(\"Line\",i+1)\n",
    "            print(\"Position \",j+1)"
   ]
  },
  {
   "cell_type": "code",
   "execution_count": 19,
   "metadata": {},
   "outputs": [
    {
     "name": "stdout",
     "output_type": "stream",
     "text": [
      "This is pyhton\n",
      "This is python\n",
      "This is Java\n",
      "This is Java\n",
      "\n",
      "Words 12\n",
      "Space 8\n",
      "Char 48\n"
     ]
    }
   ],
   "source": [
    "#wap to count word characters and spaces from the text file\n",
    "f=open(\"f3.txt\")\n",
    "a=f.read()\n",
    "w=0\n",
    "c=0\n",
    "s=0\n",
    "s=a.split()\n",
    "print(a)\n",
    "print(\"Words\",len(s))\n",
    "print(\"Space\",a.count(\" \"))\n",
    "print(\"Char\",len(a)-a.count(\" \"))\n"
   ]
  },
  {
   "cell_type": "code",
   "execution_count": 20,
   "metadata": {},
   "outputs": [
    {
     "name": "stdout",
     "output_type": "stream",
     "text": [
      "['This is python\\n', 'This is Java\\n']\n",
      "This is Ja\n",
      "va\n",
      "\n"
     ]
    }
   ],
   "source": [
    "f=open(\"f3.txt\")\n",
    "a=f.readline()\n",
    "b=f.readlines(18)\n",
    "ch3=f.read(10)\n",
    "print(b)\n",
    "print(ch3)\n",
    "print(f.readline())\n",
    "f.close()"
   ]
  },
  {
   "cell_type": "markdown",
   "metadata": {},
   "source": [
    "# chap-7"
   ]
  },
  {
   "cell_type": "code",
   "execution_count": 4,
   "metadata": {},
   "outputs": [
    {
     "data": {
      "text/plain": [
       "0.36787944117144233"
      ]
     },
     "execution_count": 4,
     "metadata": {},
     "output_type": "execute_result"
    }
   ],
   "source": [
    "import math\n",
    "dir(math)\n",
    "math.pi\n",
    "math.sqrt(25)\n",
    "math.exp(-1)"
   ]
  },
  {
   "cell_type": "code",
   "execution_count": 5,
   "metadata": {},
   "outputs": [
    {
     "name": "stdout",
     "output_type": "stream",
     "text": [
      "<class 'module'>\n"
     ]
    }
   ],
   "source": [
    "import math\n",
    "print(type(math))"
   ]
  },
  {
   "cell_type": "code",
   "execution_count": 7,
   "metadata": {},
   "outputs": [
    {
     "name": "stdout",
     "output_type": "stream",
     "text": [
      "Overwriting demo.txt\n"
     ]
    }
   ],
   "source": [
    "%%writefile demo.txt  \n",
    "This is python\n",
    "This is java"
   ]
  },
  {
   "cell_type": "code",
   "execution_count": 8,
   "metadata": {},
   "outputs": [
    {
     "name": "stdout",
     "output_type": "stream",
     "text": [
      "Writing mymodule.py\n"
     ]
    }
   ],
   "source": [
    "%%writefile mymodule.py\n",
    "def sum(a,b):\n",
    "    print(\"Addition:\",a+b)\n",
    "def sub(a,b):\n",
    "    print(\"Substraction:\",a-b)\n",
    "def mul(a,b):\n",
    "    print(\"Multiplication:\",a*b)\n",
    "def div(a,b):\n",
    "    print(\"Division:\",a/b)"
   ]
  },
  {
   "cell_type": "code",
   "execution_count": 9,
   "metadata": {},
   "outputs": [
    {
     "name": "stdout",
     "output_type": "stream",
     "text": [
      "Addition: 60\n",
      "Division: 0.6666666666666666\n",
      "Multiplication: 200\n"
     ]
    }
   ],
   "source": [
    "import mymodule\n",
    "dir(mymodule)\n",
    "mymodule.sum(20,40)\n",
    "mymodule.div(10,15)\n",
    "mymodule.mul(10,20)"
   ]
  },
  {
   "cell_type": "code",
   "execution_count": 10,
   "metadata": {},
   "outputs": [
    {
     "name": "stdout",
     "output_type": "stream",
     "text": [
      "Addition: 60\n"
     ]
    }
   ],
   "source": [
    "#sort form\n",
    "import mymodule as m\n",
    "dir(mymodule)\n",
    "m.sum(20,40)"
   ]
  },
  {
   "cell_type": "code",
   "execution_count": 12,
   "metadata": {},
   "outputs": [
    {
     "name": "stdout",
     "output_type": "stream",
     "text": [
      "Addition: 30\n",
      "Substraction: -30\n",
      "Multiplication: 40\n"
     ]
    }
   ],
   "source": [
    "from mymodule import sum,sub,mul\n",
    "sum(10,20)\n",
    "sub(10,40)\n",
    "mul(10,4)"
   ]
  },
  {
   "cell_type": "code",
   "execution_count": 13,
   "metadata": {},
   "outputs": [
    {
     "name": "stdout",
     "output_type": "stream",
     "text": [
      "Addition: 30\n",
      "Substraction: -30\n",
      "Multiplication: 40\n"
     ]
    }
   ],
   "source": [
    "from mymodule import *\n",
    "sum(10,20)\n",
    "sub(10,40)\n",
    "mul(10,4)"
   ]
  },
  {
   "cell_type": "code",
   "execution_count": 14,
   "metadata": {},
   "outputs": [
    {
     "name": "stdout",
     "output_type": "stream",
     "text": [
      "Addition: 30\n"
     ]
    }
   ],
   "source": [
    "from mymodule import sum as s\n",
    "s(10,20)"
   ]
  },
  {
   "cell_type": "code",
   "execution_count": 15,
   "metadata": {},
   "outputs": [
    {
     "data": {
      "text/plain": [
       "'D:\\\\T3=python-127'"
      ]
     },
     "execution_count": 15,
     "metadata": {},
     "output_type": "execute_result"
    }
   ],
   "source": [
    "import os\n",
    "os.getcwd()"
   ]
  },
  {
   "cell_type": "code",
   "execution_count": 16,
   "metadata": {},
   "outputs": [
    {
     "data": {
      "text/plain": [
       "'D:\\\\T3=python-127'"
      ]
     },
     "execution_count": 16,
     "metadata": {},
     "output_type": "execute_result"
    }
   ],
   "source": [
    "pwd()"
   ]
  },
  {
   "cell_type": "code",
   "execution_count": 16,
   "metadata": {},
   "outputs": [
    {
     "data": {
      "text/plain": [
       "'D:\\\\T3=python-127'"
      ]
     },
     "execution_count": 16,
     "metadata": {},
     "output_type": "execute_result"
    }
   ],
   "source": [
    "import os\n",
    "os.getcwd()\n",
    "os.chdir(\"D:\\\\T3=python-127\")\n",
    "os.getcwd()"
   ]
  },
  {
   "cell_type": "code",
   "execution_count": 17,
   "metadata": {},
   "outputs": [
    {
     "ename": "FileExistsError",
     "evalue": "[WinError 183] Cannot create a file when that file already exists: 'D:\\\\T3=python-127'",
     "output_type": "error",
     "traceback": [
      "\u001b[1;31m---------------------------------------------------------------------------\u001b[0m",
      "\u001b[1;31mFileExistsError\u001b[0m                           Traceback (most recent call last)",
      "\u001b[1;32m<ipython-input-17-471ec1e0dfb0>\u001b[0m in \u001b[0;36m<module>\u001b[1;34m\u001b[0m\n\u001b[0;32m      1\u001b[0m \u001b[1;32mimport\u001b[0m \u001b[0mos\u001b[0m\u001b[1;33m\u001b[0m\u001b[1;33m\u001b[0m\u001b[0m\n\u001b[1;32m----> 2\u001b[1;33m \u001b[0mos\u001b[0m\u001b[1;33m.\u001b[0m\u001b[0mmkdir\u001b[0m\u001b[1;33m(\u001b[0m\u001b[1;34m\"D:\\\\T3=python-127\"\u001b[0m\u001b[1;33m)\u001b[0m\u001b[1;33m\u001b[0m\u001b[1;33m\u001b[0m\u001b[0m\n\u001b[0m",
      "\u001b[1;31mFileExistsError\u001b[0m: [WinError 183] Cannot create a file when that file already exists: 'D:\\\\T3=python-127'"
     ]
    }
   ],
   "source": [
    "import os\n",
    "os.mkdir(\"D:\\\\T3=python-127\")"
   ]
  },
  {
   "cell_type": "markdown",
   "metadata": {},
   "source": [
    "# progrmm"
   ]
  },
  {
   "cell_type": "code",
   "execution_count": 19,
   "metadata": {},
   "outputs": [
    {
     "name": "stdout",
     "output_type": "stream",
     "text": [
      "Writing func_str.py\n"
     ]
    }
   ],
   "source": [
    "%%writefile func_str.py\n",
    "def fun(s):\n",
    "    print(\"Len:\",len(s))\n",
    "    print(\"Upper:\",s.upper())\n",
    "    print(\"Lower:\",s.lower())\n",
    "    print(\"capitalize:\",s.capitalize())\n",
    "    print(\"Title:\",s.title())\n",
    "    print(\"Isupper:\",s.isupper())\n",
    "    print(\"Islower:\",s.islower())\n",
    "    print(\"IsAlpha:\",s.isalpha())\n",
    "    print(\"Isdigit:\",s.isdigit())\n",
    "    print(\"Isalnum:\",s.isalnum())"
   ]
  },
  {
   "cell_type": "code",
   "execution_count": null,
   "metadata": {},
   "outputs": [],
   "source": [
    "import func_str as m\n",
    "s=input(\"Enter string:\")\n",
    "m.fun(s)"
   ]
  },
  {
   "cell_type": "markdown",
   "metadata": {},
   "source": [
    "# chap-8"
   ]
  },
  {
   "cell_type": "code",
   "execution_count": null,
   "metadata": {},
   "outputs": [],
   "source": [
    "\n",
    "** try: a block of code for error**\n",
    "** except: lets u handle the error**\n",
    "** else: lets u execute when their is no error**\n",
    "** finally: lets u execute the code, every time**"
   ]
  },
  {
   "cell_type": "code",
   "execution_count": 11,
   "metadata": {},
   "outputs": [
    {
     "name": "stdout",
     "output_type": "stream",
     "text": [
      "Exception occured\n",
      "finish\n"
     ]
    }
   ],
   "source": [
    "def div(a,b):\n",
    "    return(a/b)\n",
    "try:\n",
    "    print(div(5,0))\n",
    "except:\n",
    "    print(\"Exception occured\")\n",
    "finally:\n",
    "    print(\"finish\")"
   ]
  },
  {
   "cell_type": "code",
   "execution_count": 8,
   "metadata": {},
   "outputs": [
    {
     "name": "stdout",
     "output_type": "stream",
     "text": [
      "This is python\n",
      "This is java\n",
      "5\n",
      "1.6666666666666667\n",
      "list index out of range\n"
     ]
    }
   ],
   "source": [
    "try:\n",
    "    m=5\n",
    "    f=open(\"Demo.txt\",\"r\")\n",
    "    print(f.read())\n",
    "    print(m)\n",
    "    print(5/3)\n",
    "    l=[1,2,3]\n",
    "    l[100]\n",
    "except FileNotFoundError :\n",
    "    print(\"Exception File not found\")\n",
    "except NameError :\n",
    "    print(\"Exception \")\n",
    "except ZeroDivisionError :\n",
    "    print(\"Exception occured\")\n",
    "except Exception as e :\n",
    "    print(e)"
   ]
  },
  {
   "cell_type": "code",
   "execution_count": 18,
   "metadata": {},
   "outputs": [
    {
     "name": "stdout",
     "output_type": "stream",
     "text": [
      "name 'h' is not defined\n",
      "reset code\n"
     ]
    }
   ],
   "source": [
    "a=10\n",
    "b=0\n",
    "try:\n",
    "    d= a/h\n",
    "    print(d)\n",
    "except (NameError,ZeroDivisionError) as obj:\n",
    "    print(obj)\n",
    "print(\"reset code\")"
   ]
  },
  {
   "cell_type": "markdown",
   "metadata": {},
   "source": [
    "# Raise an exception\n"
   ]
  },
  {
   "cell_type": "code",
   "execution_count": 25,
   "metadata": {},
   "outputs": [
    {
     "ename": "TypeError",
     "evalue": "b should be int",
     "output_type": "error",
     "traceback": [
      "\u001b[1;31m---------------------------------------------------------------------------\u001b[0m",
      "\u001b[1;31mTypeError\u001b[0m                                 Traceback (most recent call last)",
      "\u001b[1;32m<ipython-input-25-6e691246c954>\u001b[0m in \u001b[0;36m<module>\u001b[1;34m\u001b[0m\n\u001b[0;32m      5\u001b[0m         \u001b[1;32mraise\u001b[0m \u001b[0mTypeError\u001b[0m\u001b[1;33m(\u001b[0m\u001b[1;34m\"b should be int\"\u001b[0m\u001b[1;33m)\u001b[0m\u001b[1;33m\u001b[0m\u001b[1;33m\u001b[0m\u001b[0m\n\u001b[0;32m      6\u001b[0m     \u001b[1;32mreturn\u001b[0m \u001b[0ma\u001b[0m\u001b[1;33m+\u001b[0m\u001b[0mb\u001b[0m\u001b[1;33m\u001b[0m\u001b[1;33m\u001b[0m\u001b[0m\n\u001b[1;32m----> 7\u001b[1;33m \u001b[0madd\u001b[0m\u001b[1;33m(\u001b[0m\u001b[1;36m10\u001b[0m\u001b[1;33m,\u001b[0m\u001b[1;34m\"abc\"\u001b[0m\u001b[1;33m)\u001b[0m\u001b[1;33m\u001b[0m\u001b[1;33m\u001b[0m\u001b[0m\n\u001b[0m",
      "\u001b[1;32m<ipython-input-25-6e691246c954>\u001b[0m in \u001b[0;36madd\u001b[1;34m(a, b)\u001b[0m\n\u001b[0;32m      3\u001b[0m         \u001b[1;32mraise\u001b[0m \u001b[0mTypeError\u001b[0m\u001b[1;33m(\u001b[0m\u001b[1;34m\"a should be int\"\u001b[0m\u001b[1;33m)\u001b[0m\u001b[1;33m\u001b[0m\u001b[1;33m\u001b[0m\u001b[0m\n\u001b[0;32m      4\u001b[0m     \u001b[1;32mif\u001b[0m \u001b[0mtype\u001b[0m\u001b[1;33m(\u001b[0m\u001b[0mb\u001b[0m\u001b[1;33m)\u001b[0m\u001b[1;33m==\u001b[0m\u001b[0mstr\u001b[0m\u001b[1;33m:\u001b[0m\u001b[1;33m\u001b[0m\u001b[1;33m\u001b[0m\u001b[0m\n\u001b[1;32m----> 5\u001b[1;33m         \u001b[1;32mraise\u001b[0m \u001b[0mTypeError\u001b[0m\u001b[1;33m(\u001b[0m\u001b[1;34m\"b should be int\"\u001b[0m\u001b[1;33m)\u001b[0m\u001b[1;33m\u001b[0m\u001b[1;33m\u001b[0m\u001b[0m\n\u001b[0m\u001b[0;32m      6\u001b[0m     \u001b[1;32mreturn\u001b[0m \u001b[0ma\u001b[0m\u001b[1;33m+\u001b[0m\u001b[0mb\u001b[0m\u001b[1;33m\u001b[0m\u001b[1;33m\u001b[0m\u001b[0m\n\u001b[0;32m      7\u001b[0m \u001b[0madd\u001b[0m\u001b[1;33m(\u001b[0m\u001b[1;36m10\u001b[0m\u001b[1;33m,\u001b[0m\u001b[1;34m\"abc\"\u001b[0m\u001b[1;33m)\u001b[0m\u001b[1;33m\u001b[0m\u001b[1;33m\u001b[0m\u001b[0m\n",
      "\u001b[1;31mTypeError\u001b[0m: b should be int"
     ]
    }
   ],
   "source": [
    "def add(a,b):\n",
    "    if type(a)==str:\n",
    "        raise TypeError(\"a should be int\")\n",
    "    if type(b)==str:\n",
    "        raise TypeError(\"b should be int\")\n",
    "    return a+b\n",
    "add(10,\"def\")"
   ]
  },
  {
   "cell_type": "code",
   "execution_count": 1,
   "metadata": {},
   "outputs": [],
   "source": [
    "class myerror(Exception):\n",
    "    def __init__(self,arg):\n",
    "        self.msg=arg"
   ]
  },
  {
   "cell_type": "code",
   "execution_count": 10,
   "metadata": {},
   "outputs": [
    {
     "ename": "myerror",
     "evalue": "Personalized mssg",
     "output_type": "error",
     "traceback": [
      "\u001b[1;31m---------------------------------------------------------------------------\u001b[0m",
      "\u001b[1;31mmyerror\u001b[0m                                   Traceback (most recent call last)",
      "\u001b[1;32m<ipython-input-10-15ace8b35935>\u001b[0m in \u001b[0;36m<module>\u001b[1;34m\u001b[0m\n\u001b[0;32m      5\u001b[0m         \u001b[1;32mraise\u001b[0m \u001b[0mTypeError\u001b[0m\u001b[1;33m(\u001b[0m\u001b[1;34m\"b should be int\"\u001b[0m\u001b[1;33m)\u001b[0m\u001b[1;33m\u001b[0m\u001b[1;33m\u001b[0m\u001b[0m\n\u001b[0;32m      6\u001b[0m     \u001b[1;32mreturn\u001b[0m \u001b[0ma\u001b[0m\u001b[1;33m+\u001b[0m\u001b[0mb\u001b[0m\u001b[1;33m\u001b[0m\u001b[1;33m\u001b[0m\u001b[0m\n\u001b[1;32m----> 7\u001b[1;33m \u001b[0madd\u001b[0m\u001b[1;33m(\u001b[0m\u001b[1;34m\"abc\"\u001b[0m\u001b[1;33m,\u001b[0m\u001b[1;34m\"def\"\u001b[0m\u001b[1;33m)\u001b[0m\u001b[1;33m\u001b[0m\u001b[1;33m\u001b[0m\u001b[0m\n\u001b[0m",
      "\u001b[1;32m<ipython-input-10-15ace8b35935>\u001b[0m in \u001b[0;36madd\u001b[1;34m(a, b)\u001b[0m\n\u001b[0;32m      1\u001b[0m \u001b[1;32mdef\u001b[0m \u001b[0madd\u001b[0m\u001b[1;33m(\u001b[0m\u001b[0ma\u001b[0m\u001b[1;33m,\u001b[0m\u001b[0mb\u001b[0m\u001b[1;33m)\u001b[0m\u001b[1;33m:\u001b[0m\u001b[1;33m\u001b[0m\u001b[1;33m\u001b[0m\u001b[0m\n\u001b[0;32m      2\u001b[0m     \u001b[1;32mif\u001b[0m \u001b[0mtype\u001b[0m\u001b[1;33m(\u001b[0m\u001b[0ma\u001b[0m\u001b[1;33m)\u001b[0m\u001b[1;33m==\u001b[0m\u001b[0mstr\u001b[0m\u001b[1;33m:\u001b[0m\u001b[1;33m\u001b[0m\u001b[1;33m\u001b[0m\u001b[0m\n\u001b[1;32m----> 3\u001b[1;33m         \u001b[1;32mraise\u001b[0m \u001b[0mmyerror\u001b[0m\u001b[1;33m(\u001b[0m\u001b[1;34m\"Personalized mssg\"\u001b[0m\u001b[1;33m)\u001b[0m\u001b[1;33m\u001b[0m\u001b[1;33m\u001b[0m\u001b[0m\n\u001b[0m\u001b[0;32m      4\u001b[0m     \u001b[1;32mif\u001b[0m \u001b[0mtype\u001b[0m\u001b[1;33m(\u001b[0m\u001b[0mb\u001b[0m\u001b[1;33m)\u001b[0m\u001b[1;33m==\u001b[0m\u001b[0mstr\u001b[0m\u001b[1;33m:\u001b[0m\u001b[1;33m\u001b[0m\u001b[1;33m\u001b[0m\u001b[0m\n\u001b[0;32m      5\u001b[0m         \u001b[1;32mraise\u001b[0m \u001b[0mTypeError\u001b[0m\u001b[1;33m(\u001b[0m\u001b[1;34m\"b should be int\"\u001b[0m\u001b[1;33m)\u001b[0m\u001b[1;33m\u001b[0m\u001b[1;33m\u001b[0m\u001b[0m\n",
      "\u001b[1;31mmyerror\u001b[0m: Personalized mssg"
     ]
    }
   ],
   "source": [
    "def add(a,b):\n",
    "    if type(a)==str:\n",
    "        raise myerror(\"Personalized mssg\")\n",
    "    if type(b)==str:\n",
    "        raise TypeError(\"b should be int\")\n",
    "    return a+b\n",
    "add(\"abc\",\"def\")"
   ]
  },
  {
   "cell_type": "code",
   "execution_count": 1,
   "metadata": {},
   "outputs": [],
   "source": [
    "class yashvi(Exception):\n",
    "    def __init__(self,arg):\n",
    "        self.msg=arg"
   ]
  },
  {
   "cell_type": "code",
   "execution_count": 7,
   "metadata": {},
   "outputs": [
    {
     "name": "stdout",
     "output_type": "stream",
     "text": [
      "Enter money10000\n",
      "Enter money9000\n",
      "Low balance\n"
     ]
    },
    {
     "ename": "yashvi",
     "evalue": "Balance is less than 2000",
     "output_type": "error",
     "traceback": [
      "\u001b[1;31m---------------------------------------------------------------------------\u001b[0m",
      "\u001b[1;31myashvi\u001b[0m                                    Traceback (most recent call last)",
      "\u001b[1;32m<ipython-input-7-ae647acd8a89>\u001b[0m in \u001b[0;36m<module>\u001b[1;34m\u001b[0m\n\u001b[0;32m     12\u001b[0m     \u001b[1;32mfinally\u001b[0m\u001b[1;33m:\u001b[0m\u001b[1;33m\u001b[0m\u001b[1;33m\u001b[0m\u001b[0m\n\u001b[0;32m     13\u001b[0m         \u001b[0mprint\u001b[0m\u001b[1;33m(\u001b[0m\u001b[1;34m\"Low balance\"\u001b[0m\u001b[1;33m)\u001b[0m\u001b[1;33m\u001b[0m\u001b[1;33m\u001b[0m\u001b[0m\n\u001b[1;32m---> 14\u001b[1;33m \u001b[0mcheckbalance\u001b[0m\u001b[1;33m(\u001b[0m\u001b[0mmoney\u001b[0m\u001b[1;33m,\u001b[0m\u001b[0mwithdraw\u001b[0m\u001b[1;33m)\u001b[0m\u001b[1;33m\u001b[0m\u001b[1;33m\u001b[0m\u001b[0m\n\u001b[0m",
      "\u001b[1;32m<ipython-input-7-ae647acd8a89>\u001b[0m in \u001b[0;36mcheckbalance\u001b[1;34m(a, b)\u001b[0m\n\u001b[0;32m      9\u001b[0m         \u001b[0mprint\u001b[0m\u001b[1;33m(\u001b[0m\u001b[0mbalance\u001b[0m\u001b[1;33m)\u001b[0m\u001b[1;33m\u001b[0m\u001b[1;33m\u001b[0m\u001b[0m\n\u001b[0;32m     10\u001b[0m     \u001b[1;32mexcept\u001b[0m \u001b[0mException\u001b[0m \u001b[1;32mas\u001b[0m \u001b[0me\u001b[0m \u001b[1;33m:\u001b[0m\u001b[1;33m\u001b[0m\u001b[1;33m\u001b[0m\u001b[0m\n\u001b[1;32m---> 11\u001b[1;33m         \u001b[1;32mraise\u001b[0m \u001b[1;33m(\u001b[0m\u001b[0me\u001b[0m\u001b[1;33m)\u001b[0m\u001b[1;33m\u001b[0m\u001b[1;33m\u001b[0m\u001b[0m\n\u001b[0m\u001b[0;32m     12\u001b[0m     \u001b[1;32mfinally\u001b[0m\u001b[1;33m:\u001b[0m\u001b[1;33m\u001b[0m\u001b[1;33m\u001b[0m\u001b[0m\n\u001b[0;32m     13\u001b[0m         \u001b[0mprint\u001b[0m\u001b[1;33m(\u001b[0m\u001b[1;34m\"Low balance\"\u001b[0m\u001b[1;33m)\u001b[0m\u001b[1;33m\u001b[0m\u001b[1;33m\u001b[0m\u001b[0m\n",
      "\u001b[1;32m<ipython-input-7-ae647acd8a89>\u001b[0m in \u001b[0;36mcheckbalance\u001b[1;34m(a, b)\u001b[0m\n\u001b[0;32m      6\u001b[0m     \u001b[1;32mtry\u001b[0m\u001b[1;33m:\u001b[0m\u001b[1;33m\u001b[0m\u001b[1;33m\u001b[0m\u001b[0m\n\u001b[0;32m      7\u001b[0m         \u001b[1;32mif\u001b[0m \u001b[0mbalance\u001b[0m\u001b[1;33m<=\u001b[0m\u001b[1;36m2000\u001b[0m\u001b[1;33m:\u001b[0m\u001b[1;33m\u001b[0m\u001b[1;33m\u001b[0m\u001b[0m\n\u001b[1;32m----> 8\u001b[1;33m             \u001b[1;32mraise\u001b[0m \u001b[0myashvi\u001b[0m\u001b[1;33m(\u001b[0m\u001b[1;34m\"Balance is less than 2000\"\u001b[0m\u001b[1;33m)\u001b[0m\u001b[1;33m\u001b[0m\u001b[1;33m\u001b[0m\u001b[0m\n\u001b[0m\u001b[0;32m      9\u001b[0m         \u001b[0mprint\u001b[0m\u001b[1;33m(\u001b[0m\u001b[0mbalance\u001b[0m\u001b[1;33m)\u001b[0m\u001b[1;33m\u001b[0m\u001b[1;33m\u001b[0m\u001b[0m\n\u001b[0;32m     10\u001b[0m     \u001b[1;32mexcept\u001b[0m \u001b[0mException\u001b[0m \u001b[1;32mas\u001b[0m \u001b[0me\u001b[0m \u001b[1;33m:\u001b[0m\u001b[1;33m\u001b[0m\u001b[1;33m\u001b[0m\u001b[0m\n",
      "\u001b[1;31myashvi\u001b[0m: Balance is less than 2000"
     ]
    }
   ],
   "source": [
    "#create a function checkbalance\n",
    "money=int(input(\"Enter money\"))\n",
    "withdraw= int(input(\"Enter money\"))\n",
    "def checkbalance(a,b):\n",
    "    balance =money-withdraw\n",
    "    try:\n",
    "        if balance<=2000:\n",
    "            raise yashvi(\"Balance is less than 2000\")\n",
    "        print(balance)\n",
    "    except Exception as e :\n",
    "        raise (e)\n",
    "    finally:\n",
    "        print(\"Low balance\")\n",
    "checkbalance(money,withdraw)"
   ]
  },
  {
   "cell_type": "code",
   "execution_count": 10,
   "metadata": {},
   "outputs": [],
   "source": [
    "class SyntaxError(Exception):\n",
    "    def __init__(self,arg):\n",
    "        self.msg=arg"
   ]
  },
  {
   "cell_type": "code",
   "execution_count": 11,
   "metadata": {},
   "outputs": [
    {
     "ename": "IndentationError",
     "evalue": "expected an indented block (<ipython-input-11-1f6635ea14fe>, line 3)",
     "output_type": "error",
     "traceback": [
      "\u001b[1;36m  File \u001b[1;32m\"<ipython-input-11-1f6635ea14fe>\"\u001b[1;36m, line \u001b[1;32m3\u001b[0m\n\u001b[1;33m    raise SyntaxError(\"Syntax erorrrrr\")\u001b[0m\n\u001b[1;37m    ^\u001b[0m\n\u001b[1;31mIndentationError\u001b[0m\u001b[1;31m:\u001b[0m expected an indented block\n"
     ]
    }
   ],
   "source": [
    "try:\n",
    "    def div(a,b):\n",
    "    raise SyntaxError(\"Syntax erorrrrr\")\n",
    "        return(a/b)\n",
    "\n",
    "except Expection as e:\n",
    "    print(e)"
   ]
  },
  {
   "cell_type": "code",
   "execution_count": 1,
   "metadata": {},
   "outputs": [
    {
     "name": "stdout",
     "output_type": "stream",
     "text": [
      "<class 'int'>\n",
      "<class 'str'>\n",
      "<class 'function'>\n",
      "<class 'module'>\n"
     ]
    }
   ],
   "source": [
    "x=42\n",
    "print(type(x))\n",
    "x=\"hello\"                                                  \n",
    "print(type(x))\n",
    "def z():\n",
    "    pass\n",
    "print(type(z))\n",
    "import math\n",
    "print(type(math))"
   ]
  },
  {
   "cell_type": "code",
   "execution_count": 2,
   "metadata": {
    "collapsed": true
   },
   "outputs": [
    {
     "ename": "SyntaxError",
     "evalue": "invalid syntax (<ipython-input-2-6429677f40bf>, line 6)",
     "output_type": "error",
     "traceback": [
      "\u001b[1;36m  File \u001b[1;32m\"<ipython-input-2-6429677f40bf>\"\u001b[1;36m, line \u001b[1;32m6\u001b[0m\n\u001b[1;33m    Body of method\u001b[0m\n\u001b[1;37m         ^\u001b[0m\n\u001b[1;31mSyntaxError\u001b[0m\u001b[1;31m:\u001b[0m invalid syntax\n"
     ]
    }
   ],
   "source": [
    "#SYNTAX\n",
    "class Classname:\n",
    "    def __init__(self):\n",
    "        self.variable_name =value\n",
    "        self.variable_name =\"value\"\n",
    "    def method_name(self):\n",
    "        Body of method\n",
    "        "
   ]
  },
  {
   "cell_type": "code",
   "execution_count": 4,
   "metadata": {},
   "outputs": [
    {
     "name": "stdout",
     "output_type": "stream",
     "text": [
      "ABC 21 50000\n"
     ]
    }
   ],
   "source": [
    "class Employee:\n",
    "    def __init__(self,name,age,salary):\n",
    "        self.name=name\n",
    "        self.age=age\n",
    "        self.salary=salary\n",
    "    def display(self):\n",
    "        print(self.name, self.age, self.salary)\n",
    "emp1=Employee(\"ABC\",21,50000)\n",
    "emp1.display()\n",
    "        "
   ]
  },
  {
   "cell_type": "code",
   "execution_count": null,
   "metadata": {},
   "outputs": [],
   "source": []
  }
 ],
 "metadata": {
  "kernelspec": {
   "display_name": "Python 3",
   "language": "python",
   "name": "python3"
  },
  "language_info": {
   "codemirror_mode": {
    "name": "ipython",
    "version": 3
   },
   "file_extension": ".py",
   "mimetype": "text/x-python",
   "name": "python",
   "nbconvert_exporter": "python",
   "pygments_lexer": "ipython3",
   "version": "3.8.5"
  }
 },
 "nbformat": 4,
 "nbformat_minor": 4
}
