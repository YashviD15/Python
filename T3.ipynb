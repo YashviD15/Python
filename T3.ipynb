{
 "cells": [
  {
   "cell_type": "markdown",
   "metadata": {},
   "source": [
    "# chap-6"
   ]
  },
  {
   "cell_type": "code",
   "execution_count": 50,
   "metadata": {},
   "outputs": [
    {
     "name": "stdout",
     "output_type": "stream",
     "text": [
      "This is python hellooo yashviii shah hiii shahhhhh\n",
      "This is python hellooo yashviii shah hiii shahhhhh\n"
     ]
    }
   ],
   "source": [
    "#read only\n",
    "f=open(\"Demo.txt\",\"r\")\n",
    "print(f.read())\n",
    " *or\n",
    "with open(\"Demo.txt\",\"r\") as f:\n",
    "    print(f.read())"
   ]
  },
  {
   "cell_type": "code",
   "execution_count": 19,
   "metadata": {},
   "outputs": [],
   "source": [
    "#read+ write\n",
    "f=open(\"Demo.txt\",\"r+\")\n",
    "f.write(\"This is java\")\n",
    "f.close()"
   ]
  },
  {
   "cell_type": "code",
   "execution_count": 20,
   "metadata": {},
   "outputs": [],
   "source": [
    "#append at last append+write\n",
    "f=open(\"Demo.txt\",\"a+\")\n",
    "f.write(\"This is java\")\n",
    "f.close()"
   ]
  },
  {
   "cell_type": "code",
   "execution_count": 21,
   "metadata": {},
   "outputs": [],
   "source": [
    "#write+read both\n",
    "f=open(\"Demo.txt\",\"w+\")\n",
    "f.write(\"This is java\")\n",
    "f.close()"
   ]
  },
  {
   "cell_type": "code",
   "execution_count": 22,
   "metadata": {},
   "outputs": [
    {
     "ename": "UnsupportedOperation",
     "evalue": "not writable",
     "output_type": "error",
     "traceback": [
      "\u001b[1;31m---------------------------------------------------------------------------\u001b[0m",
      "\u001b[1;31mUnsupportedOperation\u001b[0m                      Traceback (most recent call last)",
      "\u001b[1;32m<ipython-input-22-28f52a291785>\u001b[0m in \u001b[0;36m<module>\u001b[1;34m\u001b[0m\n\u001b[0;32m      1\u001b[0m \u001b[0mf\u001b[0m\u001b[1;33m=\u001b[0m\u001b[0mopen\u001b[0m\u001b[1;33m(\u001b[0m\u001b[1;34m\"Demo.txt\"\u001b[0m\u001b[1;33m,\u001b[0m\u001b[1;34m\"r\"\u001b[0m\u001b[1;33m)\u001b[0m\u001b[1;33m\u001b[0m\u001b[1;33m\u001b[0m\u001b[0m\n\u001b[1;32m----> 2\u001b[1;33m \u001b[0mf\u001b[0m\u001b[1;33m.\u001b[0m\u001b[0mwrite\u001b[0m\u001b[1;33m(\u001b[0m\u001b[1;34m\"This is java\"\u001b[0m\u001b[1;33m)\u001b[0m\u001b[1;33m\u001b[0m\u001b[1;33m\u001b[0m\u001b[0m\n\u001b[0m\u001b[0;32m      3\u001b[0m \u001b[0mf\u001b[0m\u001b[1;33m.\u001b[0m\u001b[0mclose\u001b[0m\u001b[1;33m(\u001b[0m\u001b[1;33m)\u001b[0m\u001b[1;33m\u001b[0m\u001b[1;33m\u001b[0m\u001b[0m\n",
      "\u001b[1;31mUnsupportedOperation\u001b[0m: not writable"
     ]
    }
   ],
   "source": [
    "#only read cant write error\n",
    "f=open(\"Demo.txt\",\"r\")\n",
    "f.write(\"This is java\")\n",
    "f.close()"
   ]
  },
  {
   "cell_type": "code",
   "execution_count": 23,
   "metadata": {
    "scrolled": true
   },
   "outputs": [
    {
     "name": "stdout",
     "output_type": "stream",
     "text": [
      "14\n",
      "\n",
      "0\n",
      "this is python\n"
     ]
    }
   ],
   "source": [
    "f=open(\"Demo.txt\",\"r+\")\n",
    "f.write(\"this is python\")\n",
    "print(f.tell())\n",
    "print(f.read())\n",
    "f.seek(0)\n",
    "print(f.tell())\n",
    "print(f.read())\n",
    "f.close()"
   ]
  },
  {
   "cell_type": "code",
   "execution_count": 34,
   "metadata": {},
   "outputs": [
    {
     "name": "stdout",
     "output_type": "stream",
     "text": [
      "This \n",
      "is python \n",
      "hel\n"
     ]
    }
   ],
   "source": [
    "#Read acording to index given\n",
    "#space included\n",
    "f=open(\"Demo.txt\",\"r\")\n",
    "print(f.read(5))\n",
    "print(f.read(10))\n",
    "print(f.read(3))\n"
   ]
  },
  {
   "cell_type": "code",
   "execution_count": 42,
   "metadata": {},
   "outputs": [
    {
     "name": "stdout",
     "output_type": "stream",
     "text": [
      "This \n",
      "is Pyth\n",
      "on1\n",
      "\n",
      "This is Python2\n",
      "\n",
      "This is Python3\n",
      "\n"
     ]
    }
   ],
   "source": [
    "#Readline with and without index both\n",
    "f=open(\"Demo1.txt\",\"r\")\n",
    "print(f.readline(5))\n",
    "print(f.readline(7))\n",
    "print(f.readline(10))\n",
    "print(f.readline(20))\n",
    "print(f.readline(50))"
   ]
  },
  {
   "cell_type": "code",
   "execution_count": 49,
   "metadata": {},
   "outputs": [
    {
     "name": "stdout",
     "output_type": "stream",
     "text": [
      "['This is Python1\\n', 'This is Python2\\n', 'This is Python3\\n']\n"
     ]
    }
   ],
   "source": [
    "#Readline inside list \n",
    "f=open(\"Demo1.txt\",\"r\")\n",
    "print(f.readlines(35))"
   ]
  },
  {
   "cell_type": "code",
   "execution_count": 54,
   "metadata": {},
   "outputs": [],
   "source": [
    "#for write\n",
    "#write() writelines()\n",
    "f=open(\"b4.txt\",\"w\")\n",
    "f.write(\"This is text1 data\")\n",
    "f.close()\n"
   ]
  },
  {
   "cell_type": "code",
   "execution_count": 56,
   "metadata": {},
   "outputs": [],
   "source": [
    "#by default close first\n",
    "with open(\"b4.txt\",\"w\") as f:\n",
    "    f.write(\"Alternate mode\")"
   ]
  },
  {
   "cell_type": "code",
   "execution_count": 59,
   "metadata": {},
   "outputs": [],
   "source": [
    "#writelines()\n",
    "f=open(\"b4.txt\",\"w\")\n",
    "l=[\"A\",\"B\",\"C\",\"D\"]\n",
    "f.writelines(l)\n",
    "f.close()"
   ]
  },
  {
   "cell_type": "code",
   "execution_count": 5,
   "metadata": {},
   "outputs": [
    {
     "name": "stdout",
     "output_type": "stream",
     "text": [
      "Enter name :Y\n",
      "Enter name :H\n",
      "Enter name :V\n",
      "Enter name :S\n",
      "Enter name :P\n"
     ]
    }
   ],
   "source": [
    "#write the student name in files\n",
    "f=open(\"user.txt\",\"w+\")\n",
    "for i in range(5):\n",
    "    name=input(\"Enter name :\")\n",
    "    f.write(name+\"\\n\")\n",
    "f.close()"
   ]
  },
  {
   "cell_type": "code",
   "execution_count": 3,
   "metadata": {},
   "outputs": [
    {
     "name": "stdout",
     "output_type": "stream",
     "text": [
      "Enter name :h\n",
      "Enter name :j\n",
      "Enter name :k\n",
      "Enter name :d\n",
      "Enter name :\n"
     ]
    }
   ],
   "source": [
    "f=open(\"user.txt\",\"r+\")\n",
    "for i in range(5):\n",
    "    name=input(\"Enter name :\")\n",
    "    f.writelines(name+\"\\n\")\n",
    "f.close()"
   ]
  },
  {
   "cell_type": "code",
   "execution_count": 11,
   "metadata": {},
   "outputs": [
    {
     "name": "stdout",
     "output_type": "stream",
     "text": [
      "False\n",
      "Demo.txt\n",
      "r\n",
      "True\n",
      "False\n",
      "\n",
      "False\n",
      "Demo.txt\n",
      "r+\n",
      "True\n",
      "True\n",
      "\n",
      "False\n",
      "Demo.txt\n",
      "a+\n",
      "True\n",
      "True\n",
      "\n",
      "False\n",
      "Demo.txt\n",
      "w\n",
      "False\n",
      "True\n"
     ]
    }
   ],
   "source": [
    "#\n",
    "f=open(\"Demo.txt\",\"r\")\n",
    "print(f.closed)\n",
    "print(f.name)\n",
    "print(f.mode)\n",
    "print(f.readable())\n",
    "print(f.writable())\n",
    "print()\n",
    "\n",
    "f=open(\"Demo.txt\",\"r+\")\n",
    "print(f.closed)\n",
    "print(f.name)\n",
    "print(f.mode)\n",
    "print(f.readable())\n",
    "print(f.writable())\n",
    "print()\n",
    "\n",
    "\n",
    "f=open(\"Demo.txt\",\"a+\")\n",
    "print(f.closed)\n",
    "print(f.name)\n",
    "print(f.mode)\n",
    "print(f.readable())\n",
    "print(f.writable())\n",
    "print()\n",
    "\n",
    "f=open(\"Demo.txt\",\"w\")\n",
    "print(f.closed)\n",
    "print(f.name)\n",
    "print(f.mode)\n",
    "print(f.readable())\n",
    "print(f.writable())"
   ]
  },
  {
   "cell_type": "code",
   "execution_count": 7,
   "metadata": {},
   "outputs": [],
   "source": [
    "#wap to copy the content of one file to another file r or r+\n",
    "f=open(\"f1.txt\",\"r+\")\n",
    "f1=open(\"f2.txt\",\"w+\")\n",
    "f1.write(f.read())\n",
    "f.close()\n",
    "f1.close()"
   ]
  },
  {
   "cell_type": "code",
   "execution_count": 13,
   "metadata": {},
   "outputs": [],
   "source": [
    "#write a dict to file in python\n",
    "details={\"Name\":\"Yashvi\",\"Age\":20, \"Degree\":\"CSE\", \"University\":\"LJU\"}\n",
    "f=open(\"data.txt\",\"w\")\n",
    "for k,v in details.items():\n",
    "    f.write(str(k)+\":\"+str(v)+\"\\n\")\n",
    "f.close()\n"
   ]
  },
  {
   "cell_type": "code",
   "execution_count": 14,
   "metadata": {},
   "outputs": [],
   "source": [
    "#wap to copy the content of one file to another file in uppercase\n",
    "f=open(\"f1.txt\",\"r+\")\n",
    "f1=open(\"f2.txt\",\"w+\")\n",
    "f1.write(f.read().upper())\n",
    "f.close()\n",
    "f1.close()"
   ]
  },
  {
   "cell_type": "code",
   "execution_count": 22,
   "metadata": {},
   "outputs": [],
   "source": [
    "#wap to copy the content of one file to another file in reverse order\n",
    "f=open(\"f1.txt\",\"r+\")\n",
    "f1=open(\"f2.txt\",\"w+\")\n",
    "f1.writelines(reversed(f.read()))\n",
    "f.close()\n",
    "f1.close()"
   ]
  },
  {
   "cell_type": "code",
   "execution_count": 29,
   "metadata": {},
   "outputs": [],
   "source": [
    "#wap to copy the content of one file to another file and reversed line\n",
    "f=open(\"data.txt\",\"r\")\n",
    "f1=open(\"new.txt\",\"w\")\n",
    "a=f.readlines()\n",
    "f1.writelines(a[::-1])\n",
    "f.close()\n",
    "f1.close()"
   ]
  },
  {
   "cell_type": "code",
   "execution_count": 41,
   "metadata": {},
   "outputs": [
    {
     "name": "stdout",
     "output_type": "stream",
     "text": [
      "Enter Line :1\n",
      "Bishop’s much loved and much discussed ode to loss, which Claudia Roth Pierpont called “a \n",
      "\n"
     ]
    }
   ],
   "source": [
    "#wap to read specific line form a file\n",
    "d=int(input(\"Enter Line :\"))\n",
    "f=open(\"new.txt\",\"r+\",encoding='utf-8')\n",
    "l=f.readlines()\n",
    "print(l[d-1])"
   ]
  },
  {
   "cell_type": "code",
   "execution_count": 50,
   "metadata": {},
   "outputs": [],
   "source": [
    "#wap to copy the odds lines from one file to nother file\n",
    "f=open(\"new.txt\",\"r+\",encoding='utf-8')\n",
    "f1=open(\"new1.txt\",\"w\",encoding='utf-8')\n",
    "l=f.readlines()\n",
    "f1.writelines(l[0::2])\n",
    "f.close()\n",
    "f1.close()"
   ]
  },
  {
   "cell_type": "markdown",
   "metadata": {},
   "source": [
    "# pager progrmmm"
   ]
  },
  {
   "cell_type": "code",
   "execution_count": null,
   "metadata": {},
   "outputs": [],
   "source": [
    "text =open(input(\"Enter file name:\"))\n",
    "num_line=5\n",
    "for index,line in enumerate(text,1):\n",
    "    print(line)\n",
    "    if index%num_line==0:\n",
    "        x=input(\"Enter any key to continue press a to quit\")\n",
    "        if x.lower()=='q':\n",
    "            break\n",
    "        else:\n",
    "            continue"
   ]
  },
  {
   "cell_type": "code",
   "execution_count": null,
   "metadata": {},
   "outputs": [],
   "source": [
    "#wap to copy the content of two files in single fine\n",
    "f=open(\"new1.txt\")\n",
    "f1=open(\"Demo.txt\")\n",
    "f2=open(\"Combo.txt\",\"w+\")\n",
    "f2.writelines()"
   ]
  },
  {
   "cell_type": "code",
   "execution_count": 6,
   "metadata": {},
   "outputs": [],
   "source": [
    "#wap to display all the line of files except those that has#sign \n",
    "f1=open(\"f1.txt\",\"r\")\n",
    "f2=open(\"f2.txt\",\"w\")\n",
    "while True:\n",
    "    a=f1.readline()\n",
    "    if len(a)!=0:\n",
    "        if a[0]==\"#\":\n",
    "            continue\n",
    "        else:\n",
    "            if \"#\" in a:\n",
    "                for i in range(1,len(a)):\n",
    "                    if a[i]==\"#\":\n",
    "                        f2.write(a[0:i]+\"\\n\")\n",
    "            else:\n",
    "                 f2.write(a)\n",
    "    else:\n",
    "        break\n",
    "f1.close()\n",
    "f2.close()"
   ]
  },
  {
   "cell_type": "code",
   "execution_count": 15,
   "metadata": {},
   "outputs": [
    {
     "name": "stdout",
     "output_type": "stream",
     "text": [
      "Line 1\n",
      "Position  9\n",
      "Line 4\n",
      "Position  9\n"
     ]
    }
   ],
   "source": [
    "#wap to compare to files and find the differnce in line and character\n",
    "f=open(\"f3.txt\")\n",
    "f1=open(\"user.txt\",\"r\")\n",
    "a= f.readlines()\n",
    "b=f1.readlines()\n",
    "for i in range(len(a)):\n",
    "    for j in range(len(a[i])):\n",
    "        if a[i][j]!=b[i][j]:\n",
    "            print(\"Line\",i+1)\n",
    "            print(\"Position \",j+1)"
   ]
  },
  {
   "cell_type": "code",
   "execution_count": 19,
   "metadata": {},
   "outputs": [
    {
     "name": "stdout",
     "output_type": "stream",
     "text": [
      "This is pyhton\n",
      "This is python\n",
      "This is Java\n",
      "This is Java\n",
      "\n",
      "Words 12\n",
      "Space 8\n",
      "Char 48\n"
     ]
    }
   ],
   "source": [
    "#wap to count word characters and spaces from the text file\n",
    "f=open(\"f3.txt\")\n",
    "a=f.read()\n",
    "w=0\n",
    "c=0\n",
    "s=0\n",
    "s=a.split()\n",
    "print(a)\n",
    "print(\"Words\",len(s))\n",
    "print(\"Space\",a.count(\" \"))\n",
    "print(\"Char\",len(a)-a.count(\" \"))\n"
   ]
  },
  {
   "cell_type": "code",
   "execution_count": 20,
   "metadata": {},
   "outputs": [
    {
     "name": "stdout",
     "output_type": "stream",
     "text": [
      "['This is python\\n', 'This is Java\\n']\n",
      "This is Ja\n",
      "va\n",
      "\n"
     ]
    }
   ],
   "source": [
    "f=open(\"f3.txt\")\n",
    "a=f.readline()\n",
    "b=f.readlines(18)\n",
    "ch3=f.read(10)\n",
    "print(b)\n",
    "print(ch3)\n",
    "print(f.readline())\n",
    "f.close()"
   ]
  },
  {
   "cell_type": "markdown",
   "metadata": {},
   "source": [
    "# chap-7"
   ]
  },
  {
   "cell_type": "code",
   "execution_count": 4,
   "metadata": {},
   "outputs": [
    {
     "data": {
      "text/plain": [
       "0.36787944117144233"
      ]
     },
     "execution_count": 4,
     "metadata": {},
     "output_type": "execute_result"
    }
   ],
   "source": [
    "import math\n",
    "dir(math)\n",
    "math.pi\n",
    "math.sqrt(25)\n",
    "math.exp(-1)"
   ]
  },
  {
   "cell_type": "code",
   "execution_count": 5,
   "metadata": {},
   "outputs": [
    {
     "name": "stdout",
     "output_type": "stream",
     "text": [
      "<class 'module'>\n"
     ]
    }
   ],
   "source": [
    "import math\n",
    "print(type(math))"
   ]
  },
  {
   "cell_type": "code",
   "execution_count": 7,
   "metadata": {},
   "outputs": [
    {
     "name": "stdout",
     "output_type": "stream",
     "text": [
      "Overwriting demo.txt\n"
     ]
    }
   ],
   "source": [
    "%%writefile demo.txt  \n",
    "This is python\n",
    "This is java"
   ]
  },
  {
   "cell_type": "code",
   "execution_count": 8,
   "metadata": {},
   "outputs": [
    {
     "name": "stdout",
     "output_type": "stream",
     "text": [
      "Writing mymodule.py\n"
     ]
    }
   ],
   "source": [
    "%%writefile mymodule.py\n",
    "def sum(a,b):\n",
    "    print(\"Addition:\",a+b)\n",
    "def sub(a,b):\n",
    "    print(\"Substraction:\",a-b)\n",
    "def mul(a,b):\n",
    "    print(\"Multiplication:\",a*b)\n",
    "def div(a,b):\n",
    "    print(\"Division:\",a/b)"
   ]
  },
  {
   "cell_type": "code",
   "execution_count": 9,
   "metadata": {},
   "outputs": [
    {
     "name": "stdout",
     "output_type": "stream",
     "text": [
      "Addition: 60\n",
      "Division: 0.6666666666666666\n",
      "Multiplication: 200\n"
     ]
    }
   ],
   "source": [
    "import mymodule\n",
    "dir(mymodule)\n",
    "mymodule.sum(20,40)\n",
    "mymodule.div(10,15)\n",
    "mymodule.mul(10,20)"
   ]
  },
  {
   "cell_type": "code",
   "execution_count": 10,
   "metadata": {},
   "outputs": [
    {
     "name": "stdout",
     "output_type": "stream",
     "text": [
      "Addition: 60\n"
     ]
    }
   ],
   "source": [
    "#sort form\n",
    "import mymodule as m\n",
    "dir(mymodule)\n",
    "m.sum(20,40)"
   ]
  },
  {
   "cell_type": "code",
   "execution_count": 12,
   "metadata": {},
   "outputs": [
    {
     "name": "stdout",
     "output_type": "stream",
     "text": [
      "Addition: 30\n",
      "Substraction: -30\n",
      "Multiplication: 40\n"
     ]
    }
   ],
   "source": [
    "from mymodule import sum,sub,mul\n",
    "sum(10,20)\n",
    "sub(10,40)\n",
    "mul(10,4)"
   ]
  },
  {
   "cell_type": "code",
   "execution_count": 13,
   "metadata": {},
   "outputs": [
    {
     "name": "stdout",
     "output_type": "stream",
     "text": [
      "Addition: 30\n",
      "Substraction: -30\n",
      "Multiplication: 40\n"
     ]
    }
   ],
   "source": [
    "from mymodule import *\n",
    "sum(10,20)\n",
    "sub(10,40)\n",
    "mul(10,4)"
   ]
  },
  {
   "cell_type": "code",
   "execution_count": 14,
   "metadata": {},
   "outputs": [
    {
     "name": "stdout",
     "output_type": "stream",
     "text": [
      "Addition: 30\n"
     ]
    }
   ],
   "source": [
    "from mymodule import sum as s\n",
    "s(10,20)"
   ]
  },
  {
   "cell_type": "code",
   "execution_count": 15,
   "metadata": {},
   "outputs": [
    {
     "data": {
      "text/plain": [
       "'D:\\\\T3=python-127'"
      ]
     },
     "execution_count": 15,
     "metadata": {},
     "output_type": "execute_result"
    }
   ],
   "source": [
    "import os\n",
    "os.getcwd()"
   ]
  },
  {
   "cell_type": "code",
   "execution_count": 16,
   "metadata": {},
   "outputs": [
    {
     "data": {
      "text/plain": [
       "'D:\\\\T3=python-127'"
      ]
     },
     "execution_count": 16,
     "metadata": {},
     "output_type": "execute_result"
    }
   ],
   "source": [
    "pwd()"
   ]
  },
  {
   "cell_type": "code",
   "execution_count": 16,
   "metadata": {},
   "outputs": [
    {
     "data": {
      "text/plain": [
       "'D:\\\\T3=python-127'"
      ]
     },
     "execution_count": 16,
     "metadata": {},
     "output_type": "execute_result"
    }
   ],
   "source": [
    "import os\n",
    "os.getcwd()\n",
    "os.chdir(\"D:\\\\T3=python-127\")\n",
    "os.getcwd()"
   ]
  },
  {
   "cell_type": "code",
   "execution_count": 17,
   "metadata": {},
   "outputs": [
    {
     "ename": "FileExistsError",
     "evalue": "[WinError 183] Cannot create a file when that file already exists: 'D:\\\\T3=python-127'",
     "output_type": "error",
     "traceback": [
      "\u001b[1;31m---------------------------------------------------------------------------\u001b[0m",
      "\u001b[1;31mFileExistsError\u001b[0m                           Traceback (most recent call last)",
      "\u001b[1;32m<ipython-input-17-471ec1e0dfb0>\u001b[0m in \u001b[0;36m<module>\u001b[1;34m\u001b[0m\n\u001b[0;32m      1\u001b[0m \u001b[1;32mimport\u001b[0m \u001b[0mos\u001b[0m\u001b[1;33m\u001b[0m\u001b[1;33m\u001b[0m\u001b[0m\n\u001b[1;32m----> 2\u001b[1;33m \u001b[0mos\u001b[0m\u001b[1;33m.\u001b[0m\u001b[0mmkdir\u001b[0m\u001b[1;33m(\u001b[0m\u001b[1;34m\"D:\\\\T3=python-127\"\u001b[0m\u001b[1;33m)\u001b[0m\u001b[1;33m\u001b[0m\u001b[1;33m\u001b[0m\u001b[0m\n\u001b[0m",
      "\u001b[1;31mFileExistsError\u001b[0m: [WinError 183] Cannot create a file when that file already exists: 'D:\\\\T3=python-127'"
     ]
    }
   ],
   "source": [
    "import os\n",
    "os.mkdir(\"D:\\\\T3=python-127\")"
   ]
  },
  {
   "cell_type": "markdown",
   "metadata": {},
   "source": [
    "# progrmm"
   ]
  },
  {
   "cell_type": "code",
   "execution_count": 19,
   "metadata": {},
   "outputs": [
    {
     "name": "stdout",
     "output_type": "stream",
     "text": [
      "Writing func_str.py\n"
     ]
    }
   ],
   "source": [
    "%%writefile func_str.py\n",
    "def fun(s):\n",
    "    print(\"Len:\",len(s))\n",
    "    print(\"Upper:\",s.upper())\n",
    "    print(\"Lower:\",s.lower())\n",
    "    print(\"capitalize:\",s.capitalize())\n",
    "    print(\"Title:\",s.title())\n",
    "    print(\"Isupper:\",s.isupper())\n",
    "    print(\"Islower:\",s.islower())\n",
    "    print(\"IsAlpha:\",s.isalpha())\n",
    "    print(\"Isdigit:\",s.isdigit())\n",
    "    print(\"Isalnum:\",s.isalnum())"
   ]
  },
  {
   "cell_type": "code",
   "execution_count": null,
   "metadata": {},
   "outputs": [],
   "source": [
    "import func_str as m\n",
    "s=input(\"Enter string:\")\n",
    "m.fun(s)"
   ]
  },
  {
   "cell_type": "markdown",
   "metadata": {},
   "source": [
    "# chap-8"
   ]
  },
  {
   "cell_type": "code",
   "execution_count": null,
   "metadata": {},
   "outputs": [],
   "source": [
    "\n",
    "** try: a block of code for error**\n",
    "** except: lets u handle the error**\n",
    "** else: lets u execute when their is no error**\n",
    "** finally: lets u execute the code, every time**"
   ]
  },
  {
   "cell_type": "code",
   "execution_count": 11,
   "metadata": {},
   "outputs": [
    {
     "name": "stdout",
     "output_type": "stream",
     "text": [
      "Exception occured\n",
      "finish\n"
     ]
    }
   ],
   "source": [
    "def div(a,b):\n",
    "    return(a/b)\n",
    "try:\n",
    "    print(div(5,0))\n",
    "except:\n",
    "    print(\"Exception occured\")\n",
    "finally:\n",
    "    print(\"finish\")"
   ]
  },
  {
   "cell_type": "code",
   "execution_count": 8,
   "metadata": {},
   "outputs": [
    {
     "name": "stdout",
     "output_type": "stream",
     "text": [
      "This is python\n",
      "This is java\n",
      "5\n",
      "1.6666666666666667\n",
      "list index out of range\n"
     ]
    }
   ],
   "source": [
    "try:\n",
    "    m=5\n",
    "    f=open(\"Demo.txt\",\"r\")\n",
    "    print(f.read())\n",
    "    print(m)\n",
    "    print(5/3)\n",
    "    l=[1,2,3]\n",
    "    l[100]\n",
    "except FileNotFoundError :\n",
    "    print(\"Exception File not found\")\n",
    "except NameError :\n",
    "    print(\"Exception \")\n",
    "except ZeroDivisionError :\n",
    "    print(\"Exception occured\")\n",
    "except Exception as e :\n",
    "    print(e)"
   ]
  },
  {
   "cell_type": "code",
   "execution_count": 18,
   "metadata": {},
   "outputs": [
    {
     "name": "stdout",
     "output_type": "stream",
     "text": [
      "name 'h' is not defined\n",
      "reset code\n"
     ]
    }
   ],
   "source": [
    "a=10\n",
    "b=0\n",
    "try:\n",
    "    d= a/h\n",
    "    print(d)\n",
    "except (NameError,ZeroDivisionError) as obj:\n",
    "    print(obj)\n",
    "print(\"reset code\")"
   ]
  },
  {
   "cell_type": "markdown",
   "metadata": {},
   "source": [
    "# Raise an exception\n"
   ]
  },
  {
   "cell_type": "code",
   "execution_count": 25,
   "metadata": {},
   "outputs": [
    {
     "ename": "TypeError",
     "evalue": "b should be int",
     "output_type": "error",
     "traceback": [
      "\u001b[1;31m---------------------------------------------------------------------------\u001b[0m",
      "\u001b[1;31mTypeError\u001b[0m                                 Traceback (most recent call last)",
      "\u001b[1;32m<ipython-input-25-6e691246c954>\u001b[0m in \u001b[0;36m<module>\u001b[1;34m\u001b[0m\n\u001b[0;32m      5\u001b[0m         \u001b[1;32mraise\u001b[0m \u001b[0mTypeError\u001b[0m\u001b[1;33m(\u001b[0m\u001b[1;34m\"b should be int\"\u001b[0m\u001b[1;33m)\u001b[0m\u001b[1;33m\u001b[0m\u001b[1;33m\u001b[0m\u001b[0m\n\u001b[0;32m      6\u001b[0m     \u001b[1;32mreturn\u001b[0m \u001b[0ma\u001b[0m\u001b[1;33m+\u001b[0m\u001b[0mb\u001b[0m\u001b[1;33m\u001b[0m\u001b[1;33m\u001b[0m\u001b[0m\n\u001b[1;32m----> 7\u001b[1;33m \u001b[0madd\u001b[0m\u001b[1;33m(\u001b[0m\u001b[1;36m10\u001b[0m\u001b[1;33m,\u001b[0m\u001b[1;34m\"abc\"\u001b[0m\u001b[1;33m)\u001b[0m\u001b[1;33m\u001b[0m\u001b[1;33m\u001b[0m\u001b[0m\n\u001b[0m",
      "\u001b[1;32m<ipython-input-25-6e691246c954>\u001b[0m in \u001b[0;36madd\u001b[1;34m(a, b)\u001b[0m\n\u001b[0;32m      3\u001b[0m         \u001b[1;32mraise\u001b[0m \u001b[0mTypeError\u001b[0m\u001b[1;33m(\u001b[0m\u001b[1;34m\"a should be int\"\u001b[0m\u001b[1;33m)\u001b[0m\u001b[1;33m\u001b[0m\u001b[1;33m\u001b[0m\u001b[0m\n\u001b[0;32m      4\u001b[0m     \u001b[1;32mif\u001b[0m \u001b[0mtype\u001b[0m\u001b[1;33m(\u001b[0m\u001b[0mb\u001b[0m\u001b[1;33m)\u001b[0m\u001b[1;33m==\u001b[0m\u001b[0mstr\u001b[0m\u001b[1;33m:\u001b[0m\u001b[1;33m\u001b[0m\u001b[1;33m\u001b[0m\u001b[0m\n\u001b[1;32m----> 5\u001b[1;33m         \u001b[1;32mraise\u001b[0m \u001b[0mTypeError\u001b[0m\u001b[1;33m(\u001b[0m\u001b[1;34m\"b should be int\"\u001b[0m\u001b[1;33m)\u001b[0m\u001b[1;33m\u001b[0m\u001b[1;33m\u001b[0m\u001b[0m\n\u001b[0m\u001b[0;32m      6\u001b[0m     \u001b[1;32mreturn\u001b[0m \u001b[0ma\u001b[0m\u001b[1;33m+\u001b[0m\u001b[0mb\u001b[0m\u001b[1;33m\u001b[0m\u001b[1;33m\u001b[0m\u001b[0m\n\u001b[0;32m      7\u001b[0m \u001b[0madd\u001b[0m\u001b[1;33m(\u001b[0m\u001b[1;36m10\u001b[0m\u001b[1;33m,\u001b[0m\u001b[1;34m\"abc\"\u001b[0m\u001b[1;33m)\u001b[0m\u001b[1;33m\u001b[0m\u001b[1;33m\u001b[0m\u001b[0m\n",
      "\u001b[1;31mTypeError\u001b[0m: b should be int"
     ]
    }
   ],
   "source": [
    "def add(a,b):\n",
    "    if type(a)==str:\n",
    "        raise TypeError(\"a should be int\")\n",
    "    if type(b)==str:\n",
    "        raise TypeError(\"b should be int\")\n",
    "    return a+b\n",
    "add(10,\"def\")"
   ]
  },
  {
   "cell_type": "code",
   "execution_count": 1,
   "metadata": {},
   "outputs": [],
   "source": [
    "class myerror(Exception):\n",
    "    def __init__(self,arg):\n",
    "        self.msg=arg"
   ]
  },
  {
   "cell_type": "code",
   "execution_count": 10,
   "metadata": {},
   "outputs": [
    {
     "ename": "myerror",
     "evalue": "Personalized mssg",
     "output_type": "error",
     "traceback": [
      "\u001b[1;31m---------------------------------------------------------------------------\u001b[0m",
      "\u001b[1;31mmyerror\u001b[0m                                   Traceback (most recent call last)",
      "\u001b[1;32m<ipython-input-10-15ace8b35935>\u001b[0m in \u001b[0;36m<module>\u001b[1;34m\u001b[0m\n\u001b[0;32m      5\u001b[0m         \u001b[1;32mraise\u001b[0m \u001b[0mTypeError\u001b[0m\u001b[1;33m(\u001b[0m\u001b[1;34m\"b should be int\"\u001b[0m\u001b[1;33m)\u001b[0m\u001b[1;33m\u001b[0m\u001b[1;33m\u001b[0m\u001b[0m\n\u001b[0;32m      6\u001b[0m     \u001b[1;32mreturn\u001b[0m \u001b[0ma\u001b[0m\u001b[1;33m+\u001b[0m\u001b[0mb\u001b[0m\u001b[1;33m\u001b[0m\u001b[1;33m\u001b[0m\u001b[0m\n\u001b[1;32m----> 7\u001b[1;33m \u001b[0madd\u001b[0m\u001b[1;33m(\u001b[0m\u001b[1;34m\"abc\"\u001b[0m\u001b[1;33m,\u001b[0m\u001b[1;34m\"def\"\u001b[0m\u001b[1;33m)\u001b[0m\u001b[1;33m\u001b[0m\u001b[1;33m\u001b[0m\u001b[0m\n\u001b[0m",
      "\u001b[1;32m<ipython-input-10-15ace8b35935>\u001b[0m in \u001b[0;36madd\u001b[1;34m(a, b)\u001b[0m\n\u001b[0;32m      1\u001b[0m \u001b[1;32mdef\u001b[0m \u001b[0madd\u001b[0m\u001b[1;33m(\u001b[0m\u001b[0ma\u001b[0m\u001b[1;33m,\u001b[0m\u001b[0mb\u001b[0m\u001b[1;33m)\u001b[0m\u001b[1;33m:\u001b[0m\u001b[1;33m\u001b[0m\u001b[1;33m\u001b[0m\u001b[0m\n\u001b[0;32m      2\u001b[0m     \u001b[1;32mif\u001b[0m \u001b[0mtype\u001b[0m\u001b[1;33m(\u001b[0m\u001b[0ma\u001b[0m\u001b[1;33m)\u001b[0m\u001b[1;33m==\u001b[0m\u001b[0mstr\u001b[0m\u001b[1;33m:\u001b[0m\u001b[1;33m\u001b[0m\u001b[1;33m\u001b[0m\u001b[0m\n\u001b[1;32m----> 3\u001b[1;33m         \u001b[1;32mraise\u001b[0m \u001b[0mmyerror\u001b[0m\u001b[1;33m(\u001b[0m\u001b[1;34m\"Personalized mssg\"\u001b[0m\u001b[1;33m)\u001b[0m\u001b[1;33m\u001b[0m\u001b[1;33m\u001b[0m\u001b[0m\n\u001b[0m\u001b[0;32m      4\u001b[0m     \u001b[1;32mif\u001b[0m \u001b[0mtype\u001b[0m\u001b[1;33m(\u001b[0m\u001b[0mb\u001b[0m\u001b[1;33m)\u001b[0m\u001b[1;33m==\u001b[0m\u001b[0mstr\u001b[0m\u001b[1;33m:\u001b[0m\u001b[1;33m\u001b[0m\u001b[1;33m\u001b[0m\u001b[0m\n\u001b[0;32m      5\u001b[0m         \u001b[1;32mraise\u001b[0m \u001b[0mTypeError\u001b[0m\u001b[1;33m(\u001b[0m\u001b[1;34m\"b should be int\"\u001b[0m\u001b[1;33m)\u001b[0m\u001b[1;33m\u001b[0m\u001b[1;33m\u001b[0m\u001b[0m\n",
      "\u001b[1;31mmyerror\u001b[0m: Personalized mssg"
     ]
    }
   ],
   "source": [
    "def add(a,b):\n",
    "    if type(a)==str:\n",
    "        raise myerror(\"Personalized mssg\")\n",
    "    if type(b)==str:\n",
    "        raise TypeError(\"b should be int\")\n",
    "    return a+b\n",
    "add(\"abc\",\"def\")"
   ]
  },
  {
   "cell_type": "code",
   "execution_count": 1,
   "metadata": {},
   "outputs": [],
   "source": [
    "class yashvi(Exception):\n",
    "    def __init__(self,arg):\n",
    "        self.msg=arg"
   ]
  },
  {
   "cell_type": "code",
   "execution_count": 7,
   "metadata": {},
   "outputs": [
    {
     "name": "stdout",
     "output_type": "stream",
     "text": [
      "Enter money10000\n",
      "Enter money9000\n",
      "Low balance\n"
     ]
    },
    {
     "ename": "yashvi",
     "evalue": "Balance is less than 2000",
     "output_type": "error",
     "traceback": [
      "\u001b[1;31m---------------------------------------------------------------------------\u001b[0m",
      "\u001b[1;31myashvi\u001b[0m                                    Traceback (most recent call last)",
      "\u001b[1;32m<ipython-input-7-ae647acd8a89>\u001b[0m in \u001b[0;36m<module>\u001b[1;34m\u001b[0m\n\u001b[0;32m     12\u001b[0m     \u001b[1;32mfinally\u001b[0m\u001b[1;33m:\u001b[0m\u001b[1;33m\u001b[0m\u001b[1;33m\u001b[0m\u001b[0m\n\u001b[0;32m     13\u001b[0m         \u001b[0mprint\u001b[0m\u001b[1;33m(\u001b[0m\u001b[1;34m\"Low balance\"\u001b[0m\u001b[1;33m)\u001b[0m\u001b[1;33m\u001b[0m\u001b[1;33m\u001b[0m\u001b[0m\n\u001b[1;32m---> 14\u001b[1;33m \u001b[0mcheckbalance\u001b[0m\u001b[1;33m(\u001b[0m\u001b[0mmoney\u001b[0m\u001b[1;33m,\u001b[0m\u001b[0mwithdraw\u001b[0m\u001b[1;33m)\u001b[0m\u001b[1;33m\u001b[0m\u001b[1;33m\u001b[0m\u001b[0m\n\u001b[0m",
      "\u001b[1;32m<ipython-input-7-ae647acd8a89>\u001b[0m in \u001b[0;36mcheckbalance\u001b[1;34m(a, b)\u001b[0m\n\u001b[0;32m      9\u001b[0m         \u001b[0mprint\u001b[0m\u001b[1;33m(\u001b[0m\u001b[0mbalance\u001b[0m\u001b[1;33m)\u001b[0m\u001b[1;33m\u001b[0m\u001b[1;33m\u001b[0m\u001b[0m\n\u001b[0;32m     10\u001b[0m     \u001b[1;32mexcept\u001b[0m \u001b[0mException\u001b[0m \u001b[1;32mas\u001b[0m \u001b[0me\u001b[0m \u001b[1;33m:\u001b[0m\u001b[1;33m\u001b[0m\u001b[1;33m\u001b[0m\u001b[0m\n\u001b[1;32m---> 11\u001b[1;33m         \u001b[1;32mraise\u001b[0m \u001b[1;33m(\u001b[0m\u001b[0me\u001b[0m\u001b[1;33m)\u001b[0m\u001b[1;33m\u001b[0m\u001b[1;33m\u001b[0m\u001b[0m\n\u001b[0m\u001b[0;32m     12\u001b[0m     \u001b[1;32mfinally\u001b[0m\u001b[1;33m:\u001b[0m\u001b[1;33m\u001b[0m\u001b[1;33m\u001b[0m\u001b[0m\n\u001b[0;32m     13\u001b[0m         \u001b[0mprint\u001b[0m\u001b[1;33m(\u001b[0m\u001b[1;34m\"Low balance\"\u001b[0m\u001b[1;33m)\u001b[0m\u001b[1;33m\u001b[0m\u001b[1;33m\u001b[0m\u001b[0m\n",
      "\u001b[1;32m<ipython-input-7-ae647acd8a89>\u001b[0m in \u001b[0;36mcheckbalance\u001b[1;34m(a, b)\u001b[0m\n\u001b[0;32m      6\u001b[0m     \u001b[1;32mtry\u001b[0m\u001b[1;33m:\u001b[0m\u001b[1;33m\u001b[0m\u001b[1;33m\u001b[0m\u001b[0m\n\u001b[0;32m      7\u001b[0m         \u001b[1;32mif\u001b[0m \u001b[0mbalance\u001b[0m\u001b[1;33m<=\u001b[0m\u001b[1;36m2000\u001b[0m\u001b[1;33m:\u001b[0m\u001b[1;33m\u001b[0m\u001b[1;33m\u001b[0m\u001b[0m\n\u001b[1;32m----> 8\u001b[1;33m             \u001b[1;32mraise\u001b[0m \u001b[0myashvi\u001b[0m\u001b[1;33m(\u001b[0m\u001b[1;34m\"Balance is less than 2000\"\u001b[0m\u001b[1;33m)\u001b[0m\u001b[1;33m\u001b[0m\u001b[1;33m\u001b[0m\u001b[0m\n\u001b[0m\u001b[0;32m      9\u001b[0m         \u001b[0mprint\u001b[0m\u001b[1;33m(\u001b[0m\u001b[0mbalance\u001b[0m\u001b[1;33m)\u001b[0m\u001b[1;33m\u001b[0m\u001b[1;33m\u001b[0m\u001b[0m\n\u001b[0;32m     10\u001b[0m     \u001b[1;32mexcept\u001b[0m \u001b[0mException\u001b[0m \u001b[1;32mas\u001b[0m \u001b[0me\u001b[0m \u001b[1;33m:\u001b[0m\u001b[1;33m\u001b[0m\u001b[1;33m\u001b[0m\u001b[0m\n",
      "\u001b[1;31myashvi\u001b[0m: Balance is less than 2000"
     ]
    }
   ],
   "source": [
    "#create a function checkbalance\n",
    "money=int(input(\"Enter money\"))\n",
    "withdraw= int(input(\"Enter money\"))\n",
    "def checkbalance(a,b):\n",
    "    balance =money-withdraw\n",
    "    try:\n",
    "        if balance<=2000:\n",
    "            raise yashvi(\"Balance is less than 2000\")\n",
    "        print(balance)\n",
    "    except Exception as e :\n",
    "        raise (e)\n",
    "    finally:\n",
    "        print(\"Low balance\")\n",
    "checkbalance(money,withdraw)"
   ]
  },
  {
   "cell_type": "code",
   "execution_count": 10,
   "metadata": {},
   "outputs": [],
   "source": [
    "class SyntaxError(Exception):\n",
    "    def __init__(self,arg):\n",
    "        self.msg=arg"
   ]
  },
  {
   "cell_type": "code",
   "execution_count": 11,
   "metadata": {},
   "outputs": [
    {
     "ename": "IndentationError",
     "evalue": "expected an indented block (<ipython-input-11-1f6635ea14fe>, line 3)",
     "output_type": "error",
     "traceback": [
      "\u001b[1;36m  File \u001b[1;32m\"<ipython-input-11-1f6635ea14fe>\"\u001b[1;36m, line \u001b[1;32m3\u001b[0m\n\u001b[1;33m    raise SyntaxError(\"Syntax erorrrrr\")\u001b[0m\n\u001b[1;37m    ^\u001b[0m\n\u001b[1;31mIndentationError\u001b[0m\u001b[1;31m:\u001b[0m expected an indented block\n"
     ]
    }
   ],
   "source": [
    "try:\n",
    "    def div(a,b):\n",
    "    raise SyntaxError(\"Syntax erorrrrr\")\n",
    "        return(a/b)\n",
    "\n",
    "except Expection as e:\n",
    "    print(e)"
   ]
  },
  {
   "cell_type": "code",
   "execution_count": 1,
   "metadata": {},
   "outputs": [
    {
     "name": "stdout",
     "output_type": "stream",
     "text": [
      "<class 'int'>\n",
      "<class 'str'>\n",
      "<class 'function'>\n",
      "<class 'module'>\n"
     ]
    }
   ],
   "source": [
    "x=42\n",
    "print(type(x))\n",
    "x=\"hello\"                                                  \n",
    "print(type(x))\n",
    "def z():\n",
    "    pass\n",
    "print(type(z))\n",
    "import math\n",
    "print(type(math))"
   ]
  },
  {
   "cell_type": "code",
   "execution_count": 2,
   "metadata": {
    "collapsed": true
   },
   "outputs": [
    {
     "ename": "SyntaxError",
     "evalue": "invalid syntax (<ipython-input-2-6429677f40bf>, line 6)",
     "output_type": "error",
     "traceback": [
      "\u001b[1;36m  File \u001b[1;32m\"<ipython-input-2-6429677f40bf>\"\u001b[1;36m, line \u001b[1;32m6\u001b[0m\n\u001b[1;33m    Body of method\u001b[0m\n\u001b[1;37m         ^\u001b[0m\n\u001b[1;31mSyntaxError\u001b[0m\u001b[1;31m:\u001b[0m invalid syntax\n"
     ]
    }
   ],
   "source": [
    "#SYNTAX\n",
    "class Classname:\n",
    "    def __init__(self):\n",
    "        self.variable_name =value\n",
    "        self.variable_name =\"value\"\n",
    "    def method_name(self):\n",
    "        Body of method\n",
    "        "
   ]
  },
  {
   "cell_type": "code",
   "execution_count": 1,
   "metadata": {},
   "outputs": [],
   "source": [
    "class Employee:\n",
    "    def __init__(self,name,age,salary):\n",
    "        self.name=name\n",
    "        self.age=age\n",
    "        self.salary=salary\n",
    "    def display(self):\n",
    "        print(self.name, self.age, self.salary)\n",
    "\n",
    "        "
   ]
  },
  {
   "cell_type": "code",
   "execution_count": 2,
   "metadata": {},
   "outputs": [
    {
     "name": "stdout",
     "output_type": "stream",
     "text": [
      "ABC 21 50000\n"
     ]
    }
   ],
   "source": [
    "emp1=Employee(\"ABC\",21,50000)\n",
    "emp1.display()"
   ]
  },
  {
   "cell_type": "code",
   "execution_count": 17,
   "metadata": {},
   "outputs": [],
   "source": [
    "class Employee:\n",
    "    no_of_leaves=5\n",
    "    def __init__(self,name,salary,role):\n",
    "        self.name=name\n",
    "        self.salary=salary\n",
    "        self.role=role\n",
    "    def printdetails(self):\n",
    "        print(\"Name\",self.name)\n",
    "        print(\"Salary\",self.salary)\n",
    "        print(\"Role\",self.role)"
   ]
  },
  {
   "cell_type": "code",
   "execution_count": 18,
   "metadata": {},
   "outputs": [
    {
     "name": "stdout",
     "output_type": "stream",
     "text": [
      "Name Yashvi\n",
      "Salary 3000\n",
      "Role ABC\n",
      "Name Vidhi\n",
      "Salary 5000\n",
      "Role XYZ\n"
     ]
    }
   ],
   "source": [
    "emp1=Employee(\"Yashvi\",3000,\"ABC\")\n",
    "emp2=Employee(\"Vidhi\",5000,\"XYZ\")\n",
    "emp1.printdetails()\n",
    "emp2.printdetails()"
   ]
  },
  {
   "cell_type": "code",
   "execution_count": 21,
   "metadata": {},
   "outputs": [
    {
     "name": "stdout",
     "output_type": "stream",
     "text": [
      "Address of self = 2167916472400\n",
      "Address of class obj = 2167916472400\n",
      "5\n",
      "Address of self = 2167916472064\n",
      "Address of class obj1 = 2167916472064\n",
      "9\n"
     ]
    }
   ],
   "source": [
    "class Check:\n",
    "    def __init__(self,m):\n",
    "        print(\"Address of self =\",id(self))\n",
    "        self.m=m\n",
    "obj=Check(5)\n",
    "print(\"Address of class obj =\",id(obj))\n",
    "print(obj.m)\n",
    "obj1=Check(9)\n",
    "print(\"Address of class obj1 =\",id(obj1))\n",
    "print(obj1.m)"
   ]
  },
  {
   "cell_type": "code",
   "execution_count": 23,
   "metadata": {},
   "outputs": [
    {
     "name": "stdout",
     "output_type": "stream",
     "text": [
      "50\n"
     ]
    }
   ],
   "source": [
    "class test:\n",
    "    def __init__(self):\n",
    "        self.value=50\n",
    "        self.show()\n",
    "    def show(self):\n",
    "        print(self.value)\n",
    "a=test()"
   ]
  },
  {
   "cell_type": "markdown",
   "metadata": {},
   "source": [
    "# static method"
   ]
  },
  {
   "cell_type": "code",
   "execution_count": 28,
   "metadata": {},
   "outputs": [
    {
     "name": "stdout",
     "output_type": "stream",
     "text": [
      "This is static method\n"
     ]
    }
   ],
   "source": [
    "class Scalar:\n",
    "    @staticmethod #decorator\n",
    "    def hello(self):\n",
    "        print(\"This is static method\")\n",
    "a=Scalar()\n",
    "a.hello(\"Yashvi\")"
   ]
  },
  {
   "cell_type": "code",
   "execution_count": 36,
   "metadata": {},
   "outputs": [
    {
     "name": "stdout",
     "output_type": "stream",
     "text": [
      "5 5 140703761049504 140703761049504\n",
      "10 5 140703761049664 140703761049504\n",
      "5\n",
      "10\n"
     ]
    }
   ],
   "source": [
    "class Account:\n",
    "    rate=5\n",
    "    def same_method(self):\n",
    "        print(self.rate,Account.rate,id(self.rate),id(Account.rate))\n",
    "        self.rate=10\n",
    "        print(self.rate,Account.rate,id(self.rate),id(Account.rate))\n",
    "a1=Account()   \n",
    "a2=Account()\n",
    "a1.same_method()\n",
    "print(Account.rate)\n",
    "print(a1.rate)"
   ]
  },
  {
   "cell_type": "code",
   "execution_count": 2,
   "metadata": {},
   "outputs": [
    {
     "name": "stdout",
     "output_type": "stream",
     "text": [
      "26 21\n",
      "They are different\n"
     ]
    }
   ],
   "source": [
    "class Person:\n",
    "    def __init__(self):\n",
    "        self.name=\"Harry\"\n",
    "        self.age=21\n",
    "    def update(self):\n",
    "        self.age=26\n",
    "    def compare(self,other):\n",
    "        print(self.age,other.age)\n",
    "        if self.age==other.age:\n",
    "            print(\"They are same\")\n",
    "        else:\n",
    "            print(\"They are different\")\n",
    "p1=Person()\n",
    "p2=Person()\n",
    "p1.update()\n",
    "p1.compare(p2)"
   ]
  },
  {
   "cell_type": "code",
   "execution_count": 7,
   "metadata": {},
   "outputs": [
    {
     "name": "stdout",
     "output_type": "stream",
     "text": [
      "This is non-parameterised constructor\n",
      "No of members : 5\n"
     ]
    }
   ],
   "source": [
    "class Family:\n",
    "    members=5\n",
    "    def __init__(self):\n",
    "        print(\"This is non-parameterised constructor\")\n",
    "    def show(self):\n",
    "        print(\"No of members :\",self.members)\n",
    "obj=Family()\n",
    "obj.show()"
   ]
  },
  {
   "cell_type": "code",
   "execution_count": 8,
   "metadata": {},
   "outputs": [
    {
     "name": "stdout",
     "output_type": "stream",
     "text": [
      "not done\n"
     ]
    }
   ],
   "source": [
    "class Assignment:\n",
    "    check=\"not done\"\n",
    "    def is_done(self):\n",
    "        print(self.check)\n",
    "obj=Assignment()\n",
    "obj.is_done()"
   ]
  },
  {
   "cell_type": "markdown",
   "metadata": {},
   "source": [
    "### destructor\n",
    "\n",
    "\n",
    "\n"
   ]
  },
  {
   "cell_type": "code",
   "execution_count": 14,
   "metadata": {},
   "outputs": [
    {
     "name": "stdout",
     "output_type": "stream",
     "text": [
      "ABC 21 50000\n"
     ]
    },
    {
     "ename": "NameError",
     "evalue": "name 'emp2' is not defined",
     "output_type": "error",
     "traceback": [
      "\u001b[1;31m---------------------------------------------------------------------------\u001b[0m",
      "\u001b[1;31mNameError\u001b[0m                                 Traceback (most recent call last)",
      "\u001b[1;32m<ipython-input-14-70567fd80e27>\u001b[0m in \u001b[0;36m<module>\u001b[1;34m\u001b[0m\n\u001b[0;32m     10\u001b[0m \u001b[0memp1\u001b[0m\u001b[1;33m.\u001b[0m\u001b[0mdisplay\u001b[0m\u001b[1;33m(\u001b[0m\u001b[1;33m)\u001b[0m\u001b[1;33m\u001b[0m\u001b[1;33m\u001b[0m\u001b[0m\n\u001b[0;32m     11\u001b[0m \u001b[1;32mdel\u001b[0m \u001b[0memp2\u001b[0m\u001b[1;33m\u001b[0m\u001b[1;33m\u001b[0m\u001b[0m\n\u001b[1;32m---> 12\u001b[1;33m \u001b[0memp2\u001b[0m\u001b[1;33m.\u001b[0m\u001b[0mdisplay\u001b[0m\u001b[1;33m(\u001b[0m\u001b[1;33m)\u001b[0m\u001b[1;33m\u001b[0m\u001b[1;33m\u001b[0m\u001b[0m\n\u001b[0m",
      "\u001b[1;31mNameError\u001b[0m: name 'emp2' is not defined"
     ]
    }
   ],
   "source": [
    "class Employee:\n",
    "    def __init__(self,name,age,salary):\n",
    "        self.name=name\n",
    "        self.age=age\n",
    "        self.salary=salary\n",
    "    def display(self):\n",
    "        print(self.name, self.age, self.salary)\n",
    "emp1=Employee(\"ABC\",21,50000)\n",
    "emp2=Employee(\"AC\",21,50000)\n",
    "emp1.display()\n",
    "del emp2\n",
    "emp2.display()"
   ]
  },
  {
   "cell_type": "code",
   "execution_count": 4,
   "metadata": {},
   "outputs": [
    {
     "name": "stdout",
     "output_type": "stream",
     "text": [
      "obj destroyed\n",
      "ABC 21 50000\n",
      "AC 21 50000\n",
      "obj destroyed\n"
     ]
    }
   ],
   "source": [
    "class Employee:\n",
    "    def __init__(self,name,age,salary):\n",
    "        self.name=name\n",
    "        self.age=age\n",
    "        self.salary=salary\n",
    "    def __del__(self):\n",
    "        print(\"obj destroyed\")\n",
    "    def display(self):\n",
    "        print(self.name, self.age, self.salary)\n",
    "        \n",
    "emp1=Employee(\"ABC\",21,50000)\n",
    "emp2=Employee(\"AC\",21,50000)\n",
    "emp1.display()\n",
    "emp2.display()\n",
    "del emp2\n",
    "   "
   ]
  },
  {
   "cell_type": "code",
   "execution_count": 4,
   "metadata": {},
   "outputs": [
    {
     "data": {
      "text/plain": [
       "'yes'"
      ]
     },
     "execution_count": 4,
     "metadata": {},
     "output_type": "execute_result"
    }
   ],
   "source": [
    "#class variable\n",
    "class mobile:\n",
    "    fp=\"yes\"\n",
    "    @classmethod\n",
    "    def show(cls):\n",
    "        print(cls.fp)\n",
    "realme=mobile()\n",
    "mobile.fp"
   ]
  },
  {
   "cell_type": "code",
   "execution_count": 5,
   "metadata": {},
   "outputs": [
    {
     "data": {
      "text/plain": [
       "'iphone'"
      ]
     },
     "execution_count": 5,
     "metadata": {},
     "output_type": "execute_result"
    }
   ],
   "source": [
    "#instance variable\n",
    "class mobile:\n",
    "    def __init__(self):\n",
    "        self.model=\"iphone\"\n",
    "    def show(self):\n",
    "        print(self.model)\n",
    "realme=mobile()\n",
    "realme.model"
   ]
  },
  {
   "cell_type": "code",
   "execution_count": 2,
   "metadata": {},
   "outputs": [
    {
     "name": "stdout",
     "output_type": "stream",
     "text": [
      "The name is  orange\n",
      "The name is  banana\n",
      "The name is  banana\n"
     ]
    }
   ],
   "source": [
    "class fruit:\n",
    "    name=\"orange\"\n",
    "    @classmethod\n",
    "    def printname(cls):\n",
    "        print(\"The name is \",cls.name)\n",
    "fruit.printname()\n",
    "apple=fruit()\n",
    "mango=fruit()\n",
    "fruit.name=\"banana\"\n",
    "apple.printname()\n",
    "apple.name=\"Mango\"\n",
    "apple.printname()\n"
   ]
  },
  {
   "cell_type": "code",
   "execution_count": 9,
   "metadata": {},
   "outputs": [
    {
     "name": "stdout",
     "output_type": "stream",
     "text": [
      "The book name is : The writer\n",
      "The book name is : The writers returns\n"
     ]
    }
   ],
   "source": [
    "#encapsulation\n",
    "#getter and setter methods\n",
    "class Library:\n",
    "    def __init__(self,id,name):\n",
    "        self.bookid=id\n",
    "        self.bookname=name\n",
    "    def setbookname(self,newbookname):\n",
    "        self.bookname=newbookname\n",
    "    def getbookname(self):\n",
    "        print(\"The book name is :\",self.bookname)\n",
    "book=Library(1,\"The writer\")\n",
    "book.getbookname()\n",
    "book.setbookname(\"The writers returns\")\n",
    "book.getbookname()"
   ]
  },
  {
   "cell_type": "markdown",
   "metadata": {},
   "source": [
    "#### Abstraction"
   ]
  },
  {
   "cell_type": "markdown",
   "metadata": {},
   "source": [
    "#### python generators"
   ]
  },
  {
   "cell_type": "code",
   "execution_count": 34,
   "metadata": {},
   "outputs": [
    {
     "name": "stdout",
     "output_type": "stream",
     "text": [
      "[0, 2, 4, 6, 8]\n",
      "0\n",
      "0 2 4 6 8 "
     ]
    }
   ],
   "source": [
    "#yeild\n",
    "def simple():\n",
    "    for i in range(10):\n",
    "        if i%2==0:\n",
    "            yield i\n",
    "x=simple()\n",
    "print(list(x))\n",
    "\n",
    "\n",
    "def simple():\n",
    "    for i in range(10):\n",
    "        if i%2==0:\n",
    "            return i\n",
    "x=simple()\n",
    "print(x)\n",
    "\n",
    "\n",
    "def simple():\n",
    "    for i in range(10):\n",
    "        if i%2==0:\n",
    "            yield i\n",
    "for i in simple():\n",
    "    print(i,end=\" \")\n"
   ]
  },
  {
   "cell_type": "code",
   "execution_count": 36,
   "metadata": {},
   "outputs": [
    {
     "name": "stdout",
     "output_type": "stream",
     "text": [
      "10\n",
      "1\n",
      "0\n",
      "[10, 20, 30, 40]\n",
      "10 20 30 40 <generator object fun at 0x0000027CCED61D60>\n",
      "(10, 20, 30, 40) "
     ]
    }
   ],
   "source": [
    "\n",
    "\n",
    "def fun():\n",
    "    return '10'\n",
    "    return '20'\n",
    "    return '30'\n",
    "    return '40'\n",
    "x=fun()\n",
    "print(x)\n",
    "for i in fun():\n",
    "    print(i)\n",
    "    \n",
    "    \n",
    "def fun():\n",
    "    yield 10\n",
    "    yield 20\n",
    "    yield 30\n",
    "    yield 40\n",
    "x=fun()\n",
    "print(list(x))\n",
    "for i in fun():\n",
    "    print(i,end=\" \")\n",
    "    \n",
    "    \n",
    "def fun():\n",
    "    yield 10,20,30,40\n",
    "x=fun()\n",
    "print(x)\n",
    "for i in fun():\n",
    "    print(i,end=\" \")"
   ]
  },
  {
   "cell_type": "code",
   "execution_count": 3,
   "metadata": {},
   "outputs": [
    {
     "name": "stdout",
     "output_type": "stream",
     "text": [
      "Delhi\n",
      "Mumbai\n",
      "Ahmedabad\n",
      "Kolkata\n",
      "Surat\n"
     ]
    }
   ],
   "source": [
    "def fun():\n",
    "    yield 'Delhi'\n",
    "    yield 'Mumbai'\n",
    "    yield 'Ahmedabad'\n",
    "    yield 'Kolkata'\n",
    "    yield 'Surat'\n",
    "city=fun()\n",
    "print(next(city))\n",
    "print(next(city))\n",
    "print(next(city))\n",
    "for i in city:\n",
    "    print(i)"
   ]
  },
  {
   "cell_type": "code",
   "execution_count": 9,
   "metadata": {},
   "outputs": [
    {
     "name": "stdout",
     "output_type": "stream",
     "text": [
      "ENter No15\n",
      "[15, 30, 45, 60, 75, 90, 105, 120, 135, 150]\n"
     ]
    }
   ],
   "source": [
    "#wap to print the table of the given no using genetor\n",
    "\n",
    "def fun():\n",
    "    a=int(input(\"ENter No\"))\n",
    "    for i in range(1,11):\n",
    "        yield a*i\n",
    "x=fun()\n",
    "print(list(x))"
   ]
  },
  {
   "cell_type": "code",
   "execution_count": 36,
   "metadata": {},
   "outputs": [
    {
     "name": "stdout",
     "output_type": "stream",
     "text": [
      "Enters Marks 1:15\n",
      "Enters Marks 2:12\n",
      "Enters Marks 3:13\n",
      "Enters Marks 4:14\n",
      "Enters Marks 5:16\n",
      "Branch is CSE\n",
      "Name is Yashvi\n",
      "Rollno is  127\n",
      "Yashvi\n",
      "Avg of marks Yashvi is 14.0\n"
     ]
    }
   ],
   "source": [
    "#wap to create a class student thier are 3 att branch rollno name consider branchas a class variable create a diffe methods name enter marks of 5 subjects\n",
    "#to create a disply fun that dispaly name rollno branch and also the marsk if its is avaible aslo claculatre the avg of all the marks\n",
    "class student:\n",
    "    branch=\"CSE\"\n",
    "    def __init__(self,name,rollno):\n",
    "        self.name=name\n",
    "        self.rollno=rollno\n",
    "    def marks(self):\n",
    "        self.marks=[]\n",
    "        for i in range(1,6):\n",
    "            self.marks.append(int(input(f\"Enters Marks {i}:\")))\n",
    "    def display(self):\n",
    "        print(\"Branch is\",student.branch)\n",
    "        print(\"Name is\", self.name)\n",
    "        print(\"Rollno is \",self.rollno)\n",
    "        if len(self.name)>0:\n",
    "            print(self.name)\n",
    "        else:\n",
    "            self.marks\n",
    "    def calavg(self):\n",
    "        sum=0 \n",
    "        for i in self.marks:\n",
    "                sum+=i\n",
    "        print(\"Avg of marks\",self.name,\"is\",sum/len(self.marks))\n",
    "x=student(\"Yashvi\",127)\n",
    "x.marks()\n",
    "x.display()\n",
    "x.calavg()\n"
   ]
  },
  {
   "cell_type": "code",
   "execution_count": 1,
   "metadata": {
    "collapsed": true
   },
   "outputs": [
    {
     "ename": "SyntaxError",
     "evalue": "invalid syntax (<ipython-input-1-d5d47c439562>, line 24)",
     "output_type": "error",
     "traceback": [
      "\u001b[1;36m  File \u001b[1;32m\"<ipython-input-1-d5d47c439562>\"\u001b[1;36m, line \u001b[1;32m24\u001b[0m\n\u001b[1;33m    self.c+=\u001b[0m\n\u001b[1;37m            ^\u001b[0m\n\u001b[1;31mSyntaxError\u001b[0m\u001b[1;31m:\u001b[0m invalid syntax\n"
     ]
    }
   ],
   "source": [
    "#wap to create class string and makes methods to uppercase lower case vowels concents words spaces and digits from the stong enrter by user\n",
    "class string:\n",
    "    def __init__(self):\n",
    "        self.u=0\n",
    "        self.l=0\n",
    "        self.sp=0\n",
    "        self.v=0\n",
    "        self.c=0\n",
    "        self.d=0\n",
    "        s=input(\"Enter string :\")\n",
    "    def chupper(self):\n",
    "        for i in s.upper():\n",
    "            self.u+=1\n",
    "    def chlower(self):\n",
    "        for i in s.lower():\n",
    "            self.l+=1\n",
    "    def check(self):\n",
    "        self.s=self.s.lower\n",
    "        for i in self.s:\n",
    "            if i=='a' or i=='e' or i=='i' or i=='o' or i=='u':\n",
    "                self.v+=1\n",
    "            if i.isaplha():\n",
    "                self.c+=\n",
    "    def digit(self):\n",
    "        for i in s.isdigit():\n",
    "            self.d+=1\n",
    "    \n",
    "        "
   ]
  },
  {
   "cell_type": "code",
   "execution_count": 1,
   "metadata": {},
   "outputs": [
    {
     "name": "stdout",
     "output_type": "stream",
     "text": [
      "enter balance: 5000\n",
      "\n",
      "        Hi how can I help you?\n",
      "        1. Press 1 to create pin\n",
      "        2. Press 2 to change pin\n",
      "        3. Press 3 to check balance\n",
      "        4. Press 4 to withdraw\n",
      "        5. Press 5 to deposite\n",
      "        6. Anything else to exit\n",
      "        1\n",
      "enter your pin: 1234\n",
      "Pin created successfully\n",
      "\n",
      "        Hi how can I help you?\n",
      "        1. Press 1 to create pin\n",
      "        2. Press 2 to change pin\n",
      "        3. Press 3 to check balance\n",
      "        4. Press 4 to withdraw\n",
      "        5. Press 5 to deposite\n",
      "        6. Anything else to exit\n",
      "        5\n",
      "enter the pin1234\n",
      "Enter the amount to deposite: 5000\n",
      "Deposite successful.balance is:  10000\n",
      "\n",
      "        Hi how can I help you?\n",
      "        1. Press 1 to create pin\n",
      "        2. Press 2 to change pin\n",
      "        3. Press 3 to check balance\n",
      "        4. Press 4 to withdraw\n",
      "        5. Press 5 to deposite\n",
      "        6. Anything else to exit\n",
      "        6\n"
     ]
    }
   ],
   "source": [
    "class Atm:\n",
    "    # constructor\n",
    "    def __init__(self):\n",
    "        self.pin=''\n",
    "        self.balance=int(input('enter balance: '))\n",
    "        self.menu()\n",
    "    \n",
    "    def menu(self):\n",
    "        user_input=input(\"\"\"\n",
    "        Hi how can I help you?\n",
    "        1. Press 1 to create pin\n",
    "        2. Press 2 to change pin\n",
    "        3. Press 3 to check balance\n",
    "        4. Press 4 to withdraw\n",
    "        5. Press 5 to deposite\n",
    "        6. Anything else to exit\n",
    "        \"\"\")\n",
    "        if user_input=='1':\n",
    "            self.create_pin()\n",
    "        elif user_input=='2':\n",
    "            self.change_pin()\n",
    "        elif user_input =='3':\n",
    "            self.check_balance()\n",
    "        elif user_input=='4':\n",
    "            self.withdraw()\n",
    "        elif user_input=='5':\n",
    "            self.deposite()\n",
    "        else:\n",
    "            exit()\n",
    "    \n",
    "    def create_pin(self):\n",
    "        user_pin=input('enter your pin: ')\n",
    "        self.pin=user_pin\n",
    "        user_balance=self.balance\n",
    "        self.balance=user_balance\n",
    "        print('Pin created successfully')\n",
    "        self.menu()\n",
    "    \n",
    "    def change_pin(self):\n",
    "        old_pin=input('Enter old pin: ')\n",
    "        if old_pin ==self.pin:\n",
    "            # let him change the pin\n",
    "            new_pin=input('Enter new pin: ')\n",
    "            self.pin=new_pin\n",
    "            print('Pin changed successful')\n",
    "        else:\n",
    "            print('Enter correct pin')\n",
    "        self.menu()\n",
    "    \n",
    "    def check_balance(self):\n",
    "        user_pin=input('Enter your pin: ')\n",
    "        if user_pin==self.pin:\n",
    "            print('your balance is: ',self.balance)\n",
    "        else:\n",
    "            print('Enter correct pin')\n",
    "        self.menu()\n",
    "    \n",
    "    def withdraw(self):\n",
    "        user_pin=input('enter the pin')\n",
    "        if user_pin==self.pin:\n",
    "            # allow to withdraw\n",
    "            amount=int(input('Enter the amount to withdraw: '))\n",
    "            if amount<=self.balance:\n",
    "                self.balance=self.balance-amount\n",
    "                print('Withdrawl successful.balance is: ',self.balance)\n",
    "            else:\n",
    "                print('Low Balance')\n",
    "        else:\n",
    "            print('Enter correct pin')\n",
    "        self.menu()\n",
    "        \n",
    "    def deposite(self):\n",
    "        user_pin=input('enter the pin')\n",
    "        if user_pin==self.pin:\n",
    "            amountDe=int(input('Enter the amount to deposite: '))\n",
    "            self.balance=self.balance+amountDe\n",
    "            print('Deposite successful.balance is: ',self.balance)\n",
    "        else:\n",
    "            print('Enter correct pin')\n",
    "        self.menu()\n",
    "x=Atm()\n",
    "    "
   ]
  },
  {
   "cell_type": "code",
   "execution_count": 6,
   "metadata": {},
   "outputs": [
    {
     "name": "stdout",
     "output_type": "stream",
     "text": [
      "Enter Code of products:12\n",
      "Enter Price of Products500\n",
      "Enter Code of products:2\\\n",
      "Enter Price of Products200\n",
      "Enter Code of products:30\n",
      "Enter Price of Products500\n",
      "item code \t item price\n",
      "12 \t 500\n",
      "2\\ \t 200\n",
      "30 \t 500\n",
      "Enter Code12\n",
      "Enter Quantity2\n",
      "Bill is 1000\n"
     ]
    }
   ],
   "source": [
    "#wap that has which keeps records of code and price of each products display the menu all products to user and prompmt \n",
    "#him to enter the quantity of each item generate a bill and display total amount\n",
    "class store:\n",
    "    def __init__(self,n):\n",
    "        self.item_code=[]\n",
    "        self.price=[]\n",
    "        self.n=n\n",
    "    def get_data(self):\n",
    "        for i in range(self.n):\n",
    "            item=input(\"Enter Code of products:\")\n",
    "            price=int(input(\"Enter Price of Products\"))\n",
    "            self.item_code.append(item)\n",
    "            self.price.append(price)\n",
    "    def display(self):\n",
    "        print(\"item code \\t item price\")\n",
    "        for i in range(self.n):\n",
    "\n",
    "            print(self.item_code[i],\"\\t\",self.price[i])\n",
    "    def calbill(self):\n",
    "        self.display()\n",
    "        bill=0\n",
    "        item=(input(\"Enter Code\"))\n",
    "        qua=int(input(\"Enter Quantity\"))\n",
    "        for i  in range(self.n):\n",
    "            if self.item_code[i]==item:\n",
    "                bill=self.price[i]*qua\n",
    "        print(\"Bill is\",bill)\n",
    "        \n",
    "s=store(3)\n",
    "s.get_data()\n",
    "s.calbill()"
   ]
  },
  {
   "cell_type": "code",
   "execution_count": null,
   "metadata": {},
   "outputs": [],
   "source": []
  }
 ],
 "metadata": {
  "kernelspec": {
   "display_name": "Python 3",
   "language": "python",
   "name": "python3"
  },
  "language_info": {
   "codemirror_mode": {
    "name": "ipython",
    "version": 3
   },
   "file_extension": ".py",
   "mimetype": "text/x-python",
   "name": "python",
   "nbconvert_exporter": "python",
   "pygments_lexer": "ipython3",
   "version": "3.8.5"
  }
 },
 "nbformat": 4,
 "nbformat_minor": 4
}
