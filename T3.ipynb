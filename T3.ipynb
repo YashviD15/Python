{
 "cells": [
  {
   "cell_type": "markdown",
   "metadata": {},
   "source": [
    "# ch-6"
   ]
  },
  {
   "cell_type": "code",
   "execution_count": 50,
   "metadata": {},
   "outputs": [
    {
     "name": "stdout",
     "output_type": "stream",
     "text": [
      "This is python hellooo yashviii shah hiii shahhhhh\n",
      "This is python hellooo yashviii shah hiii shahhhhh\n"
     ]
    }
   ],
   "source": [
    "#read only\n",
    "f=open(\"Demo.txt\",\"r\")\n",
    "print(f.read())\n",
    " *or\n",
    "with open(\"Demo.txt\",\"r\") as f:\n",
    "    print(f.read())"
   ]
  },
  {
   "cell_type": "code",
   "execution_count": 19,
   "metadata": {},
   "outputs": [],
   "source": [
    "#read+ write\n",
    "f=open(\"Demo.txt\",\"r+\")\n",
    "f.write(\"This is java\")\n",
    "f.close()"
   ]
  },
  {
   "cell_type": "code",
   "execution_count": 20,
   "metadata": {},
   "outputs": [],
   "source": [
    "#append at last append+write\n",
    "f=open(\"Demo.txt\",\"a+\")\n",
    "f.write(\"This is java\")\n",
    "f.close()"
   ]
  },
  {
   "cell_type": "code",
   "execution_count": 21,
   "metadata": {},
   "outputs": [],
   "source": [
    "#write+read both\n",
    "f=open(\"Demo.txt\",\"w+\")\n",
    "f.write(\"This is java\")\n",
    "f.close()"
   ]
  },
  {
   "cell_type": "code",
   "execution_count": 22,
   "metadata": {},
   "outputs": [
    {
     "ename": "UnsupportedOperation",
     "evalue": "not writable",
     "output_type": "error",
     "traceback": [
      "\u001b[1;31m---------------------------------------------------------------------------\u001b[0m",
      "\u001b[1;31mUnsupportedOperation\u001b[0m                      Traceback (most recent call last)",
      "\u001b[1;32m<ipython-input-22-28f52a291785>\u001b[0m in \u001b[0;36m<module>\u001b[1;34m\u001b[0m\n\u001b[0;32m      1\u001b[0m \u001b[0mf\u001b[0m\u001b[1;33m=\u001b[0m\u001b[0mopen\u001b[0m\u001b[1;33m(\u001b[0m\u001b[1;34m\"Demo.txt\"\u001b[0m\u001b[1;33m,\u001b[0m\u001b[1;34m\"r\"\u001b[0m\u001b[1;33m)\u001b[0m\u001b[1;33m\u001b[0m\u001b[1;33m\u001b[0m\u001b[0m\n\u001b[1;32m----> 2\u001b[1;33m \u001b[0mf\u001b[0m\u001b[1;33m.\u001b[0m\u001b[0mwrite\u001b[0m\u001b[1;33m(\u001b[0m\u001b[1;34m\"This is java\"\u001b[0m\u001b[1;33m)\u001b[0m\u001b[1;33m\u001b[0m\u001b[1;33m\u001b[0m\u001b[0m\n\u001b[0m\u001b[0;32m      3\u001b[0m \u001b[0mf\u001b[0m\u001b[1;33m.\u001b[0m\u001b[0mclose\u001b[0m\u001b[1;33m(\u001b[0m\u001b[1;33m)\u001b[0m\u001b[1;33m\u001b[0m\u001b[1;33m\u001b[0m\u001b[0m\n",
      "\u001b[1;31mUnsupportedOperation\u001b[0m: not writable"
     ]
    }
   ],
   "source": [
    "#only read cant write error\n",
    "f=open(\"Demo.txt\",\"r\")\n",
    "f.write(\"This is java\")\n",
    "f.close()"
   ]
  },
  {
   "cell_type": "code",
   "execution_count": 23,
   "metadata": {
    "scrolled": true
   },
   "outputs": [
    {
     "name": "stdout",
     "output_type": "stream",
     "text": [
      "14\n",
      "\n",
      "0\n",
      "this is python\n"
     ]
    }
   ],
   "source": [
    "f=open(\"Demo.txt\",\"r+\")\n",
    "f.write(\"this is python\")\n",
    "print(f.tell())\n",
    "print(f.read())\n",
    "f.seek(0)\n",
    "print(f.tell())\n",
    "print(f.read())\n",
    "f.close()"
   ]
  },
  {
   "cell_type": "code",
   "execution_count": 34,
   "metadata": {},
   "outputs": [
    {
     "name": "stdout",
     "output_type": "stream",
     "text": [
      "This \n",
      "is python \n",
      "hel\n"
     ]
    }
   ],
   "source": [
    "#Read acording to index given\n",
    "#space included\n",
    "f=open(\"Demo.txt\",\"r\")\n",
    "print(f.read(5))\n",
    "print(f.read(10))\n",
    "print(f.read(3))\n"
   ]
  },
  {
   "cell_type": "code",
   "execution_count": 42,
   "metadata": {},
   "outputs": [
    {
     "name": "stdout",
     "output_type": "stream",
     "text": [
      "This \n",
      "is Pyth\n",
      "on1\n",
      "\n",
      "This is Python2\n",
      "\n",
      "This is Python3\n",
      "\n"
     ]
    }
   ],
   "source": [
    "#Readline with and without index both\n",
    "f=open(\"Demo1.txt\",\"r\")\n",
    "print(f.readline(5))\n",
    "print(f.readline(7))\n",
    "print(f.readline(10))\n",
    "print(f.readline(20))\n",
    "print(f.readline(50))"
   ]
  },
  {
   "cell_type": "code",
   "execution_count": 49,
   "metadata": {},
   "outputs": [
    {
     "name": "stdout",
     "output_type": "stream",
     "text": [
      "['This is Python1\\n', 'This is Python2\\n', 'This is Python3\\n']\n"
     ]
    }
   ],
   "source": [
    "#Readline inside list \n",
    "f=open(\"Demo1.txt\",\"r\")\n",
    "print(f.readlines(35))"
   ]
  },
  {
   "cell_type": "code",
   "execution_count": 54,
   "metadata": {},
   "outputs": [],
   "source": [
    "#for write\n",
    "#write() writelines()\n",
    "f=open(\"b4.txt\",\"w\")\n",
    "f.write(\"This is text1 data\")\n",
    "f.close()\n"
   ]
  },
  {
   "cell_type": "code",
   "execution_count": 56,
   "metadata": {},
   "outputs": [],
   "source": [
    "#by default close first\n",
    "with open(\"b4.txt\",\"w\") as f:\n",
    "    f.write(\"Alternate mode\")"
   ]
  },
  {
   "cell_type": "code",
   "execution_count": 59,
   "metadata": {},
   "outputs": [],
   "source": [
    "#writelines()\n",
    "f=open(\"b4.txt\",\"w\")\n",
    "l=[\"A\",\"B\",\"C\",\"D\"]\n",
    "f.writelines(l)\n",
    "f.close()"
   ]
  },
  {
   "cell_type": "code",
   "execution_count": 5,
   "metadata": {},
   "outputs": [
    {
     "name": "stdout",
     "output_type": "stream",
     "text": [
      "Enter name :Y\n",
      "Enter name :H\n",
      "Enter name :V\n",
      "Enter name :S\n",
      "Enter name :P\n"
     ]
    }
   ],
   "source": [
    "#write the student name in files\n",
    "f=open(\"user.txt\",\"w+\")\n",
    "for i in range(5):\n",
    "    name=input(\"Enter name :\")\n",
    "    f.write(name+\"\\n\")\n",
    "f.close()"
   ]
  },
  {
   "cell_type": "code",
   "execution_count": 3,
   "metadata": {},
   "outputs": [
    {
     "name": "stdout",
     "output_type": "stream",
     "text": [
      "Enter name :h\n",
      "Enter name :j\n",
      "Enter name :k\n",
      "Enter name :d\n",
      "Enter name :\n"
     ]
    }
   ],
   "source": [
    "f=open(\"user.txt\",\"r+\")\n",
    "for i in range(5):\n",
    "    name=input(\"Enter name :\")\n",
    "    f.writelines(name+\"\\n\")\n",
    "f.close()"
   ]
  },
  {
   "cell_type": "code",
   "execution_count": 11,
   "metadata": {},
   "outputs": [
    {
     "name": "stdout",
     "output_type": "stream",
     "text": [
      "False\n",
      "Demo.txt\n",
      "r\n",
      "True\n",
      "False\n",
      "\n",
      "False\n",
      "Demo.txt\n",
      "r+\n",
      "True\n",
      "True\n",
      "\n",
      "False\n",
      "Demo.txt\n",
      "a+\n",
      "True\n",
      "True\n",
      "\n",
      "False\n",
      "Demo.txt\n",
      "w\n",
      "False\n",
      "True\n"
     ]
    }
   ],
   "source": [
    "#\n",
    "f=open(\"Demo.txt\",\"r\")\n",
    "print(f.closed)\n",
    "print(f.name)\n",
    "print(f.mode)\n",
    "print(f.readable())\n",
    "print(f.writable())\n",
    "print()\n",
    "\n",
    "f=open(\"Demo.txt\",\"r+\")\n",
    "print(f.closed)\n",
    "print(f.name)\n",
    "print(f.mode)\n",
    "print(f.readable())\n",
    "print(f.writable())\n",
    "print()\n",
    "\n",
    "\n",
    "f=open(\"Demo.txt\",\"a+\")\n",
    "print(f.closed)\n",
    "print(f.name)\n",
    "print(f.mode)\n",
    "print(f.readable())\n",
    "print(f.writable())\n",
    "print()\n",
    "\n",
    "f=open(\"Demo.txt\",\"w\")\n",
    "print(f.closed)\n",
    "print(f.name)\n",
    "print(f.mode)\n",
    "print(f.readable())\n",
    "print(f.writable())"
   ]
  },
  {
   "cell_type": "code",
   "execution_count": 7,
   "metadata": {},
   "outputs": [],
   "source": [
    "#wap to copy the content of one file to another file r or r+\n",
    "f=open(\"f1.txt\",\"r+\")\n",
    "f1=open(\"f2.txt\",\"w+\")\n",
    "f1.write(f.read())\n",
    "f.close()\n",
    "f1.close()"
   ]
  },
  {
   "cell_type": "code",
   "execution_count": 13,
   "metadata": {},
   "outputs": [],
   "source": [
    "#write a dict to file in python\n",
    "details={\"Name\":\"Yashvi\",\"Age\":20, \"Degree\":\"CSE\", \"University\":\"LJU\"}\n",
    "f=open(\"data.txt\",\"w\")\n",
    "for k,v in details.items():\n",
    "    f.write(str(k)+\":\"+str(v)+\"\\n\")\n",
    "f.close()\n"
   ]
  },
  {
   "cell_type": "code",
   "execution_count": 14,
   "metadata": {},
   "outputs": [],
   "source": [
    "#wap to copy the content of one file to another file in uppercase\n",
    "f=open(\"f1.txt\",\"r+\")\n",
    "f1=open(\"f2.txt\",\"w+\")\n",
    "f1.write(f.read().upper())\n",
    "f.close()\n",
    "f1.close()"
   ]
  },
  {
   "cell_type": "code",
   "execution_count": 22,
   "metadata": {},
   "outputs": [],
   "source": [
    "#wap to copy the content of one file to another file in reverse order\n",
    "f=open(\"f1.txt\",\"r+\")\n",
    "f1=open(\"f2.txt\",\"w+\")\n",
    "f1.writelines(reversed(f.read()))\n",
    "f.close()\n",
    "f1.close()"
   ]
  },
  {
   "cell_type": "code",
   "execution_count": 29,
   "metadata": {},
   "outputs": [],
   "source": [
    "#wap to copy the content of one file to another file and reversed line\n",
    "f=open(\"data.txt\",\"r\")\n",
    "f1=open(\"new.txt\",\"w\")\n",
    "a=f.readlines()\n",
    "f1.writelines(a[::-1])\n",
    "f.close()\n",
    "f1.close()"
   ]
  },
  {
   "cell_type": "code",
   "execution_count": 41,
   "metadata": {},
   "outputs": [
    {
     "name": "stdout",
     "output_type": "stream",
     "text": [
      "Enter Line :1\n",
      "Bishop’s much loved and much discussed ode to loss, which Claudia Roth Pierpont called “a \n",
      "\n"
     ]
    }
   ],
   "source": [
    "#wap to read specific line form a file\n",
    "d=int(input(\"Enter Line :\"))\n",
    "f=open(\"new.txt\",\"r+\",encoding='utf-8')\n",
    "l=f.readlines()\n",
    "print(l[d-1])"
   ]
  },
  {
   "cell_type": "code",
   "execution_count": 50,
   "metadata": {},
   "outputs": [],
   "source": [
    "#wap to copy the odds lines from one file to nother file\n",
    "f=open(\"new.txt\",\"r+\",encoding='utf-8')\n",
    "f1=open(\"new1.txt\",\"w\",encoding='utf-8')\n",
    "l=f.readlines()\n",
    "f1.writelines(l[0::2])\n",
    "f.close()\n",
    "f1.close()"
   ]
  },
  {
   "cell_type": "markdown",
   "metadata": {},
   "source": [
    "# pager progrmmm"
   ]
  },
  {
   "cell_type": "code",
   "execution_count": null,
   "metadata": {},
   "outputs": [],
   "source": [
    "text =open(input(\"Enter file name:\"))\n",
    "num_line=5\n",
    "for index,line in enumerate(text,1):\n",
    "    print(line)\n",
    "    if index%num_line==0:\n",
    "        x=input(\"Enter any key to continue press a to quit\")\n",
    "        if x.lower()=='q':\n",
    "            break\n",
    "        else:\n",
    "            continue"
   ]
  },
  {
   "cell_type": "code",
   "execution_count": null,
   "metadata": {},
   "outputs": [],
   "source": [
    "#wap to copy the content of two files in single fine\n",
    "f=open(\"new1.txt\")\n",
    "f1=open(\"Demo.txt\")\n",
    "f2=open(\"Combo.txt\",\"w+\")\n",
    "f2.writelines()"
   ]
  },
  {
   "cell_type": "code",
   "execution_count": 6,
   "metadata": {},
   "outputs": [],
   "source": [
    "#wap to display all the line of files except those that has#sign \n",
    "f1=open(\"f1.txt\",\"r\")\n",
    "f2=open(\"f2.txt\",\"w\")\n",
    "while True:\n",
    "    a=f1.readline()\n",
    "    if len(a)!=0:\n",
    "        if a[0]==\"#\":\n",
    "            continue\n",
    "        else:\n",
    "            if \"#\" in a:\n",
    "                for i in range(1,len(a)):\n",
    "                    if a[i]==\"#\":\n",
    "                        f2.write(a[0:i]+\"\\n\")\n",
    "            else:\n",
    "                 f2.write(a)\n",
    "    else:\n",
    "        break\n",
    "f1.close()\n",
    "f2.close()"
   ]
  },
  {
   "cell_type": "code",
   "execution_count": 15,
   "metadata": {},
   "outputs": [
    {
     "name": "stdout",
     "output_type": "stream",
     "text": [
      "Line 1\n",
      "Position  9\n",
      "Line 4\n",
      "Position  9\n"
     ]
    }
   ],
   "source": [
    "#wap to compare to files and find the differnce in line and character\n",
    "f=open(\"f3.txt\")\n",
    "f1=open(\"user.txt\",\"r\")\n",
    "a= f.readlines()\n",
    "b=f1.readlines()\n",
    "for i in range(len(a)):\n",
    "    for j in range(len(a[i])):\n",
    "        if a[i][j]!=b[i][j]:\n",
    "            print(\"Line\",i+1)\n",
    "            print(\"Position \",j+1)"
   ]
  },
  {
   "cell_type": "code",
   "execution_count": 19,
   "metadata": {},
   "outputs": [
    {
     "name": "stdout",
     "output_type": "stream",
     "text": [
      "This is pyhton\n",
      "This is python\n",
      "This is Java\n",
      "This is Java\n",
      "\n",
      "Words 12\n",
      "Space 8\n",
      "Char 48\n"
     ]
    }
   ],
   "source": [
    "#wap to count word characters and spaces from the text file\n",
    "f=open(\"f3.txt\")\n",
    "a=f.read()\n",
    "w=0\n",
    "c=0\n",
    "s=0\n",
    "s=a.split()\n",
    "print(a)\n",
    "print(\"Words\",len(s))\n",
    "print(\"Space\",a.count(\" \"))\n",
    "print(\"Char\",len(a)-a.count(\" \"))\n"
   ]
  },
  {
   "cell_type": "code",
   "execution_count": null,
   "metadata": {},
   "outputs": [],
   "source": [
    "f=open(\"f3.txt\")\n",
    "a=f.readline()\n",
    "b=f.readlines(18)\n",
    "ch3=f.read(10)\n",
    "print(b)\n",
    "print(ch3)\n",
    "print(f.readline())\n",
    "f.close()"
   ]
  }
 ],
 "metadata": {
  "kernelspec": {
   "display_name": "Python 3",
   "language": "python",
   "name": "python3"
  },
  "language_info": {
   "codemirror_mode": {
    "name": "ipython",
    "version": 3
   },
   "file_extension": ".py",
   "mimetype": "text/x-python",
   "name": "python",
   "nbconvert_exporter": "python",
   "pygments_lexer": "ipython3",
   "version": "3.8.5"
  }
 },
 "nbformat": 4,
 "nbformat_minor": 4
}
