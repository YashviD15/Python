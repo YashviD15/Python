{
 "cells": [
  {
   "cell_type": "markdown",
   "metadata": {},
   "source": [
    "# ch-6"
   ]
  },
  {
   "cell_type": "code",
   "execution_count": 50,
   "metadata": {},
   "outputs": [
    {
     "name": "stdout",
     "output_type": "stream",
     "text": [
      "This is python hellooo yashviii shah hiii shahhhhh\n",
      "This is python hellooo yashviii shah hiii shahhhhh\n"
     ]
    }
   ],
   "source": [
    "#read only\n",
    "f=open(\"Demo.txt\",\"r\")\n",
    "print(f.read())\n",
    " *or\n",
    "with open(\"Demo.txt\",\"r\") as f:\n",
    "    print(f.read())"
   ]
  },
  {
   "cell_type": "code",
   "execution_count": 19,
   "metadata": {},
   "outputs": [],
   "source": [
    "#read+ write\n",
    "f=open(\"Demo.txt\",\"r+\")\n",
    "f.write(\"This is java\")\n",
    "f.close()"
   ]
  },
  {
   "cell_type": "code",
   "execution_count": 20,
   "metadata": {},
   "outputs": [],
   "source": [
    "#append at last append+write\n",
    "f=open(\"Demo.txt\",\"a+\")\n",
    "f.write(\"This is java\")\n",
    "f.close()"
   ]
  },
  {
   "cell_type": "code",
   "execution_count": 21,
   "metadata": {},
   "outputs": [],
   "source": [
    "#write+read both\n",
    "f=open(\"Demo.txt\",\"w+\")\n",
    "f.write(\"This is java\")\n",
    "f.close()"
   ]
  },
  {
   "cell_type": "code",
   "execution_count": 22,
   "metadata": {},
   "outputs": [
    {
     "ename": "UnsupportedOperation",
     "evalue": "not writable",
     "output_type": "error",
     "traceback": [
      "\u001b[1;31m---------------------------------------------------------------------------\u001b[0m",
      "\u001b[1;31mUnsupportedOperation\u001b[0m                      Traceback (most recent call last)",
      "\u001b[1;32m<ipython-input-22-28f52a291785>\u001b[0m in \u001b[0;36m<module>\u001b[1;34m\u001b[0m\n\u001b[0;32m      1\u001b[0m \u001b[0mf\u001b[0m\u001b[1;33m=\u001b[0m\u001b[0mopen\u001b[0m\u001b[1;33m(\u001b[0m\u001b[1;34m\"Demo.txt\"\u001b[0m\u001b[1;33m,\u001b[0m\u001b[1;34m\"r\"\u001b[0m\u001b[1;33m)\u001b[0m\u001b[1;33m\u001b[0m\u001b[1;33m\u001b[0m\u001b[0m\n\u001b[1;32m----> 2\u001b[1;33m \u001b[0mf\u001b[0m\u001b[1;33m.\u001b[0m\u001b[0mwrite\u001b[0m\u001b[1;33m(\u001b[0m\u001b[1;34m\"This is java\"\u001b[0m\u001b[1;33m)\u001b[0m\u001b[1;33m\u001b[0m\u001b[1;33m\u001b[0m\u001b[0m\n\u001b[0m\u001b[0;32m      3\u001b[0m \u001b[0mf\u001b[0m\u001b[1;33m.\u001b[0m\u001b[0mclose\u001b[0m\u001b[1;33m(\u001b[0m\u001b[1;33m)\u001b[0m\u001b[1;33m\u001b[0m\u001b[1;33m\u001b[0m\u001b[0m\n",
      "\u001b[1;31mUnsupportedOperation\u001b[0m: not writable"
     ]
    }
   ],
   "source": [
    "#only read cant write error\n",
    "f=open(\"Demo.txt\",\"r\")\n",
    "f.write(\"This is java\")\n",
    "f.close()"
   ]
  },
  {
   "cell_type": "code",
   "execution_count": 23,
   "metadata": {
    "scrolled": true
   },
   "outputs": [
    {
     "name": "stdout",
     "output_type": "stream",
     "text": [
      "14\n",
      "\n",
      "0\n",
      "this is python\n"
     ]
    }
   ],
   "source": [
    "f=open(\"Demo.txt\",\"r+\")\n",
    "f.write(\"this is python\")\n",
    "print(f.tell())\n",
    "print(f.read())\n",
    "f.seek(0)\n",
    "print(f.tell())\n",
    "print(f.read())\n",
    "f.close()"
   ]
  },
  {
   "cell_type": "code",
   "execution_count": 34,
   "metadata": {},
   "outputs": [
    {
     "name": "stdout",
     "output_type": "stream",
     "text": [
      "This \n",
      "is python \n",
      "hel\n"
     ]
    }
   ],
   "source": [
    "#Read acording to index given\n",
    "#space included\n",
    "f=open(\"Demo.txt\",\"r\")\n",
    "print(f.read(5))\n",
    "print(f.read(10))\n",
    "print(f.read(3))\n"
   ]
  },
  {
   "cell_type": "code",
   "execution_count": 42,
   "metadata": {},
   "outputs": [
    {
     "name": "stdout",
     "output_type": "stream",
     "text": [
      "This \n",
      "is Pyth\n",
      "on1\n",
      "\n",
      "This is Python2\n",
      "\n",
      "This is Python3\n",
      "\n"
     ]
    }
   ],
   "source": [
    "#Readline with and without index both\n",
    "f=open(\"Demo1.txt\",\"r\")\n",
    "print(f.readline(5))\n",
    "print(f.readline(7))\n",
    "print(f.readline(10))\n",
    "print(f.readline(20))\n",
    "print(f.readline(50))"
   ]
  },
  {
   "cell_type": "code",
   "execution_count": 49,
   "metadata": {},
   "outputs": [
    {
     "name": "stdout",
     "output_type": "stream",
     "text": [
      "['This is Python1\\n', 'This is Python2\\n', 'This is Python3\\n']\n"
     ]
    }
   ],
   "source": [
    "#Readline inside list \n",
    "f=open(\"Demo1.txt\",\"r\")\n",
    "print(f.readlines(35))"
   ]
  },
  {
   "cell_type": "code",
   "execution_count": 54,
   "metadata": {},
   "outputs": [],
   "source": [
    "#for write\n",
    "#write() writelines()\n",
    "f=open(\"b4.txt\",\"w\")\n",
    "f.write(\"This is text1 data\")\n",
    "f.close()\n"
   ]
  },
  {
   "cell_type": "code",
   "execution_count": 56,
   "metadata": {},
   "outputs": [],
   "source": [
    "#by default close first\n",
    "with open(\"b4.txt\",\"w\") as f:\n",
    "    f.write(\"Alternate mode\")"
   ]
  },
  {
   "cell_type": "code",
   "execution_count": 59,
   "metadata": {},
   "outputs": [],
   "source": [
    "#writelines()\n",
    "f=open(\"b4.txt\",\"w\")\n",
    "l=[\"A\",\"B\",\"C\",\"D\"]\n",
    "f.writelines(l)\n",
    "f.close()"
   ]
  },
  {
   "cell_type": "code",
   "execution_count": 5,
   "metadata": {},
   "outputs": [
    {
     "name": "stdout",
     "output_type": "stream",
     "text": [
      "Enter name :Y\n",
      "Enter name :H\n",
      "Enter name :V\n",
      "Enter name :S\n",
      "Enter name :P\n"
     ]
    }
   ],
   "source": [
    "#write the student name in files\n",
    "f=open(\"user.txt\",\"w+\")\n",
    "for i in range(5):\n",
    "    name=input(\"Enter name :\")\n",
    "    f.write(name+\"\\n\")\n",
    "f.close()"
   ]
  },
  {
   "cell_type": "code",
   "execution_count": 2,
   "metadata": {},
   "outputs": [
    {
     "name": "stdout",
     "output_type": "stream",
     "text": [
      "Enter name :y\n",
      "Enter name :k\n",
      "Enter name :f\n",
      "Enter name :g\n",
      "Enter name :h\n"
     ]
    }
   ],
   "source": [
    "f=open(\"user.txt\",\"r+\")\n",
    "for i in range(5):\n",
    "    name=input(\"Enter name :\")\n",
    "    f.writelines(name+\"\\n\")\n",
    "f.close()"
   ]
  },
  {
   "cell_type": "code",
   "execution_count": null,
   "metadata": {},
   "outputs": [],
   "source": []
  },
  {
   "cell_type": "code",
   "execution_count": null,
   "metadata": {},
   "outputs": [],
   "source": []
  }
 ],
 "metadata": {
  "kernelspec": {
   "display_name": "Python 3",
   "language": "python",
   "name": "python3"
  },
  "language_info": {
   "codemirror_mode": {
    "name": "ipython",
    "version": 3
   },
   "file_extension": ".py",
   "mimetype": "text/x-python",
   "name": "python",
   "nbconvert_exporter": "python",
   "pygments_lexer": "ipython3",
   "version": "3.8.5"
  }
 },
 "nbformat": 4,
 "nbformat_minor": 4
}
