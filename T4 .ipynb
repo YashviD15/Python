{
 "cells": [
  {
   "cell_type": "markdown",
   "metadata": {},
   "source": [
    "### Chapter 9\n"
   ]
  },
  {
   "cell_type": "code",
   "execution_count": 12,
   "metadata": {},
   "outputs": [
    {
     "name": "stdout",
     "output_type": "stream",
     "text": [
      "12\n"
     ]
    },
    {
     "ename": "TypeError",
     "evalue": "area() missing 1 required positional argument: 'b'",
     "output_type": "error",
     "traceback": [
      "\u001b[1;31m---------------------------------------------------------------------------\u001b[0m",
      "\u001b[1;31mTypeError\u001b[0m                                 Traceback (most recent call last)",
      "\u001b[1;32m<ipython-input-12-d9a638088155>\u001b[0m in \u001b[0;36m<module>\u001b[1;34m\u001b[0m\n\u001b[0;32m      6\u001b[0m \u001b[0ms\u001b[0m\u001b[1;33m=\u001b[0m\u001b[0mshape\u001b[0m\u001b[1;33m(\u001b[0m\u001b[1;33m)\u001b[0m\u001b[1;33m\u001b[0m\u001b[1;33m\u001b[0m\u001b[0m\n\u001b[0;32m      7\u001b[0m \u001b[0mprint\u001b[0m\u001b[1;33m(\u001b[0m\u001b[0ms\u001b[0m\u001b[1;33m.\u001b[0m\u001b[0marea\u001b[0m\u001b[1;33m(\u001b[0m\u001b[1;36m3\u001b[0m\u001b[1;33m,\u001b[0m\u001b[1;36m4\u001b[0m\u001b[1;33m)\u001b[0m\u001b[1;33m)\u001b[0m\u001b[1;33m\u001b[0m\u001b[1;33m\u001b[0m\u001b[0m\n\u001b[1;32m----> 8\u001b[1;33m \u001b[0mprint\u001b[0m\u001b[1;33m(\u001b[0m\u001b[0ms\u001b[0m\u001b[1;33m.\u001b[0m\u001b[0marea\u001b[0m\u001b[1;33m(\u001b[0m\u001b[1;36m2\u001b[0m\u001b[1;33m)\u001b[0m\u001b[1;33m)\u001b[0m\u001b[1;33m\u001b[0m\u001b[1;33m\u001b[0m\u001b[0m\n\u001b[0m",
      "\u001b[1;31mTypeError\u001b[0m: area() missing 1 required positional argument: 'b'"
     ]
    }
   ],
   "source": [
    "class shape:\n",
    "    def area(self,a):\n",
    "        return 3.14*a*a\n",
    "    def area(self,a,b):\n",
    "        return a*b\n",
    "s=shape()\n",
    "print(s.area(3,4))\n",
    "print(s.area(2))\n"
   ]
  },
  {
   "cell_type": "code",
   "execution_count": 19,
   "metadata": {},
   "outputs": [
    {
     "name": "stdout",
     "output_type": "stream",
     "text": [
      "Additation 10\n",
      "Multiplication 200\n",
      "Additation 30\n"
     ]
    }
   ],
   "source": [
    "class Add:\n",
    "    def result(self,a,b):\n",
    "        print(\"Additation\",a+b)\n",
    "class Multi(Add):\n",
    "    def result(self,a,b):\n",
    "        super().result(6,4)\n",
    "        print(\"Multiplication\",a*b)\n",
    "a=Multi()\n",
    "a.result(10,20)\n",
    "m=Add()\n",
    "m.result(10,20)"
   ]
  },
  {
   "cell_type": "code",
   "execution_count": 22,
   "metadata": {},
   "outputs": [
    {
     "name": "stdout",
     "output_type": "stream",
     "text": [
      "First Function A\n",
      "First Function B\n",
      "Second Function A\n",
      "Second Function A\n",
      "display Function \n"
     ]
    },
    {
     "ename": "AttributeError",
     "evalue": "'A' object has no attribute 'display'",
     "output_type": "error",
     "traceback": [
      "\u001b[1;31m---------------------------------------------------------------------------\u001b[0m",
      "\u001b[1;31mAttributeError\u001b[0m                            Traceback (most recent call last)",
      "\u001b[1;32m<ipython-input-22-32030d7cd571>\u001b[0m in \u001b[0;36m<module>\u001b[1;34m\u001b[0m\n\u001b[0;32m     16\u001b[0m \u001b[0mobj2\u001b[0m\u001b[1;33m.\u001b[0m\u001b[0mSecond\u001b[0m\u001b[1;33m(\u001b[0m\u001b[1;33m)\u001b[0m\u001b[1;33m\u001b[0m\u001b[1;33m\u001b[0m\u001b[0m\n\u001b[0;32m     17\u001b[0m \u001b[0mobj2\u001b[0m\u001b[1;33m.\u001b[0m\u001b[0mdisplay\u001b[0m\u001b[1;33m(\u001b[0m\u001b[1;33m)\u001b[0m\u001b[1;33m\u001b[0m\u001b[1;33m\u001b[0m\u001b[0m\n\u001b[1;32m---> 18\u001b[1;33m \u001b[0mobj1\u001b[0m\u001b[1;33m.\u001b[0m\u001b[0mdisplay\u001b[0m\u001b[1;33m(\u001b[0m\u001b[1;33m)\u001b[0m\u001b[1;33m\u001b[0m\u001b[1;33m\u001b[0m\u001b[0m\n\u001b[0m",
      "\u001b[1;31mAttributeError\u001b[0m: 'A' object has no attribute 'display'"
     ]
    }
   ],
   "source": [
    "class A:\n",
    "    def first(self):\n",
    "        print(\"First Function A\")\n",
    "    def Second(self):\n",
    "        print(\"Second Function A\")\n",
    "class B(A):\n",
    "    def first(self):\n",
    "        print(\"First Function B\")\n",
    "    def display(self):\n",
    "        print(\"display Function \")\n",
    "obj1=A()\n",
    "obj2=B()\n",
    "obj1.first()\n",
    "obj2.first()\n",
    "obj1.Second()\n",
    "obj2.Second()\n",
    "obj2.display()\n",
    "obj1.display()"
   ]
  },
  {
   "cell_type": "code",
   "execution_count": 25,
   "metadata": {},
   "outputs": [
    {
     "name": "stdout",
     "output_type": "stream",
     "text": [
      "300\n"
     ]
    }
   ],
   "source": [
    "class A:\n",
    "    def __init__(self,x):\n",
    "        self.x=x\n",
    "    def __add__(self,other):\n",
    "        return self.x+other.x\n",
    "class B:\n",
    "    def __init__(self,x):\n",
    "        self.x=x\n",
    "a=A(100)\n",
    "b=B(200)\n",
    "print(a+b)"
   ]
  },
  {
   "cell_type": "code",
   "execution_count": 18,
   "metadata": {},
   "outputs": [
    {
     "name": "stdout",
     "output_type": "stream",
     "text": [
      "3\n",
      "Shah Yashvi\n",
      "-1\n",
      "10\n",
      "2.5\n",
      "2\n",
      "2.5\n",
      "1\n",
      "25\n"
     ]
    }
   ],
   "source": [
    "class A:\n",
    "    def __init__(self,a):\n",
    "        self.a=a\n",
    "    def __add__(self,other):\n",
    "        return self.a+other.a\n",
    "obj1=A(1)\n",
    "obj2=A(2)\n",
    "obj3=A(\"Shah \")\n",
    "obj4=A(\"Yashvi\")\n",
    "print(obj1+obj2) #print(A.__add__(obj1,obj2)) print(obj1.__add__(obj2))\n",
    "print(obj3+obj4) #print(A.__add__(obj3,obj4)) print(obj3.__add__(obj4))\n",
    "\n",
    "\n",
    "class A:\n",
    "    def __init__(self,a):\n",
    "        self.a=a\n",
    "    def __sub__(self,other):\n",
    "        return self.a-other.a\n",
    "obj1=A(1)\n",
    "obj2=A(2)\n",
    "print(obj1-obj2) #print(A.__add__(obj1,obj2)) print(obj1.__add__(obj2))\n",
    "\n",
    "\n",
    "class A:\n",
    "    def __init__(self,a):\n",
    "        self.a=a\n",
    "    def __mul__(self,other):\n",
    "        return self.a*other.a\n",
    "obj1=A(5)\n",
    "obj2=A(2)\n",
    "print(obj1*obj2) #print(A.__add__(obj1,obj2)) print(obj1.__add__(obj2))\n",
    "\n",
    "\n",
    "class A:\n",
    "    def __init__(self,a):\n",
    "        self.a=a\n",
    "    def __truediv__(self,other):\n",
    "        return self.a/other.a\n",
    "obj1=A(5)\n",
    "obj2=A(2)\n",
    "print(obj1/obj2) #print(A.__add__(obj1,obj2)) print(obj1.__add__(obj2))\n",
    "\n",
    "\n",
    "class A:\n",
    "    def __init__(self,a):\n",
    "        self.a=a\n",
    "    def __floordiv__(self,other):\n",
    "        return self.a//other.a\n",
    "obj1=A(5)\n",
    "obj2=A(2)\n",
    "print(obj1//obj2) #print(A.__add__(obj1,obj2)) print(obj1.__add__(obj2))\n",
    "\n",
    "\n",
    "class A:\n",
    "    def __init__(self,a):\n",
    "        self.a=a\n",
    "    def __truediv__(self,other):\n",
    "        return self.a/other.a\n",
    "obj1=A(5)\n",
    "obj2=A(2)\n",
    "print(obj1/obj2) #print(A.__add__(obj1,obj2)) print(obj1.__add__(obj2))\n",
    "\n",
    "\n",
    "class A:\n",
    "    def __init__(self,a):\n",
    "        self.a=a\n",
    "    def __mod__(self,other):\n",
    "        return self.a%other.a\n",
    "obj1=A(5)\n",
    "obj2=A(2)\n",
    "print(obj1%obj2) #print(A.__add__(obj1,obj2)) print(obj1.__add__(obj2))\n",
    "\n",
    "\n",
    "\n",
    "class A:\n",
    "    def __init__(self,a):\n",
    "        self.a=a\n",
    "    def __pow__(self,other):\n",
    "        return self.a**other.a\n",
    "obj1=A(5)\n",
    "obj2=A(2)\n",
    "print(obj1**obj2) #print(A.__add__(obj1,obj2)) print(obj1.__add__(obj2))\n",
    "\n"
   ]
  },
  {
   "cell_type": "code",
   "execution_count": 32,
   "metadata": {},
   "outputs": [
    {
     "name": "stdout",
     "output_type": "stream",
     "text": [
      "False\n",
      "True\n",
      "True\n",
      "False\n",
      "False\n",
      "False\n"
     ]
    }
   ],
   "source": [
    "class A:\n",
    "    def __init__(self,a):\n",
    "        self.a=a\n",
    "    def __gt__(self,other):\n",
    "        if self.a>other.a:\n",
    "            return True\n",
    "        else:\n",
    "            return False\n",
    "obj1=A(1)\n",
    "obj2=A(2)\n",
    "if obj1>obj2:\n",
    "    print(\"True\")\n",
    "else:\n",
    "    print(\"False\")\n",
    "    \n",
    "    \n",
    "\n",
    "\n",
    "class A:\n",
    "    def __init__(self,a):\n",
    "        self.a=a\n",
    "    def __lt__(self,other):\n",
    "        if self.a<other.a:\n",
    "            return True\n",
    "        else:\n",
    "            return False\n",
    "obj1=A(1)\n",
    "obj2=A(2)\n",
    "if obj1<obj2:\n",
    "    print(\"True\")\n",
    "else:\n",
    "    print(\"False\")    \n",
    "    \n",
    "    \n",
    "    \n",
    " \n",
    "class A:\n",
    "    def __init__(self,a):\n",
    "        self.a=a\n",
    "    def __le__(self,other):\n",
    "        if self.a<=other.a:\n",
    "            return True\n",
    "        else:\n",
    "            return False\n",
    "obj1=A(2)\n",
    "obj2=A(2)\n",
    "if obj1<=obj2:\n",
    "    print(\"True\")\n",
    "else:\n",
    "    print(\"False\")    \n",
    "    \n",
    "\n",
    "    \n",
    "    \n",
    "    \n",
    "    \n",
    "class A:\n",
    "    def __init__(self,a):\n",
    "        self.a=a\n",
    "    def __le__(self,other):\n",
    "        if self.a<=other.a:\n",
    "            return True\n",
    "        else:\n",
    "            return False\n",
    "obj1=A(4)\n",
    "obj2=A(2)\n",
    "if obj1<=obj2:\n",
    "    print(\"True\")\n",
    "else:\n",
    "    print(\"False\")   \n",
    "    \n",
    "    \n",
    "    \n",
    "    \n",
    "    \n",
    "class A:\n",
    "    def __init__(self,a):\n",
    "        self.a=a\n",
    "    def __le__(self,other):\n",
    "        if self.a<=other.a:\n",
    "            return True\n",
    "        else:\n",
    "            return False\n",
    "obj1=A(4)\n",
    "obj2=A(2)\n",
    "if obj1<=obj2:\n",
    "    print(\"True\")\n",
    "else:\n",
    "    print(\"False\")     \n",
    "    \n",
    "    \n",
    "    \n",
    "    \n",
    "\n",
    "    \n",
    "    \n",
    "class A:\n",
    "    def __init__(self,a):\n",
    "        self.a=a\n",
    "    def __ne__(self,other):\n",
    "        if self.a!=other.a:\n",
    "            return True\n",
    "        else:\n",
    "            return False\n",
    "obj1=A(2)\n",
    "obj2=A(2)\n",
    "if obj1!=obj2:\n",
    "    print(\"True\")\n",
    "else:\n",
    "    print(\"False\")        \n",
    "\n",
    "    \n"
   ]
  },
  {
   "cell_type": "code",
   "execution_count": 36,
   "metadata": {},
   "outputs": [
    {
     "name": "stdout",
     "output_type": "stream",
     "text": [
      "Hello parent\n",
      "Hello child\n"
     ]
    }
   ],
   "source": [
    "#single Inheritance\n",
    "class Parent:\n",
    "    def fanc1(self):\n",
    "        print(\"Hello parent\")\n",
    "class Child(Parent):\n",
    "    def fanc2(self):\n",
    "        print(\"Hello child\")\n",
    "test=Child()\n",
    "test.fanc1()\n",
    "test.fanc2()"
   ]
  },
  {
   "cell_type": "code",
   "execution_count": 42,
   "metadata": {},
   "outputs": [
    {
     "name": "stdout",
     "output_type": "stream",
     "text": [
      "Hello parent1\n",
      "Hello parent3\n",
      "Hello child\n",
      "(<class '__main__.child'>, <class '__main__.Parent1'>, <class '__main__.Parent3'>, <class '__main__.Parent2'>, <class 'object'>)\n"
     ]
    }
   ],
   "source": [
    "#Multiple inheritance\n",
    "class Parent1:\n",
    "    def fanc1(self):\n",
    "        print(\"Hello parent1\")\n",
    "class Parent2:\n",
    "    def fanc2(self):\n",
    "        print(\"Hello parent2\")\n",
    "class Parent3:\n",
    "    def fanc2(self):\n",
    "        print(\"Hello parent3\")\n",
    "class child( Parent1, Parent3, Parent2):\n",
    "    def fanc3(self):\n",
    "        print(\"Hello child\")\n",
    "test=child()\n",
    "test.fanc1()\n",
    "test.fanc2()\n",
    "test.fanc3()\n",
    "print(child.__mro__)"
   ]
  },
  {
   "cell_type": "code",
   "execution_count": 43,
   "metadata": {},
   "outputs": [
    {
     "name": "stdout",
     "output_type": "stream",
     "text": [
      "Hello grandparent\n",
      "Hello parent\n",
      "Hello child\n",
      "(<class '__main__.child'>, <class '__main__.parent'>, <class '__main__.grandparent'>, <class 'object'>)\n"
     ]
    }
   ],
   "source": [
    "#Multilevel inheritance\n",
    "class grandparent:\n",
    "     def fanc1(self):\n",
    "        print(\"Hello grandparent\")\n",
    "class parent(grandparent):\n",
    "     def fanc2(self):\n",
    "        print(\"Hello parent\")\n",
    "class child(parent):\n",
    "    def fanc3(self):\n",
    "        print(\"Hello child\")\n",
    "test=child()\n",
    "test.fanc1()\n",
    "test.fanc2()\n",
    "test.fanc3()\n",
    "print(child.__mro__)"
   ]
  }
 ],
 "metadata": {
  "kernelspec": {
   "display_name": "Python 3",
   "language": "python",
   "name": "python3"
  },
  "language_info": {
   "codemirror_mode": {
    "name": "ipython",
    "version": 3
   },
   "file_extension": ".py",
   "mimetype": "text/x-python",
   "name": "python",
   "nbconvert_exporter": "python",
   "pygments_lexer": "ipython3",
   "version": "3.8.5"
  }
 },
 "nbformat": 4,
 "nbformat_minor": 4
}
