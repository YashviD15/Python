{
 "cells": [
  {
   "cell_type": "markdown",
   "metadata": {},
   "source": [
    "### Chapter 9\n"
   ]
  },
  {
   "cell_type": "code",
   "execution_count": 12,
   "metadata": {},
   "outputs": [
    {
     "name": "stdout",
     "output_type": "stream",
     "text": [
      "12\n"
     ]
    },
    {
     "ename": "TypeError",
     "evalue": "area() missing 1 required positional argument: 'b'",
     "output_type": "error",
     "traceback": [
      "\u001b[1;31m---------------------------------------------------------------------------\u001b[0m",
      "\u001b[1;31mTypeError\u001b[0m                                 Traceback (most recent call last)",
      "\u001b[1;32m<ipython-input-12-d9a638088155>\u001b[0m in \u001b[0;36m<module>\u001b[1;34m\u001b[0m\n\u001b[0;32m      6\u001b[0m \u001b[0ms\u001b[0m\u001b[1;33m=\u001b[0m\u001b[0mshape\u001b[0m\u001b[1;33m(\u001b[0m\u001b[1;33m)\u001b[0m\u001b[1;33m\u001b[0m\u001b[1;33m\u001b[0m\u001b[0m\n\u001b[0;32m      7\u001b[0m \u001b[0mprint\u001b[0m\u001b[1;33m(\u001b[0m\u001b[0ms\u001b[0m\u001b[1;33m.\u001b[0m\u001b[0marea\u001b[0m\u001b[1;33m(\u001b[0m\u001b[1;36m3\u001b[0m\u001b[1;33m,\u001b[0m\u001b[1;36m4\u001b[0m\u001b[1;33m)\u001b[0m\u001b[1;33m)\u001b[0m\u001b[1;33m\u001b[0m\u001b[1;33m\u001b[0m\u001b[0m\n\u001b[1;32m----> 8\u001b[1;33m \u001b[0mprint\u001b[0m\u001b[1;33m(\u001b[0m\u001b[0ms\u001b[0m\u001b[1;33m.\u001b[0m\u001b[0marea\u001b[0m\u001b[1;33m(\u001b[0m\u001b[1;36m2\u001b[0m\u001b[1;33m)\u001b[0m\u001b[1;33m)\u001b[0m\u001b[1;33m\u001b[0m\u001b[1;33m\u001b[0m\u001b[0m\n\u001b[0m",
      "\u001b[1;31mTypeError\u001b[0m: area() missing 1 required positional argument: 'b'"
     ]
    }
   ],
   "source": [
    "class shape:\n",
    "    def area(self,a):\n",
    "        return 3.14*a*a\n",
    "    def area(self,a,b):\n",
    "        return a*b\n",
    "s=shape()\n",
    "print(s.area(3,4))\n",
    "print(s.area(2))\n"
   ]
  },
  {
   "cell_type": "code",
   "execution_count": 19,
   "metadata": {},
   "outputs": [
    {
     "name": "stdout",
     "output_type": "stream",
     "text": [
      "Additation 10\n",
      "Multiplication 200\n",
      "Additation 30\n"
     ]
    }
   ],
   "source": [
    "class Add:\n",
    "    def result(self,a,b):\n",
    "        print(\"Additation\",a+b)\n",
    "class Multi(Add):\n",
    "    def result(self,a,b):\n",
    "        super().result(6,4)\n",
    "        print(\"Multiplication\",a*b)\n",
    "a=Multi()\n",
    "a.result(10,20)\n",
    "m=Add()\n",
    "m.result(10,20)"
   ]
  },
  {
   "cell_type": "code",
   "execution_count": 22,
   "metadata": {},
   "outputs": [
    {
     "name": "stdout",
     "output_type": "stream",
     "text": [
      "First Function A\n",
      "First Function B\n",
      "Second Function A\n",
      "Second Function A\n",
      "display Function \n"
     ]
    },
    {
     "ename": "AttributeError",
     "evalue": "'A' object has no attribute 'display'",
     "output_type": "error",
     "traceback": [
      "\u001b[1;31m---------------------------------------------------------------------------\u001b[0m",
      "\u001b[1;31mAttributeError\u001b[0m                            Traceback (most recent call last)",
      "\u001b[1;32m<ipython-input-22-32030d7cd571>\u001b[0m in \u001b[0;36m<module>\u001b[1;34m\u001b[0m\n\u001b[0;32m     16\u001b[0m \u001b[0mobj2\u001b[0m\u001b[1;33m.\u001b[0m\u001b[0mSecond\u001b[0m\u001b[1;33m(\u001b[0m\u001b[1;33m)\u001b[0m\u001b[1;33m\u001b[0m\u001b[1;33m\u001b[0m\u001b[0m\n\u001b[0;32m     17\u001b[0m \u001b[0mobj2\u001b[0m\u001b[1;33m.\u001b[0m\u001b[0mdisplay\u001b[0m\u001b[1;33m(\u001b[0m\u001b[1;33m)\u001b[0m\u001b[1;33m\u001b[0m\u001b[1;33m\u001b[0m\u001b[0m\n\u001b[1;32m---> 18\u001b[1;33m \u001b[0mobj1\u001b[0m\u001b[1;33m.\u001b[0m\u001b[0mdisplay\u001b[0m\u001b[1;33m(\u001b[0m\u001b[1;33m)\u001b[0m\u001b[1;33m\u001b[0m\u001b[1;33m\u001b[0m\u001b[0m\n\u001b[0m",
      "\u001b[1;31mAttributeError\u001b[0m: 'A' object has no attribute 'display'"
     ]
    }
   ],
   "source": [
    "class A:\n",
    "    def first(self):\n",
    "        print(\"First Function A\")\n",
    "    def Second(self):\n",
    "        print(\"Second Function A\")\n",
    "class B(A):\n",
    "    def first(self):\n",
    "        print(\"First Function B\")\n",
    "    def display(self):\n",
    "        print(\"display Function \")\n",
    "obj1=A()\n",
    "obj2=B()\n",
    "obj1.first()\n",
    "obj2.first()\n",
    "obj1.Second()\n",
    "obj2.Second()\n",
    "obj2.display()\n",
    "obj1.display()"
   ]
  },
  {
   "cell_type": "code",
   "execution_count": 25,
   "metadata": {},
   "outputs": [
    {
     "name": "stdout",
     "output_type": "stream",
     "text": [
      "300\n"
     ]
    }
   ],
   "source": [
    "class A:\n",
    "    def __init__(self,x):\n",
    "        self.x=x\n",
    "    def __add__(self,other):\n",
    "        return self.x+other.x\n",
    "class B:\n",
    "    def __init__(self,x):\n",
    "        self.x=x\n",
    "a=A(100)\n",
    "b=B(200)\n",
    "print(a+b)"
   ]
  },
  {
   "cell_type": "code",
   "execution_count": 18,
   "metadata": {},
   "outputs": [
    {
     "name": "stdout",
     "output_type": "stream",
     "text": [
      "3\n",
      "Shah Yashvi\n",
      "-1\n",
      "10\n",
      "2.5\n",
      "2\n",
      "2.5\n",
      "1\n",
      "25\n"
     ]
    }
   ],
   "source": [
    "class A:\n",
    "    def __init__(self,a):\n",
    "        self.a=a\n",
    "    def __add__(self,other):\n",
    "        return self.a+other.a\n",
    "obj1=A(1)\n",
    "obj2=A(2)\n",
    "obj3=A(\"Shah \")\n",
    "obj4=A(\"Yashvi\")\n",
    "print(obj1+obj2) #print(A.__add__(obj1,obj2)) print(obj1.__add__(obj2))\n",
    "print(obj3+obj4) #print(A.__add__(obj3,obj4)) print(obj3.__add__(obj4))\n",
    "\n",
    "\n",
    "class A:\n",
    "    def __init__(self,a):\n",
    "        self.a=a\n",
    "    def __sub__(self,other):\n",
    "        return self.a-other.a\n",
    "obj1=A(1)\n",
    "obj2=A(2)\n",
    "print(obj1-obj2) #print(A.__add__(obj1,obj2)) print(obj1.__add__(obj2))\n",
    "\n",
    "\n",
    "class A:\n",
    "    def __init__(self,a):\n",
    "        self.a=a\n",
    "    def __mul__(self,other):\n",
    "        return self.a*other.a\n",
    "obj1=A(5)\n",
    "obj2=A(2)\n",
    "print(obj1*obj2) #print(A.__add__(obj1,obj2)) print(obj1.__add__(obj2))\n",
    "\n",
    "\n",
    "class A:\n",
    "    def __init__(self,a):\n",
    "        self.a=a\n",
    "    def __truediv__(self,other):\n",
    "        return self.a/other.a\n",
    "obj1=A(5)\n",
    "obj2=A(2)\n",
    "print(obj1/obj2) #print(A.__add__(obj1,obj2)) print(obj1.__add__(obj2))\n",
    "\n",
    "\n",
    "class A:\n",
    "    def __init__(self,a):\n",
    "        self.a=a\n",
    "    def __floordiv__(self,other):\n",
    "        return self.a//other.a\n",
    "obj1=A(5)\n",
    "obj2=A(2)\n",
    "print(obj1//obj2) #print(A.__add__(obj1,obj2)) print(obj1.__add__(obj2))\n",
    "\n",
    "\n",
    "class A:\n",
    "    def __init__(self,a):\n",
    "        self.a=a\n",
    "    def __truediv__(self,other):\n",
    "        return self.a/other.a\n",
    "obj1=A(5)\n",
    "obj2=A(2)\n",
    "print(obj1/obj2) #print(A.__add__(obj1,obj2)) print(obj1.__add__(obj2))\n",
    "\n",
    "\n",
    "class A:\n",
    "    def __init__(self,a):\n",
    "        self.a=a\n",
    "    def __mod__(self,other):\n",
    "        return self.a%other.a\n",
    "obj1=A(5)\n",
    "obj2=A(2)\n",
    "print(obj1%obj2) #print(A.__add__(obj1,obj2)) print(obj1.__add__(obj2))\n",
    "\n",
    "\n",
    "\n",
    "class A:\n",
    "    def __init__(self,a):\n",
    "        self.a=a\n",
    "    def __pow__(self,other):\n",
    "        return self.a**other.a\n",
    "obj1=A(5)\n",
    "obj2=A(2)\n",
    "print(obj1**obj2) #print(A.__add__(obj1,obj2)) print(obj1.__add__(obj2))\n",
    "\n"
   ]
  },
  {
   "cell_type": "code",
   "execution_count": 32,
   "metadata": {},
   "outputs": [
    {
     "name": "stdout",
     "output_type": "stream",
     "text": [
      "False\n",
      "True\n",
      "True\n",
      "False\n",
      "False\n",
      "False\n"
     ]
    }
   ],
   "source": [
    "class A:\n",
    "    def __init__(self,a):\n",
    "        self.a=a\n",
    "    def __gt__(self,other):\n",
    "        if self.a>other.a:\n",
    "            return True\n",
    "        else:\n",
    "            return False\n",
    "obj1=A(1)\n",
    "obj2=A(2)\n",
    "if obj1>obj2:\n",
    "    print(\"True\")\n",
    "else:\n",
    "    print(\"False\")\n",
    "    \n",
    "    \n",
    "\n",
    "\n",
    "class A:\n",
    "    def __init__(self,a):\n",
    "        self.a=a\n",
    "    def __lt__(self,other):\n",
    "        if self.a<other.a:\n",
    "            return True\n",
    "        else:\n",
    "            return False\n",
    "obj1=A(1)\n",
    "obj2=A(2)\n",
    "if obj1<obj2:\n",
    "    print(\"True\")\n",
    "else:\n",
    "    print(\"False\")    \n",
    "    \n",
    "    \n",
    "    \n",
    " \n",
    "class A:\n",
    "    def __init__(self,a):\n",
    "        self.a=a\n",
    "    def __le__(self,other):\n",
    "        if self.a<=other.a:\n",
    "            return True\n",
    "        else:\n",
    "            return False\n",
    "obj1=A(2)\n",
    "obj2=A(2)\n",
    "if obj1<=obj2:\n",
    "    print(\"True\")\n",
    "else:\n",
    "    print(\"False\")    \n",
    "    \n",
    "\n",
    "    \n",
    "    \n",
    "    \n",
    "    \n",
    "class A:\n",
    "    def __init__(self,a):\n",
    "        self.a=a\n",
    "    def __le__(self,other):\n",
    "        if self.a<=other.a:\n",
    "            return True\n",
    "        else:\n",
    "            return False\n",
    "obj1=A(4)\n",
    "obj2=A(2)\n",
    "if obj1<=obj2:\n",
    "    print(\"True\")\n",
    "else:\n",
    "    print(\"False\")   \n",
    "    \n",
    "    \n",
    "    \n",
    "    \n",
    "    \n",
    "class A:\n",
    "    def __init__(self,a):\n",
    "        self.a=a\n",
    "    def __le__(self,other):\n",
    "        if self.a<=other.a:\n",
    "            return True\n",
    "        else:\n",
    "            return False\n",
    "obj1=A(4)\n",
    "obj2=A(2)\n",
    "if obj1<=obj2:\n",
    "    print(\"True\")\n",
    "else:\n",
    "    print(\"False\")     \n",
    "    \n",
    "    \n",
    "    \n",
    "    \n",
    "\n",
    "    \n",
    "    \n",
    "class A:\n",
    "    def __init__(self,a):\n",
    "        self.a=a\n",
    "    def __ne__(self,other):\n",
    "        if self.a!=other.a:\n",
    "            return True\n",
    "        else:\n",
    "            return False\n",
    "obj1=A(2)\n",
    "obj2=A(2)\n",
    "if obj1!=obj2:\n",
    "    print(\"True\")\n",
    "else:\n",
    "    print(\"False\")        \n",
    "\n",
    "    \n"
   ]
  },
  {
   "cell_type": "code",
   "execution_count": 36,
   "metadata": {},
   "outputs": [
    {
     "name": "stdout",
     "output_type": "stream",
     "text": [
      "Hello parent\n",
      "Hello child\n"
     ]
    }
   ],
   "source": [
    "#single Inheritance\n",
    "class Parent:\n",
    "    def fanc1(self):\n",
    "        print(\"Hello parent\")\n",
    "class Child(Parent):\n",
    "    def fanc2(self):\n",
    "        print(\"Hello child\")\n",
    "test=Child()\n",
    "test.fanc1()\n",
    "test.fanc2()"
   ]
  },
  {
   "cell_type": "code",
   "execution_count": 42,
   "metadata": {},
   "outputs": [
    {
     "name": "stdout",
     "output_type": "stream",
     "text": [
      "Hello parent1\n",
      "Hello parent3\n",
      "Hello child\n",
      "(<class '__main__.child'>, <class '__main__.Parent1'>, <class '__main__.Parent3'>, <class '__main__.Parent2'>, <class 'object'>)\n"
     ]
    }
   ],
   "source": [
    "#Multiple inheritance\n",
    "class Parent1:\n",
    "    def fanc1(self):\n",
    "        print(\"Hello parent1\")\n",
    "class Parent2:\n",
    "    def fanc2(self):\n",
    "        print(\"Hello parent2\")\n",
    "class Parent3:\n",
    "    def fanc2(self):\n",
    "        print(\"Hello parent3\")\n",
    "class child( Parent1, Parent3, Parent2):\n",
    "    def fanc3(self):\n",
    "        print(\"Hello child\")\n",
    "test=child()\n",
    "test.fanc1()\n",
    "test.fanc2()\n",
    "test.fanc3()\n",
    "print(child.__mro__)"
   ]
  },
  {
   "cell_type": "code",
   "execution_count": 1,
   "metadata": {},
   "outputs": [
    {
     "name": "stdout",
     "output_type": "stream",
     "text": [
      "Hello grandparent\n",
      "Hello parent\n",
      "Hello child\n",
      "(<class '__main__.child'>, <class '__main__.parent'>, <class '__main__.grandparent'>, <class 'object'>)\n"
     ]
    }
   ],
   "source": [
    "#Multilevel inheritance\n",
    "class grandparent:\n",
    "     def fanc1(self):\n",
    "        print(\"Hello grandparent\")\n",
    "class parent(grandparent):\n",
    "     def fanc2(self):\n",
    "        print(\"Hello parent\")\n",
    "class child(parent):\n",
    "    def fanc3(self):\n",
    "        print(\"Hello child\")\n",
    "test=child()\n",
    "test.fanc1()\n",
    "test.fanc2()\n",
    "test.fanc3()\n",
    "print(child.__mro__)"
   ]
  },
  {
   "cell_type": "code",
   "execution_count": 8,
   "metadata": {},
   "outputs": [
    {
     "name": "stdout",
     "output_type": "stream",
     "text": [
      "Hello Child1\n",
      "Hello parent\n",
      "Hello parent\n",
      "Hello Child2\n",
      "(<class '__main__.Child1'>, <class '__main__.Parent'>, <class 'object'>)\n",
      "(<class '__main__.Child2'>, <class '__main__.Parent'>, <class 'object'>)\n"
     ]
    }
   ],
   "source": [
    "#Hierarical Inheritance\n",
    "class Parent:\n",
    "    def func1(self):\n",
    "        print(\"Hello parent\")\n",
    "class Child1(Parent):\n",
    "    def func2(self):\n",
    "        print(\"Hello Child1\")\n",
    "class Child2(Parent):\n",
    "    def func3(self):\n",
    "        print(\"Hello Child2\")\n",
    "t=Child1()\n",
    "t.func2()\n",
    "t.func1()\n",
    "t1=Child2()\n",
    "t1.func1()\n",
    "t1.func3()\n",
    "print(Child1.__mro__)\n",
    "print(Child2.__mro__)"
   ]
  },
  {
   "cell_type": "code",
   "execution_count": 14,
   "metadata": {},
   "outputs": [
    {
     "name": "stdout",
     "output_type": "stream",
     "text": [
      "Hello parent1\n",
      "Hello Child1\n",
      "Hello parent1\n",
      "Hello parent2\n",
      "Hello Child1\n",
      "Hello Child2\n",
      "(<class '__main__.Child1'>, <class '__main__.Parent1'>, <class 'object'>)\n",
      "(<class '__main__.Child2'>, <class '__main__.Child1'>, <class '__main__.Parent1'>, <class '__main__.Parent2'>, <class 'object'>)\n"
     ]
    }
   ],
   "source": [
    "#Hybrid Inhertiance\n",
    "class Parent1:\n",
    "    def func1(self):\n",
    "        print(\"Hello parent1\")\n",
    "class Parent2:\n",
    "    def func2(self):\n",
    "        print(\"Hello parent2\")\n",
    "class Child1(Parent1):\n",
    "    def func3(self):\n",
    "        print(\"Hello Child1\")\n",
    "class Child2(Child1,Parent2):\n",
    "    def func4(self):\n",
    "        print(\"Hello Child2\")\n",
    "t1=Child1()\n",
    "t2=Child2()\n",
    "t1.func1()\n",
    "t1.func3()\n",
    "t2.func1()\n",
    "t2.func2()\n",
    "t2.func3()\n",
    "t2.func4()\n",
    "print(Child1.__mro__)\n",
    "print(Child2.__mro__) #print (Child1.mro())"
   ]
  },
  {
   "cell_type": "code",
   "execution_count": 32,
   "metadata": {},
   "outputs": [
    {
     "name": "stdout",
     "output_type": "stream",
     "text": [
      "50\n"
     ]
    }
   ],
   "source": [
    "#super()\n",
    "class Parent:\n",
    "    def __init__(self):\n",
    "        self.attr1=50\n",
    "        self.attr2=65\n",
    "class Child(Parent):\n",
    "    def __init__(self):\n",
    "        super().__init__() #Parent.__init__(self)\n",
    "        self.attr3=45\n",
    "t=Child()\n",
    "print(t.attr1)"
   ]
  },
  {
   "cell_type": "code",
   "execution_count": 35,
   "metadata": {},
   "outputs": [
    {
     "name": "stdout",
     "output_type": "stream",
     "text": [
      "True\n",
      "False\n",
      "True\n",
      "True\n",
      "False\n",
      "True\n"
     ]
    }
   ],
   "source": [
    "#issubclass or isintance\n",
    "class Parent1:\n",
    "    def func1(self):\n",
    "        print(\"Hello parent1\")\n",
    "class Child1(Parent1):\n",
    "    def func3(self):\n",
    "        print(\"Hello Child1\")\n",
    "print(issubclass(Child1,Parent1)) \n",
    "print(issubclass(Parent1,Child1)) \n",
    "\n",
    "A=Child1()\n",
    "B=Parent1()\n",
    "print(isinstance(A,Child1))\n",
    "print(isinstance(A,Child1))\n",
    "print(isinstance(B,Child1))\n",
    "print(isinstance(B,Parent1))"
   ]
  },
  {
   "cell_type": "code",
   "execution_count": 48,
   "metadata": {},
   "outputs": [
    {
     "name": "stdout",
     "output_type": "stream",
     "text": [
      "B\n",
      "(<class '__main__.D'>, <class '__main__.B'>, <class '__main__.A'>, <class 'object'>)\n"
     ]
    }
   ],
   "source": [
    "#MRO\n",
    "class A:\n",
    "    def rk(self):\n",
    "        print(\"A\")\n",
    "class B(A):\n",
    "    def rk(self):\n",
    "        print(\"B\")       \n",
    "class C(A):\n",
    "    def rk(self):\n",
    "        print(\"C\")\n",
    "class D(B):\n",
    "    pass\n",
    "r=D()\n",
    "r.rk()\n",
    "print(D.__mro__)\n",
    "# print(C.__mro__)\n",
    "# print(B.__mro__)"
   ]
  },
  {
   "cell_type": "code",
   "execution_count": 58,
   "metadata": {},
   "outputs": [
    {
     "name": "stdout",
     "output_type": "stream",
     "text": [
      "bar from c2\n",
      "Foo of p1\n",
      "(<class '__main__.gc'>, <class '__main__.c1'>, <class '__main__.p1'>, <class '__main__.c2'>, <class '__main__.p2'>, <class 'object'>)\n"
     ]
    }
   ],
   "source": [
    "class p1:\n",
    "    def foo(self):\n",
    "        print(\"Foo of p1\")\n",
    "class p2:\n",
    "    def foo(self):\n",
    "        print(\"foo of p2\")\n",
    "    def bar(self):\n",
    "        print(\"bar from p2\")\n",
    "class c1(p1,p2):\n",
    "    pass\n",
    "class c2(p2):\n",
    "    def bar(self):\n",
    "        print(\"bar from c2\")\n",
    "class gc(c1,c2):\n",
    "    pass\n",
    "t=gc()\n",
    "t.bar()\n",
    "t.foo()\n",
    "print(gc.__mro__)"
   ]
  },
  {
   "cell_type": "code",
   "execution_count": 3,
   "metadata": {},
   "outputs": [
    {
     "name": "stdout",
     "output_type": "stream",
     "text": [
      "Draw Circle\n"
     ]
    }
   ],
   "source": [
    "#Abstract class\n",
    "from abc import ABC,abstractmethod\n",
    "class shape(ABC):\n",
    "    def __init__(self,shape_name):\n",
    "        self.shape_name=shape_name\n",
    "    @abstractmethod\n",
    "    def draw(Self):\n",
    "        pass\n",
    "class circle(shape):\n",
    "    def __init__(self):\n",
    "        super().__init__(\"circle\")\n",
    "    def draw(self):\n",
    "            print(\"Draw Circle\")\n",
    "c=circle\n",
    "c.draw()"
   ]
  },
  {
   "cell_type": "code",
   "execution_count": 5,
   "metadata": {},
   "outputs": [
    {
     "ename": "TypeError",
     "evalue": "Can't instantiate abstract class circle with abstract methods draw",
     "output_type": "error",
     "traceback": [
      "\u001b[1;31m---------------------------------------------------------------------------\u001b[0m",
      "\u001b[1;31mTypeError\u001b[0m                                 Traceback (most recent call last)",
      "\u001b[1;32m<ipython-input-5-7ef1813bd7ff>\u001b[0m in \u001b[0;36m<module>\u001b[1;34m\u001b[0m\n\u001b[0;32m     11\u001b[0m     \u001b[1;32mdef\u001b[0m \u001b[0mdraw_circle\u001b[0m\u001b[1;33m(\u001b[0m\u001b[0mself\u001b[0m\u001b[1;33m)\u001b[0m\u001b[1;33m:\u001b[0m\u001b[1;33m\u001b[0m\u001b[1;33m\u001b[0m\u001b[0m\n\u001b[0;32m     12\u001b[0m             \u001b[0mprint\u001b[0m\u001b[1;33m(\u001b[0m\u001b[1;34m\"Draw Circle\"\u001b[0m\u001b[1;33m)\u001b[0m\u001b[1;33m\u001b[0m\u001b[1;33m\u001b[0m\u001b[0m\n\u001b[1;32m---> 13\u001b[1;33m \u001b[0mc\u001b[0m\u001b[1;33m=\u001b[0m\u001b[0mcircle\u001b[0m\u001b[1;33m(\u001b[0m\u001b[1;33m)\u001b[0m\u001b[1;33m\u001b[0m\u001b[1;33m\u001b[0m\u001b[0m\n\u001b[0m\u001b[0;32m     14\u001b[0m \u001b[0mc\u001b[0m\u001b[1;33m.\u001b[0m\u001b[0mdraw\u001b[0m\u001b[1;33m(\u001b[0m\u001b[1;33m)\u001b[0m\u001b[1;33m\u001b[0m\u001b[1;33m\u001b[0m\u001b[0m\n",
      "\u001b[1;31mTypeError\u001b[0m: Can't instantiate abstract class circle with abstract methods draw"
     ]
    }
   ],
   "source": [
    "from abc import ABC,abstractmethod\n",
    "class shape(ABC):\n",
    "    def __init__(self,shape_name):\n",
    "        self.shape_name=shape_name\n",
    "    @abstractmethod\n",
    "    def draw(Self):\n",
    "        pass\n",
    "class circle(shape):\n",
    "    def __init__(self):\n",
    "        super().__init__(\"circle\")\n",
    "    def draw_circle(self):\n",
    "            print(\"Draw Circle\")\n",
    "c=circle()\n",
    "c.draw()"
   ]
  },
  {
   "cell_type": "code",
   "execution_count": 11,
   "metadata": {},
   "outputs": [
    {
     "ename": "TypeError",
     "evalue": "__init__() takes 2 positional arguments but 3 were given",
     "output_type": "error",
     "traceback": [
      "\u001b[1;31m---------------------------------------------------------------------------\u001b[0m",
      "\u001b[1;31mTypeError\u001b[0m                                 Traceback (most recent call last)",
      "\u001b[1;32m<ipython-input-11-623a51fc4216>\u001b[0m in \u001b[0;36m<module>\u001b[1;34m\u001b[0m\n\u001b[0;32m     19\u001b[0m         \u001b[0mprint\u001b[0m\u001b[1;33m(\u001b[0m\u001b[0mself\u001b[0m\u001b[1;33m.\u001b[0m\u001b[0mcoursename\u001b[0m\u001b[1;33m)\u001b[0m\u001b[1;33m\u001b[0m\u001b[1;33m\u001b[0m\u001b[0m\n\u001b[0;32m     20\u001b[0m         \u001b[0msuper\u001b[0m\u001b[1;33m(\u001b[0m\u001b[1;33m)\u001b[0m\u001b[1;33m.\u001b[0m\u001b[0m__init__\u001b[0m\u001b[1;33m(\u001b[0m\u001b[1;33m)\u001b[0m\u001b[1;33m\u001b[0m\u001b[1;33m\u001b[0m\u001b[0m\n\u001b[1;32m---> 21\u001b[1;33m \u001b[0me\u001b[0m\u001b[1;33m=\u001b[0m\u001b[0mcoursename\u001b[0m\u001b[1;33m(\u001b[0m\u001b[1;34m\"Yashvi\"\u001b[0m\u001b[1;33m,\u001b[0m\u001b[1;34m\"Yashvii\"\u001b[0m\u001b[1;33m)\u001b[0m\u001b[1;33m\u001b[0m\u001b[1;33m\u001b[0m\u001b[0m\n\u001b[0m\u001b[0;32m     22\u001b[0m \u001b[0me\u001b[0m\u001b[1;33m.\u001b[0m\u001b[0mdispaly\u001b[0m\u001b[1;33m\u001b[0m\u001b[1;33m\u001b[0m\u001b[0m\n",
      "\u001b[1;31mTypeError\u001b[0m: __init__() takes 2 positional arguments but 3 were given"
     ]
    }
   ],
   "source": [
    "class book:\n",
    "    def __init__(self,name,no_ofauthor,publisher,ISBN,Year):\n",
    "        self.name=name\n",
    "        self.no_ofauthor=no_ofauthor\n",
    "        self.publisher=publisher\n",
    "        self.ISBN=ISBN\n",
    "        self.Year=Year\n",
    "    def display(self):\n",
    "        print(self.name)\n",
    "        print(self.no_ofauthor)\n",
    "        print(publisher)\n",
    "        print(ISBN)\n",
    "        print(Year)\n",
    "class coursename(book):\n",
    "    def __init__(self,coursename):\n",
    "        self.coursename=coursename\n",
    "        super().__init__()\n",
    "    def display(self):\n",
    "        print(self.coursename)\n",
    "        super().__init__()\n",
    "e=coursename(\"Yashvi\",\"Yashvii\")\n",
    "e.dispaly"
   ]
  },
  {
   "cell_type": "code",
   "execution_count": 6,
   "metadata": {},
   "outputs": [
    {
     "name": "stdout",
     "output_type": "stream",
     "text": [
      "[<class '__main__.z'>, <class '__main__.K1'>, <class '__main__.C'>, <class '__main__.K3'>, <class '__main__.A'>, <class '__main__.K2'>, <class '__main__.B'>, <class '__main__.D'>, <class '__main__.F'>, <class '__main__.E'>, <class 'object'>]\n"
     ]
    }
   ],
   "source": [
    "class A:pass\n",
    "class B:pass\n",
    "class C:pass\n",
    "class D:pass\n",
    "class E:pass\n",
    "class F:pass\n",
    "class K1(C,A,B):pass\n",
    "class K3(A,D,F):pass\n",
    "class K2(B,D,E):pass\n",
    "class z(K1,K3,K2):pass\n",
    "print(z.mro())"
   ]
  },
  {
   "cell_type": "code",
   "execution_count": 16,
   "metadata": {},
   "outputs": [
    {
     "name": "stdout",
     "output_type": "stream",
     "text": [
      "Name Yashvi\n",
      "Salary 50000\n",
      "Subject PYthon\n",
      "\n",
      "Name Yashvi\n",
      "Salary 50000\n",
      "Dept CSE\n"
     ]
    }
   ],
   "source": [
    "#implemnt the following create staff class take name and salary as it data members the drived class teahing as subject\n",
    "# it has data member and the drived class methods overrides the method of base class\n",
    "class staff:\n",
    "    def __init__(self,name,salary):\n",
    "        self.name=name\n",
    "        self.salary=salary\n",
    "    def display(self):\n",
    "        print(\"Name\",self.name)\n",
    "        print(\"Salary\",self.salary)\n",
    "class Teaching(staff):\n",
    "    def __init__(self,name,salary,subject):\n",
    "        super().__init__(name,salary)\n",
    "        self.subject=subject\n",
    "    def display(self):\n",
    "        super().display()\n",
    "        print(\"Subject\",self.subject)\n",
    "class NonTeaching(staff):\n",
    "    def __init__(self,name,salary,dept):\n",
    "        super().__init__(name,salary)\n",
    "        self.dept=dept\n",
    "    def display(self):\n",
    "        super().display()\n",
    "        print(\"Dept\",self.dept)\n",
    "t1=Teaching(\"Yashvi\",50000,\"PYthon\")\n",
    "t1.display()\n",
    "print()\n",
    "t2=NonTeaching(\"Yashvi\",50000,\"CSE\")\n",
    "t2.display()"
   ]
  },
  {
   "cell_type": "code",
   "execution_count": 4,
   "metadata": {},
   "outputs": [
    {
     "name": "stdout",
     "output_type": "stream",
     "text": [
      "Add Student :y\n",
      "Add Student :v\n",
      "Add Student :h\n",
      "Name  : Heetu\n",
      "Email  : yashviH@gmail.com\n",
      "Added Student ['y', 'v', 'h']\n",
      "Enter Student Name to ne removed :h\n",
      "Name  : Heetu\n",
      "Email  : yashviH@gmail.com\n",
      "Added Student ['y', 'v']\n"
     ]
    }
   ],
   "source": [
    "#create a class call student having name and email as its data members add constuand put dta as bound mathodsthe init function\n",
    "#should the values pass as paramtes to the vairable the purt dta functionn should display the data of the student \n",
    "#create another class called phd guide having name and emails as its data members u can use students as a variable as a blank list\n",
    "#the students variable is a list of studnt under the guide the phd guide class have 4 bound methods init,putdata,add,and remove\n",
    "class Student:\n",
    "    def __init__(self,name,email):\n",
    "        self.name=name\n",
    "        self.email=email\n",
    "    def putdata(self):\n",
    "        print(\"Name  :\",self.name)\n",
    "        print(\"Email  :\",self.email)\n",
    "class phdguide(Student):\n",
    "    def __init__(self,name,email):\n",
    "        super().__init__(name,email)\n",
    "        self.Students=[]\n",
    "    def putdata(self):\n",
    "        super().putdata()\n",
    "        print(\"Added Student\",self.Students)\n",
    "    def add(self):\n",
    "        self.Students.append(input(\"Add Student :\"))\n",
    "    def remove(self):\n",
    "        name=input(\"Enter Student Name to ne removed :\")\n",
    "        if name in self.Students:\n",
    "                self.Students.remove(name)\n",
    "p=phdguide(\"Heetu\",\"yashviH@gmail.com\")\n",
    "for i in range(3):\n",
    "    p.add()\n",
    "p.putdata()\n",
    "p.remove()\n",
    "p.putdata()  \n",
    "\n"
   ]
  },
  {
   "cell_type": "code",
   "execution_count": 8,
   "metadata": {},
   "outputs": [
    {
     "ename": "TypeError",
     "evalue": "__init__() missing 3 required positional arguments: 'id', 'name', and 'salary'",
     "output_type": "error",
     "traceback": [
      "\u001b[1;31m---------------------------------------------------------------------------\u001b[0m",
      "\u001b[1;31mTypeError\u001b[0m                                 Traceback (most recent call last)",
      "\u001b[1;32m<ipython-input-8-3d8827d8724b>\u001b[0m in \u001b[0;36m<module>\u001b[1;34m\u001b[0m\n\u001b[0;32m     40\u001b[0m         \u001b[0mself\u001b[0m\u001b[1;33m.\u001b[0m\u001b[0mprintperks\u001b[0m\u001b[1;33m(\u001b[0m\u001b[1;33m)\u001b[0m\u001b[1;33m\u001b[0m\u001b[1;33m\u001b[0m\u001b[0m\n\u001b[0;32m     41\u001b[0m         \u001b[0mprint\u001b[0m\u001b[1;33m(\u001b[0m\u001b[1;34m\"Total :\"\u001b[0m\u001b[1;33m,\u001b[0m\u001b[0mself\u001b[0m\u001b[1;33m.\u001b[0m\u001b[0mns\u001b[0m\u001b[1;33m)\u001b[0m\u001b[1;33m\u001b[0m\u001b[1;33m\u001b[0m\u001b[0m\n\u001b[1;32m---> 42\u001b[1;33m \u001b[0mn\u001b[0m\u001b[1;33m=\u001b[0m\u001b[0mNetsalary\u001b[0m\u001b[1;33m(\u001b[0m\u001b[1;33m)\u001b[0m\u001b[1;33m\u001b[0m\u001b[1;33m\u001b[0m\u001b[0m\n\u001b[0m\u001b[0;32m     43\u001b[0m \u001b[0mn\u001b[0m\u001b[1;33m.\u001b[0m\u001b[0mgettotal\u001b[0m\u001b[1;33m(\u001b[0m\u001b[1;33m)\u001b[0m\u001b[1;33m\u001b[0m\u001b[1;33m\u001b[0m\u001b[0m\n",
      "\u001b[1;31mTypeError\u001b[0m: __init__() missing 3 required positional arguments: 'id', 'name', and 'salary'"
     ]
    }
   ],
   "source": [
    "#create 3 class employee perks salary  emplyoee id namae and salary from student 2 to print employe details # to retuen salary\n",
    "\n",
    "from abc import ABC,abstractmethod\n",
    "class employee(ABC):\n",
    "    def __init__(self,id,name,salary):\n",
    "        self.id=int(input(\"Enter Id:\"))\n",
    "        self.name=input(\"Enter Name:\")\n",
    "        self.salary=int(input(\"Enter Salary:\"))\n",
    "    def printe(self):\n",
    "        print(\"Id\",self.id)\n",
    "        print(\"Name\",self.name)\n",
    "        print(\"Salary\",self.salary)\n",
    "    def getsalary(self):\n",
    "        return self.salary\n",
    "    @abstractmethod\n",
    "    def emp_id(self):\n",
    "        pass\n",
    "class Perks(employee):\n",
    "    def calcperks(self):\n",
    "        self.employee()\n",
    "        sa=self.getsalary()\n",
    "        self.da=0.35*salary\n",
    "        self.hra=0.17*salary\n",
    "        self.pf=0.12*salary\n",
    "    def printperks(self):\n",
    "        self.printe()\n",
    "        print(\"DA\",self.da)\n",
    "        print(\"HRA\",self.hra)\n",
    "        print(\"PF\",self.pf)\n",
    "    def totalperks(self):\n",
    "        t=self.da+self.hra-self.pf\n",
    "        return t\n",
    "    def emp_id(self):\n",
    "        pass\n",
    "        \n",
    "class Netsalary(Perks):\n",
    "    def gettotal(self):\n",
    "        self.calcperks()\n",
    "        self.ns=self.getsalary()+self.totalperks()\n",
    "        self.printperks()\n",
    "        print(\"Total :\",self.ns)\n",
    "n=Netsalary()\n",
    "n.gettotal()"
   ]
  },
  {
   "cell_type": "code",
   "execution_count": null,
   "metadata": {},
   "outputs": [],
   "source": [
    "from abc import ABC, abstractmethod\n",
    "class Employee(ABC):\n",
    "    def __init__(self):\n",
    "        self.employee_id = None\n",
    "        self.employee_name = None\n",
    "        self.salary = None\n",
    "\n",
    "    def get_employee_details(self):\n",
    "        self.employee_id = input(\"Enter employee ID: \")\n",
    "        self.employee_name = input(\"Enter employee Name: \")\n",
    "        self.salary = float(input(\"Enter salary: \"))\n",
    "    \n",
    "    def print_employee_details(self):\n",
    "        print(f\"Employee ID: {self.employee_id}\")\n",
    "        print(f\"Employee Name: {self.employee_name}\")\n",
    "        print(f\"Salary: {self.salary}\")\n",
    "    \n",
    "    def return_salary(self):\n",
    "        return self.salary\n",
    "\n",
    "    @abstractmethod\n",
    "    def get_employee_id(self):\n",
    "        pass\n",
    "\n",
    "class Perks:\n",
    "    def __init__(self, salary):\n",
    "        self.salary = salary\n",
    "        self.da = 0.35 * salary  \n",
    "        self.hra = 0.17 * salary  \n",
    "        self.pf = 0.12 * salary  \n",
    "    \n",
    "    def print_perks(self):\n",
    "        print(f\"DA: {self.da}\")\n",
    "        print(f\"HRA: {self.hra}\")\n",
    "        print(f\"PF: {self.pf}\")\n",
    "        print(f\"Total Perks: {self.da + self.hra + self.pf}\")\n",
    "\n",
    "class NetSalary:\n",
    "    def __init__(self, salary, da, hra, pf):\n",
    "        self.salary = salary\n",
    "        self.da = da\n",
    "        self.hra = hra\n",
    "        self.pf = pf\n",
    "    \n",
    "    def calculate_net_salary(self):\n",
    "        return self.salary + self.da + self.hra + self.pf\n",
    "    \n",
    "    def print_net_salary(self, employee_id, employee_name):\n",
    "        print(f\"\\nEmployee ID: {employee_id}\")\n",
    "        print(f\"Employee Name: {employee_name}\")\n",
    "        print(f\"Salary: {self.salary}\")\n",
    "        print(f\"DA: {self.da}\")\n",
    "        print(f\"HRA: {self.hra}\")\n",
    "        print(f\"PF: {self.pf}\")\n",
    "        print(f\"Net Salary (after perks): {self.calculate_net_salary()}\")\n",
    "\n",
    "class EmployeeDetails(Employee):\n",
    "    def get_employee_id(self):\n",
    "        return self.employee_id\n",
    "\n",
    "employee = EmployeeDetails()\n",
    "employee.get_employee_details()\n",
    "perks = Perks(employee.return_salary())\n",
    "perks.print_perks()\n",
    "net_salary = NetSalary(employee.return_salary(), perks.da, perks.hra, perks.pf)\n",
    "net_salary.print_net_salary(employee.get_employee_id(), employee.employee_name)\n",
    "     "
   ]
  },
  {
   "cell_type": "code",
   "execution_count": 7,
   "metadata": {
    "scrolled": true
   },
   "outputs": [
    {
     "name": "stdout",
     "output_type": "stream",
     "text": [
      "HDD 5000\n",
      "Want this items ? Y/Ny\n",
      "Enter No ofHDD's:1\n",
      "\n",
      "Ram 2000\n",
      "Want this items ? Y/Ny\n",
      "Enter No ofRam's:1\n",
      "\n",
      "Printer 6000\n",
      "Want this items ? Y/Nn\n",
      "\n",
      "Pendrive 800\n",
      "Want this items ? Y/Nn\n",
      "\n",
      "1. Cash Payments--2.Check payments\n",
      "Enter Payment Method:2\n",
      "EnterCheque No:12345\n",
      "Enter Bank Name:abc\n",
      "\n",
      "Payment Method is cheque\n",
      "Total Amount to pay: 7000\n",
      "Cheque No : 12345\n",
      "Bank Name: abc\n"
     ]
    }
   ],
   "source": [
    "class Bill:\n",
    "    rates={\"HDD\":5000,\"Ram\":2000,\"Printer\":6000,\"Pendrive\":800}\n",
    "    Items={\"HDD\":0,\"Ram\":0,\"Printer\":0,\"Pendrive\":0}\n",
    "    for i,j in rates.items():\n",
    "        print(i,j)\n",
    "        accept=input(\"Want this items ? Y/N\").upper()\n",
    "        if accept==\"Y\":\n",
    "            Items[i]=int(input(\"Enter No of\"+i+\"'s:\"))*rates[i]\n",
    "        print()\n",
    "    def __init__(self):\n",
    "        print(\"1. Cash Payments--2.Check payments\")\n",
    "        paymenthod=int(input(\"Enter Payment Method:\"))\n",
    "        if paymenthod==1:\n",
    "            cashpayment()\n",
    "        elif paymenthod==2:\n",
    "            cheque_no=int(input(\"EnterCheque No:\"))\n",
    "            bank=input(\"Enter Bank Name:\")\n",
    "            chequepayment(cheque_no,bank)\n",
    "class cashpayment(Bill):\n",
    "    def __init__(self):\n",
    "        print()\n",
    "        print(\"Payment Method is cash\")\n",
    "        sum=0\n",
    "        for i,j in self.Items.items():\n",
    "            sum+=j\n",
    "        print(\"Total Amount to pay:\",sum)\n",
    "        dic={\"2000 rupees notes\":2000,\"500 rupees notes\":500,\"200 rupees notes\":200,\"50 rupees notes\":50,\"20 rupees notes\":20,\"10 rupees notes\":10}\n",
    "        print()\n",
    "        for i,j in dic.items():\n",
    "            if sum>=j:\n",
    "                print(i+\":\",sum//j)\n",
    "                sum=sum%j\n",
    "class chequepayment(Bill):\n",
    "    def __init__(self,cheque_no,bank):\n",
    "        print()\n",
    "        print(\"Payment Method is cheque\")\n",
    "        sum=0\n",
    "        for i,j in self.Items.items():\n",
    "            sum+=j    \n",
    "        print(\"Total Amount to pay:\",sum)\n",
    "        print(\"Cheque No :\",cheque_no)\n",
    "        print(\"Bank Name:\",bank)\n",
    "b=Bill()"
   ]
  },
  {
   "cell_type": "code",
   "execution_count": null,
   "metadata": {},
   "outputs": [],
   "source": [
    "from abc import ABC,abstractmethod\n",
    "class Book(ABC):\n",
    "        \n",
    "    "
   ]
  }
 ],
 "metadata": {
  "kernelspec": {
   "display_name": "Python 3",
   "language": "python",
   "name": "python3"
  },
  "language_info": {
   "codemirror_mode": {
    "name": "ipython",
    "version": 3
   },
   "file_extension": ".py",
   "mimetype": "text/x-python",
   "name": "python",
   "nbconvert_exporter": "python",
   "pygments_lexer": "ipython3",
   "version": "3.8.5"
  }
 },
 "nbformat": 4,
 "nbformat_minor": 4
}
