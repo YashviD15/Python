{
 "cells": [
  {
   "cell_type": "markdown",
   "metadata": {},
   "source": [
    "# Advance OOPS"
   ]
  },
  {
   "cell_type": "code",
   "execution_count": 3,
   "metadata": {},
   "outputs": [
    {
     "name": "stdout",
     "output_type": "stream",
     "text": [
      "12\n"
     ]
    },
    {
     "ename": "TypeError",
     "evalue": "area() missing 1 required positional argument: 'b'",
     "output_type": "error",
     "traceback": [
      "\u001b[1;31m---------------------------------------------------------------------------\u001b[0m",
      "\u001b[1;31mTypeError\u001b[0m                                 Traceback (most recent call last)",
      "\u001b[1;32m<ipython-input-3-d9a638088155>\u001b[0m in \u001b[0;36m<module>\u001b[1;34m\u001b[0m\n\u001b[0;32m      6\u001b[0m \u001b[0ms\u001b[0m\u001b[1;33m=\u001b[0m\u001b[0mshape\u001b[0m\u001b[1;33m(\u001b[0m\u001b[1;33m)\u001b[0m\u001b[1;33m\u001b[0m\u001b[1;33m\u001b[0m\u001b[0m\n\u001b[0;32m      7\u001b[0m \u001b[0mprint\u001b[0m\u001b[1;33m(\u001b[0m\u001b[0ms\u001b[0m\u001b[1;33m.\u001b[0m\u001b[0marea\u001b[0m\u001b[1;33m(\u001b[0m\u001b[1;36m3\u001b[0m\u001b[1;33m,\u001b[0m\u001b[1;36m4\u001b[0m\u001b[1;33m)\u001b[0m\u001b[1;33m)\u001b[0m\u001b[1;33m\u001b[0m\u001b[1;33m\u001b[0m\u001b[0m\n\u001b[1;32m----> 8\u001b[1;33m \u001b[0mprint\u001b[0m\u001b[1;33m(\u001b[0m\u001b[0ms\u001b[0m\u001b[1;33m.\u001b[0m\u001b[0marea\u001b[0m\u001b[1;33m(\u001b[0m\u001b[1;36m2\u001b[0m\u001b[1;33m)\u001b[0m\u001b[1;33m)\u001b[0m\u001b[1;33m\u001b[0m\u001b[1;33m\u001b[0m\u001b[0m\n\u001b[0m",
      "\u001b[1;31mTypeError\u001b[0m: area() missing 1 required positional argument: 'b'"
     ]
    }
   ],
   "source": [
    "class shape:\n",
    "    def area(self,a):\n",
    "        return 3.14*a*a\n",
    "    def area(self,a,b):\n",
    "        return a*b\n",
    "s=shape()\n",
    "print(s.area(3,4))\n",
    "print(s.area(2))"
   ]
  },
  {
   "cell_type": "code",
   "execution_count": 8,
   "metadata": {},
   "outputs": [
    {
     "name": "stdout",
     "output_type": "stream",
     "text": [
      "Addition: 30\n",
      "multiplication: 200\n",
      "Addition: 30\n"
     ]
    }
   ],
   "source": [
    "class Add:\n",
    "    def result(self,a,b):\n",
    "        print(\"Addition:\",a+b)\n",
    "class Multi(Add):\n",
    "    def result(self,a,b):\n",
    "        super().result(10,20)\n",
    "        print(\"multiplication:\",a*b)\n",
    "a=Multi()\n",
    "a.result(10,20)\n",
    "m=Add()\n",
    "m.result(10,20)"
   ]
  },
  {
   "cell_type": "code",
   "execution_count": 13,
   "metadata": {},
   "outputs": [
    {
     "name": "stdout",
     "output_type": "stream",
     "text": [
      "First function of class A\n",
      "First function of class B\n",
      "Second function of class A\n",
      "Second function of class A\n",
      "Display function of child class\n"
     ]
    },
    {
     "ename": "AttributeError",
     "evalue": "'A' object has no attribute 'display'",
     "output_type": "error",
     "traceback": [
      "\u001b[1;31m---------------------------------------------------------------------------\u001b[0m",
      "\u001b[1;31mAttributeError\u001b[0m                            Traceback (most recent call last)",
      "\u001b[1;32m<ipython-input-13-18fe4448e658>\u001b[0m in \u001b[0;36m<module>\u001b[1;34m\u001b[0m\n\u001b[0;32m     16\u001b[0m \u001b[0mobj2\u001b[0m\u001b[1;33m.\u001b[0m\u001b[0msecond\u001b[0m\u001b[1;33m(\u001b[0m\u001b[1;33m)\u001b[0m\u001b[1;33m\u001b[0m\u001b[1;33m\u001b[0m\u001b[0m\n\u001b[0;32m     17\u001b[0m \u001b[0mobj2\u001b[0m\u001b[1;33m.\u001b[0m\u001b[0mdisplay\u001b[0m\u001b[1;33m(\u001b[0m\u001b[1;33m)\u001b[0m\u001b[1;33m\u001b[0m\u001b[1;33m\u001b[0m\u001b[0m\n\u001b[1;32m---> 18\u001b[1;33m \u001b[0mobj1\u001b[0m\u001b[1;33m.\u001b[0m\u001b[0mdisplay\u001b[0m\u001b[1;33m(\u001b[0m\u001b[1;33m)\u001b[0m\u001b[1;33m\u001b[0m\u001b[1;33m\u001b[0m\u001b[0m\n\u001b[0m",
      "\u001b[1;31mAttributeError\u001b[0m: 'A' object has no attribute 'display'"
     ]
    }
   ],
   "source": [
    "class A:\n",
    "    def first(self):\n",
    "        print(\"First function of class A\")\n",
    "    def second(self):\n",
    "        print(\"Second function of class A\")\n",
    "class B(A):\n",
    "    def first(self):\n",
    "        print(\"First function of class B\")\n",
    "    def display(self):\n",
    "        print(\"Display function of child class\")\n",
    "obj1=A()\n",
    "obj2=B()\n",
    "obj1.first()\n",
    "obj2.first()\n",
    "obj1.second()\n",
    "obj2.second()\n",
    "obj2.display()\n",
    "obj1.display()\n"
   ]
  },
  {
   "cell_type": "code",
   "execution_count": 17,
   "metadata": {},
   "outputs": [
    {
     "name": "stdout",
     "output_type": "stream",
     "text": [
      "300\n"
     ]
    }
   ],
   "source": [
    "class A:\n",
    "    def __init__(self,x):\n",
    "        self.x=x\n",
    "    def __add__(self,other):\n",
    "        return self.x+other.x\n",
    "class B:\n",
    "    def __init__(self,x):\n",
    "        self.x=x\n",
    "a=A(100)\n",
    "b=B(200)\n",
    "print(a+b)"
   ]
  },
  {
   "cell_type": "code",
   "execution_count": 21,
   "metadata": {},
   "outputs": [
    {
     "name": "stdout",
     "output_type": "stream",
     "text": [
      "3\n",
      "HelloHi\n",
      "3\n",
      "HelloHi\n"
     ]
    }
   ],
   "source": [
    "class A:\n",
    "    def __init__(self,x):\n",
    "        self.x=x\n",
    "    def __add__(self,other):\n",
    "        return self.x+other.x\n",
    "obj1=A(1)\n",
    "obj2=A(2)\n",
    "obj3=A(\"Hello\")\n",
    "obj4=A(\"Hi\")\n",
    "print(obj1+obj2) #or print(A.__add__(obj1,obj2)) or print(obj1.__add__(obj2))\n",
    "print(obj3+obj4) #or print(A.__add__(obj3,obj4)) or print(obj3.__add__(obj4))"
   ]
  },
  {
   "cell_type": "code",
   "execution_count": 3,
   "metadata": {},
   "outputs": [
    {
     "name": "stdout",
     "output_type": "stream",
     "text": [
      "obj2 is greater than obj1\n"
     ]
    }
   ],
   "source": [
    "class A:\n",
    "    def __init__(self,x):\n",
    "        self.x=x\n",
    "    def __gt__(self,other):\n",
    "        if self.x>other.x:\n",
    "            return True\n",
    "        else:\n",
    "            return False\n",
    "obj1=A(2)\n",
    "obj2=A(3)\n",
    "\n",
    "if obj1>obj2:\n",
    "    print(\"obj1 is greater than obj2\")\n",
    "else:\n",
    "    print(\"obj2 is greater than obj1\")"
   ]
  },
  {
   "cell_type": "markdown",
   "metadata": {},
   "source": [
    "**Mathematical operators**"
   ]
  },
  {
   "cell_type": "code",
   "execution_count": null,
   "metadata": {},
   "outputs": [],
   "source": [
    "+ __add__(self,other)\n",
    "- __sub__(self,other)\n",
    "* __mul__(self,other)\n",
    "/ __truediv__(self,other)\n",
    "// __floordiv__(self,other)\n",
    "%__mod__(self,other)\n",
    "** __pow__(self,other)"
   ]
  },
  {
   "cell_type": "markdown",
   "metadata": {},
   "source": [
    "**Comparison operators**"
   ]
  },
  {
   "cell_type": "code",
   "execution_count": null,
   "metadata": {},
   "outputs": [],
   "source": [
    "< __lt__(self,other)\n",
    "> __gt__(self,other)\n",
    "<= __le__(self,other)\n",
    ">= __ge__(self,other)\n",
    "== __eq__(self,other)\n",
    "!= __ne__(self,other)\n"
   ]
  },
  {
   "cell_type": "code",
   "execution_count": 10,
   "metadata": {},
   "outputs": [
    {
     "name": "stdout",
     "output_type": "stream",
     "text": [
      "3\n",
      "-1\n",
      "2\n",
      "0.5\n",
      "0\n",
      "1\n",
      "1\n",
      "True\n",
      "False\n",
      "True\n",
      "False\n",
      "False\n",
      "True\n"
     ]
    }
   ],
   "source": [
    "class A:\n",
    "    def __init__(self,x):\n",
    "        self.x=x\n",
    "    def __add__(self,other):\n",
    "        return self.x+other.x\n",
    "    def __sub__(self,other):\n",
    "        return self.x-other.x\n",
    "    def __mul__(self,other):\n",
    "        return self.x*other.x\n",
    "    def __truediv__(self,other):\n",
    "        return self.x/other.x\n",
    "    def __floordiv__(self,other):\n",
    "        return self.x//other.x\n",
    "    def __mod__(self,other):\n",
    "        return self.x%other.x\n",
    "    def __pow__(self,other):\n",
    "        return self.x**other.x\n",
    "    def __lt__(self,other):\n",
    "        return self.x<other.x\n",
    "    def __gt__(self,other):\n",
    "        return self.x>other.x\n",
    "    def __le__(self,other):\n",
    "        return self.x<=other.x\n",
    "    def __ge__(self,other):\n",
    "        return self.x>=other.x\n",
    "    def __eq__(self,other):\n",
    "        return self.x==other.x\n",
    "    def __ne__(self,other):\n",
    "        return self.x!=other.x\n",
    "obj1=A(1)\n",
    "obj2=A(2)\n",
    "print(obj1+obj2)\n",
    "print(obj1-obj2)\n",
    "print(obj1*obj2)\n",
    "print(obj1/obj2)\n",
    "print(obj1//obj2)\n",
    "print(obj1%obj2)\n",
    "print(obj1**obj2) \n",
    "print(obj1<obj2)\n",
    "print(obj1>obj2)\n",
    "print(obj1<=obj2)\n",
    "print(obj1>=obj2)\n",
    "print(obj1==obj2)\n",
    "print(obj1!=obj2)"
   ]
  },
  {
   "cell_type": "code",
   "execution_count": 12,
   "metadata": {},
   "outputs": [
    {
     "name": "stdout",
     "output_type": "stream",
     "text": [
      "Hello parent\n",
      "Hello child\n"
     ]
    }
   ],
   "source": [
    "class parent:\n",
    "    def func1(self):\n",
    "        print(\"Hello parent\")\n",
    "class child(parent):\n",
    "    def func2(self):\n",
    "        print(\"Hello child\")\n",
    "test=child()\n",
    "test.func1()\n",
    "test.func2()"
   ]
  },
  {
   "cell_type": "code",
   "execution_count": 5,
   "metadata": {},
   "outputs": [
    {
     "name": "stdout",
     "output_type": "stream",
     "text": [
      "Hello parent1\n",
      "Hello parent3\n",
      "Hello child\n",
      "(<class '__main__.child'>, <class '__main__.parent1'>, <class '__main__.parent3'>, <class '__main__.parent2'>, <class 'object'>)\n"
     ]
    }
   ],
   "source": [
    "class parent1:\n",
    "    def func1(self):\n",
    "        print(\"Hello parent1\")\n",
    "\n",
    "class parent2:\n",
    "    def func2(self):\n",
    "        print(\"Hello parent2\")\n",
    "class parent3:\n",
    "    def func2(self):\n",
    "        print(\"Hello parent3\")\n",
    "class child(parent1,parent3,parent2):\n",
    "    def func3(self):\n",
    "        print(\"Hello child\")\n",
    "test=child()\n",
    "test.func1()\n",
    "test.func2()\n",
    "test.func3()\n",
    "print(child.__mro__)"
   ]
  },
  {
   "cell_type": "code",
   "execution_count": 1,
   "metadata": {},
   "outputs": [
    {
     "name": "stdout",
     "output_type": "stream",
     "text": [
      "Hello grandparent\n",
      "Hello parent\n",
      "Hello child\n",
      "(<class '__main__.child'>, <class '__main__.parent'>, <class '__main__.grandparent'>, <class 'object'>)\n"
     ]
    }
   ],
   "source": [
    "class grandparent:\n",
    "    def func1(self):\n",
    "        print(\"Hello grandparent\")\n",
    "class parent(grandparent):\n",
    "    def func2(self):\n",
    "        print(\"Hello parent\")\n",
    "class child(parent):\n",
    "    def func3(self):\n",
    "        print(\"Hello child\")\n",
    "test=child()\n",
    "test.func1()\n",
    "test.func2()\n",
    "test.func3()\n",
    "print(child.__mro__)"
   ]
  },
  {
   "cell_type": "code",
   "execution_count": 5,
   "metadata": {},
   "outputs": [
    {
     "name": "stdout",
     "output_type": "stream",
     "text": [
      "Hello parent\n",
      "Hello child1\n",
      "Hello parent\n",
      "Hello child2\n",
      "(<class '__main__.child1'>, <class '__main__.parent'>, <class 'object'>)\n",
      "(<class '__main__.child2'>, <class '__main__.parent'>, <class 'object'>)\n"
     ]
    }
   ],
   "source": [
    "#hyrarchical inheritance\n",
    "class parent:\n",
    "    def func1(self):\n",
    "        print(\"Hello parent\")\n",
    "class child1(parent):\n",
    "    def func2(self):\n",
    "        print(\"Hello child1\")\n",
    "class child2(parent):\n",
    "    def func3(self):\n",
    "        print(\"Hello child2\")\n",
    "obj1=child1()\n",
    "obj2=child2()\n",
    "obj1.func1()\n",
    "obj1.func2()\n",
    "obj2.func1()\n",
    "obj2.func3()\n",
    "print(child1.__mro__)\n",
    "print(child2.__mro__)"
   ]
  },
  {
   "cell_type": "code",
   "execution_count": 10,
   "metadata": {},
   "outputs": [
    {
     "name": "stdout",
     "output_type": "stream",
     "text": [
      "Hello parent1\n",
      "Hello child1\n",
      "Hello parent1\n",
      "Hello parent2\n",
      "Hello child1\n",
      "Hello child2\n",
      "(<class '__main__.child1'>, <class '__main__.parent1'>, <class 'object'>)\n",
      "(<class '__main__.child2'>, <class '__main__.child1'>, <class '__main__.parent1'>, <class '__main__.parent2'>, <class 'object'>)\n",
      "[<class '__main__.child1'>, <class '__main__.parent1'>, <class 'object'>]\n"
     ]
    }
   ],
   "source": [
    "#hybrid inheritance\n",
    "class parent1:\n",
    "    def func1(self):\n",
    "        print(\"Hello parent1\")\n",
    "class parent2:\n",
    "    def func2(self):\n",
    "        print(\"Hello parent2\")\n",
    "class child1(parent1):\n",
    "    def func3(self):\n",
    "        print(\"Hello child1\")\n",
    "class child2(child1,parent2):\n",
    "    def func4(self):\n",
    "        print(\"Hello child2\")\n",
    "test1=child1()\n",
    "test2=child2()\n",
    "test1.func1()\n",
    "test1.func3()\n",
    "test2.func1()\n",
    "test2.func2()\n",
    "test2.func3()\n",
    "test2.func4()\n",
    "print(child1.__mro__)\n",
    "print(child2.__mro__) \n",
    "print(child1.mro()) #list"
   ]
  },
  {
   "cell_type": "code",
   "execution_count": 17,
   "metadata": {},
   "outputs": [
    {
     "name": "stdout",
     "output_type": "stream",
     "text": [
      "50\n"
     ]
    }
   ],
   "source": [
    "#super()\n",
    "class parent:\n",
    "    def __init__(self):\n",
    "        self.attr1=50\n",
    "        self.attr2=65\n",
    "class child(parent):\n",
    "    def __init__(self): \n",
    "        parent.__init__(self) #or super().__init__()\n",
    "        self.attr3=45\n",
    "test=child()\n",
    "print(test.attr1)"
   ]
  },
  {
   "cell_type": "code",
   "execution_count": 23,
   "metadata": {},
   "outputs": [
    {
     "name": "stdout",
     "output_type": "stream",
     "text": [
      "True\n",
      "False\n",
      "True\n",
      "True\n",
      "False\n",
      "True\n"
     ]
    }
   ],
   "source": [
    "#issubclass()\n",
    "#isinstance()\n",
    "class parent:\n",
    "    def func1(self):\n",
    "        print(\"Hello parent\")\n",
    "class child(parent):\n",
    "    def func2(self):\n",
    "        print(\"Hello child\")\n",
    "print(issubclass(child,parent))\n",
    "print(issubclass(parent,child))\n",
    "\n",
    "A=child()\n",
    "B=parent()\n",
    "print(isinstance(A,child))\n",
    "print(isinstance(A,parent))\n",
    "print(isinstance(B,child))\n",
    "print(isinstance(B,parent))\n"
   ]
  },
  {
   "cell_type": "code",
   "execution_count": 30,
   "metadata": {},
   "outputs": [
    {
     "name": "stdout",
     "output_type": "stream",
     "text": [
      "class B\n",
      "(<class '__main__.D'>, <class '__main__.B'>, <class '__main__.C'>, <class '__main__.A'>, <class 'object'>)\n",
      "(<class '__main__.C'>, <class '__main__.A'>, <class 'object'>)\n",
      "(<class '__main__.B'>, <class '__main__.A'>, <class 'object'>)\n"
     ]
    }
   ],
   "source": [
    "#MRO : method resolution order\n",
    "class A:\n",
    "    def rk(self):\n",
    "        print(\"class A\")\n",
    "class B(A):\n",
    "    def rk(self):\n",
    "        print(\"class B\")\n",
    "class C(A):\n",
    "    def rk(self):\n",
    "        print(\"class C\")\n",
    "class D(B,C):\n",
    "    pass\n",
    "r=D()\n",
    "r.rk()\n",
    "print(D.__mro__)\n",
    "print(C.__mro__)\n",
    "print(B.__mro__)"
   ]
  },
  {
   "cell_type": "code",
   "execution_count": 5,
   "metadata": {},
   "outputs": [
    {
     "name": "stdout",
     "output_type": "stream",
     "text": [
      "bar from c2\n",
      "foo from p1\n"
     ]
    },
    {
     "data": {
      "text/plain": [
       "[__main__.GC, __main__.c1, __main__.p1, __main__.c2, __main__.p2, object]"
      ]
     },
     "execution_count": 5,
     "metadata": {},
     "output_type": "execute_result"
    }
   ],
   "source": [
    "class p1:\n",
    "    def foo(self):\n",
    "        print(\"foo from p1\")\n",
    "class p2:\n",
    "    def foo(self):\n",
    "        print(\"foo from p2\")\n",
    "    def bar(self):\n",
    "        print(\"bar from p2\")\n",
    "class c1(p1,p2):\n",
    "    pass\n",
    "class c2(p2):\n",
    "    def bar(self):\n",
    "        print(\"bar from c2\")\n",
    "class GC(c1,c2):\n",
    "    pass\n",
    "gc=GC()\n",
    "gc.bar()\n",
    "gc.foo()\n",
    "GC.mro()"
   ]
  },
  {
   "cell_type": "code",
   "execution_count": 12,
   "metadata": {},
   "outputs": [
    {
     "name": "stdout",
     "output_type": "stream",
     "text": [
      "draw circle\n"
     ]
    }
   ],
   "source": [
    "#Astract class\n",
    "from abc import ABC,abstractmethod\n",
    "class shape(ABC):\n",
    "    def __init__(self,shape_name):\n",
    "        self.shape_name=shape_name\n",
    "    @abstractmethod\n",
    "    def draw(self):\n",
    "        pass\n",
    "class circle(shape):\n",
    "    def __init__(self):\n",
    "        super().__init__(\"circle\")\n",
    "    def draw(self):\n",
    "        print(\"draw circle\")\n",
    "c=circle()\n",
    "c.draw()"
   ]
  },
  {
   "cell_type": "code",
   "execution_count": 4,
   "metadata": {},
   "outputs": [
    {
     "ename": "SyntaxError",
     "evalue": "invalid syntax (<ipython-input-4-c9aa7eddac0b>, line 2)",
     "output_type": "error",
     "traceback": [
      "\u001b[1;36m  File \u001b[1;32m\"<ipython-input-4-c9aa7eddac0b>\"\u001b[1;36m, line \u001b[1;32m2\u001b[0m\n\u001b[1;33m    def __init__(self,no.ofauthor,publisher,ISBN,year):\u001b[0m\n\u001b[1;37m                        ^\u001b[0m\n\u001b[1;31mSyntaxError\u001b[0m\u001b[1;31m:\u001b[0m invalid syntax\n"
     ]
    }
   ],
   "source": [
    "class Book:\n",
    "    def __init__(self,no.ofauthor,publisher,ISBN,year):\n",
    "        self.no.ofauthor=no.ofauthor\n",
    "        self.authorname=[]\n",
    "        self.publisher=publisher\n",
    "        self.ISBN=ISBN\n",
    "        self.year=year\n",
    "        \n",
    "    def display(self):\n",
    "        print(\"NAME:\",name)\n",
    "        print(\"NO OF AUTHOR:\",no.ofauthor)\n",
    "        for i in range(self.no.ofauthor):\n",
    "            a=input(\"Enter authorname:\")\n",
    "            print(\"AUTHOR NAME:\",list[authorname])\n",
    "        \n",
    "        print(\"PUBLISHER:\",publisher)\n",
    "        print(\"ISBN:\",ISBN)\n",
    "        print(\"YEAR:\",year)\n",
    "        \n",
    "class coursebook(Book):\n",
    "    def __init__(self,coursename):\n",
    "        super().__init__()\n",
    "        self.coursename=coursename\n",
    "    def display(self):\n",
    "        super().display()\n",
    "        print(\"COURSE NAME:\",coursename)\n",
    "b=book(2,\"yashvi\",7898,2025)\n",
    "b.display()"
   ]
  },
  {
   "cell_type": "code",
   "execution_count": 6,
   "metadata": {},
   "outputs": [
    {
     "name": "stdout",
     "output_type": "stream",
     "text": [
      "[<class '__main__.z'>, <class '__main__.k1'>, <class '__main__.C'>, <class '__main__.k3'>, <class '__main__.A'>, <class '__main__.k2'>, <class '__main__.B'>, <class '__main__.D'>, <class '__main__.F'>, <class '__main__.E'>, <class 'object'>]\n"
     ]
    }
   ],
   "source": [
    "class A:pass\n",
    "class B:pass\n",
    "class C:pass\n",
    "class D:pass\n",
    "class E:pass\n",
    "class F:pass\n",
    "class k1(C,A,B):pass\n",
    "class k3(A,D,F):pass\n",
    "class k2(B,D,E):pass\n",
    "class z(k1,k3,k2):pass\n",
    "print(z.mro())"
   ]
  },
  {
   "cell_type": "code",
   "execution_count": 23,
   "metadata": {},
   "outputs": [
    {
     "name": "stdout",
     "output_type": "stream",
     "text": [
      "NAME: srushti\n",
      "SALARY: 250000\n",
      "SUBJECT: maths\n",
      "\n",
      "NAME: mahi\n",
      "SALARY: 50000\n",
      "SUBJECT: python\n"
     ]
    }
   ],
   "source": [
    "#the impliment following hirarkey create class staff take name and salary as its data members the derived class teaching as \n",
    "#subject it has data members an dthe derived no teaching has department has its data membner.\n",
    "#the derived class override the method of base class.\n",
    "class staff:\n",
    "    def __init__(self,name,salary):\n",
    "        self.name=name\n",
    "        self.salary=salary\n",
    "    def display(self):\n",
    "        print(\"NAME:\",self.name)\n",
    "        print(\"SALARY:\",self.salary)\n",
    "        \n",
    "class Teaching(staff):\n",
    "    def __init__(self,name,salary,subject):\n",
    "        super().__init__(name,salary)\n",
    "        self.subject=subject\n",
    "    def display(self):\n",
    "        super().display()\n",
    "        print(\"SUBJECT:\",self.subject)\n",
    "        \n",
    "class Non_teaching(staff):\n",
    "    def __init__(self,name,salary,dept):\n",
    "        super().__init__(name,salary)\n",
    "        self.dept=dept\n",
    "    def display(self):\n",
    "        super().display()\n",
    "        print(\"SUBJECT:\",self.dept)\n",
    "t=Teaching(\"srushti\",250000,\"maths\")\n",
    "t.display()\n",
    "print()\n",
    "t1=Non_teaching(\"mahi\",50000,\"python\")      \n",
    "t1.display() "
   ]
  },
  {
   "cell_type": "code",
   "execution_count": 8,
   "metadata": {},
   "outputs": [
    {
     "name": "stdout",
     "output_type": "stream",
     "text": [
      "Add student:srushti\n",
      "Add student:yashvi\n",
      "Add student:kishu\n",
      "NAME: sagar patel\n",
      "EMAIL: sagar1770@gmail.com\n",
      "student: ['srushti', 'yashvi', 'kishu']\n",
      "enter remove student:kishu\n",
      "NAME: sagar patel\n",
      "EMAIL: sagar1770@gmail.com\n",
      "student: ['srushti', 'yashvi']\n"
     ]
    }
   ],
   "source": [
    "#create a class called student having name and email as its data members and constructor and put data as bound method \n",
    "#the init function should asign the values passed has parameters to the veriable the put data fun should display the data\n",
    "#of the student create the another class phdguides having name and email as its data members you can use students as a veriable\n",
    "#as a blank list.the stdents veriable is the list of student under the guide the phdguide class have 4 bound methods.init ,put\n",
    "#data, add and remove.the init method initialize veriable put data should show the data guide including list of student the add\n",
    "#method should have the student list of students of the guide and remove fun show remove the student if student exist in the \n",
    "#list of student.\n",
    "\n",
    "class student:\n",
    "    def __init__(self,name,email):\n",
    "        self.name=name\n",
    "        self.email=email\n",
    "        \n",
    "    def putdata(self):\n",
    "        print(\"NAME:\",self.name)\n",
    "        print(\"EMAIL:\",self.email)\n",
    "        \n",
    "class PHDguide(student):\n",
    "    def __init__(self,name,email):\n",
    "        super().__init__(name,email)\n",
    "        self.student=[]\n",
    "        \n",
    "    def putdata(self):\n",
    "        super().putdata()\n",
    "        print(\"student:\",self.student)\n",
    "        \n",
    "    def add(self):\n",
    "        self.student.append(input(\"Add student:\"))\n",
    "        \n",
    "    def remove(self):\n",
    "        name=input(\"enter remove student:\")\n",
    "        if name in self.student:\n",
    "            self.student.remove(name)\n",
    "              \n",
    "g1=PHDguide(\"sagar patel\",\"sagar1770@gmail.com\")\n",
    "for i in range(3):\n",
    "    g1.add()\n",
    "g1.putdata()\n",
    "g1.remove()\n",
    "g1.putdata()"
   ]
  },
  {
   "cell_type": "code",
   "execution_count": null,
   "metadata": {},
   "outputs": [],
   "source": [
    "#create 3 class employee,perks and net salary when employee class as an abstract class employee class should have methods for\n",
    "#following task\n",
    "#1.to get employee details:employee id ,employee name and salary from user\n",
    "#2.to print employee details\n",
    "#3.to return salary\n",
    "#4.an abstract method an emlopyee id\n",
    "#perks class:\n",
    "#1.calculate the DA,HRA,PF\n",
    "#2.to print the indivitual and total perks\n",
    "#net salary class:\n",
    "#1.calculate total salary after perks\n",
    "#2.print employee details with DA,HRA,PF,netsalary\n",
    "#DA:35% HRA:17% PF:12%"
   ]
  },
  {
   "cell_type": "code",
   "execution_count": 20,
   "metadata": {},
   "outputs": [
    {
     "name": "stdout",
     "output_type": "stream",
     "text": [
      "Enter employee ID: 1\n",
      "Enter employee Name: srushti\n",
      "Enter salary: 50000\n",
      "DA: 17500.0\n",
      "HRA: 8500.0\n",
      "PF: 6000.0\n",
      "Total Perks: 32000.0\n",
      "\n",
      "Employee ID: 1\n",
      "Employee Name: srushti\n",
      "Salary: 50000.0\n",
      "DA: 17500.0\n",
      "HRA: 8500.0\n",
      "PF: 6000.0\n",
      "Net Salary (after perks): 82000.0\n"
     ]
    }
   ],
   "source": [
    "from abc import ABC, abstractmethod\n",
    "class Employee(ABC):\n",
    "    def __init__(self):\n",
    "        self.employee_id = None\n",
    "        self.employee_name = None\n",
    "        self.salary = None\n",
    "\n",
    "    def get_employee_details(self):\n",
    "        self.employee_id = input(\"Enter employee ID: \")\n",
    "        self.employee_name = input(\"Enter employee Name: \")\n",
    "        self.salary = float(input(\"Enter salary: \"))\n",
    "    \n",
    "    def print_employee_details(self):\n",
    "        print(f\"Employee ID: {self.employee_id}\")\n",
    "        print(f\"Employee Name: {self.employee_name}\")\n",
    "        print(f\"Salary: {self.salary}\")\n",
    "    \n",
    "    def return_salary(self):\n",
    "        return self.salary\n",
    "\n",
    "    @abstractmethod\n",
    "    def get_employee_id(self):\n",
    "        pass\n",
    "\n",
    "class Perks:\n",
    "    def __init__(self, salary):\n",
    "        self.salary = salary\n",
    "        self.da = 0.35 * salary  \n",
    "        self.hra = 0.17 * salary  \n",
    "        self.pf = 0.12 * salary  \n",
    "    \n",
    "    def print_perks(self):\n",
    "        print(f\"DA: {self.da}\")\n",
    "        print(f\"HRA: {self.hra}\")\n",
    "        print(f\"PF: {self.pf}\")\n",
    "        print(f\"Total Perks: {self.da + self.hra + self.pf}\")\n",
    "\n",
    "class NetSalary:\n",
    "    def __init__(self, salary, da, hra, pf):\n",
    "        self.salary = salary\n",
    "        self.da = da\n",
    "        self.hra = hra\n",
    "        self.pf = pf\n",
    "    \n",
    "    def calculate_net_salary(self):\n",
    "        return self.salary + self.da + self.hra + self.pf\n",
    "    \n",
    "    def print_net_salary(self, employee_id, employee_name):\n",
    "        print(f\"\\nEmployee ID: {employee_id}\")\n",
    "        print(f\"Employee Name: {employee_name}\")\n",
    "        print(f\"Salary: {self.salary}\")\n",
    "        print(f\"DA: {self.da}\")\n",
    "        print(f\"HRA: {self.hra}\")\n",
    "        print(f\"PF: {self.pf}\")\n",
    "        print(f\"Net Salary (after perks): {self.calculate_net_salary()}\")\n",
    "\n",
    "class EmployeeDetails(Employee):\n",
    "    def get_employee_id(self):\n",
    "        return self.employee_id\n",
    "\n",
    "employee = EmployeeDetails()\n",
    "employee.get_employee_details()\n",
    "perks = Perks(employee.return_salary())\n",
    "perks.print_perks()\n",
    "net_salary = NetSalary(employee.return_salary(), perks.da, perks.hra, perks.pf)\n",
    "net_salary.print_net_salary(employee.get_employee_id(), employee.employee_name)"
   ]
  }
 ],
 "metadata": {
  "kernelspec": {
   "display_name": "Python 3",
   "language": "python",
   "name": "python3"
  }
 },
 "nbformat": 4,
 "nbformat_minor": 4
}
