{
 "cells": [
  {
   "cell_type": "markdown",
   "metadata": {},
   "source": [
    "# Immutable DS"
   ]
  },
  {
   "cell_type": "code",
   "execution_count": 2,
   "metadata": {},
   "outputs": [
    {
     "name": "stdout",
     "output_type": "stream",
     "text": [
      "I\n",
      "J\n"
     ]
    }
   ],
   "source": [
    "# Using iNDEX\n",
    "s=\"I love LJU\"\n",
    "print(s[0])\n",
    "print(s[-2])"
   ]
  },
  {
   "cell_type": "markdown",
   "metadata": {},
   "source": [
    "# slicing operators"
   ]
  },
  {
   "cell_type": "code",
   "execution_count": 6,
   "metadata": {},
   "outputs": [
    {
     "name": "stdout",
     "output_type": "stream",
     "text": [
      "earnin\n",
      "eri\n",
      "earnin\n",
      "Learnin\n",
      "Python is very easy!!\n",
      "Learning Python is very easy!!\n",
      "Learning Python is very easy!!\n",
      "!!ysae yrev si nohtyP gninraeL\n",
      "!!y\n"
     ]
    }
   ],
   "source": [
    "s =\"Learning Python is very easy!!\"\n",
    "print(s[1:7:1])\n",
    "print(s[1:7:2])\n",
    "print(s[1:7])\n",
    "print(s[:7:])\n",
    "print(s[9:])\n",
    "print(s[::])\n",
    "print(s[:])\n",
    "print(s[::-1])\n",
    "print(s[-1:-4:-1])"
   ]
  },
  {
   "cell_type": "code",
   "execution_count": 10,
   "metadata": {},
   "outputs": [
    {
     "name": "stdout",
     "output_type": "stream",
     "text": [
      "YASHVISHAH\n",
      "YASHVIYASHVIYASHVI\n"
     ]
    }
   ],
   "source": [
    "print(\"YASHVI\" + \"SHAH\")\n",
    "print(\"YASHVI\" *3)"
   ]
  },
  {
   "cell_type": "code",
   "execution_count": null,
   "metadata": {},
   "outputs": [],
   "source": [
    "#COmparison operATOR\n",
    "s1 =input(\"Enter Your string :\")\n",
    "s2 =input(\"Enter Your string :\")\n",
    "if s1==s2:\n",
    "    print(\"Both String is Equal\")\n",
    "elif s1<s2:\n",
    "    print(\"Second String is greater\")\n",
    "else:\n",
    "    print(\"First string is greater\")"
   ]
  },
  {
   "cell_type": "markdown",
   "metadata": {},
   "source": [
    "#JOINING OF STRING\n",
    "#s=separator.join(group of string)\n"
   ]
  },
  {
   "cell_type": "code",
   "execution_count": 2,
   "metadata": {},
   "outputs": [
    {
     "name": "stdout",
     "output_type": "stream",
     "text": [
      "Apple-Banana-Cherry\n"
     ]
    }
   ],
   "source": [
    "t=(\"Apple\",\"Banana\",\"Cherry\")\n",
    "s=\"-\".join(t)\n",
    "print(s)"
   ]
  },
  {
   "cell_type": "code",
   "execution_count": 5,
   "metadata": {},
   "outputs": [
    {
     "name": "stdout",
     "output_type": "stream",
     "text": [
      "Yashvi's salary 500000 and his age 20\n",
      "Yashvi's salary 500000 and his age \n",
      "500000's salary 20 and his age Yashvi\n"
     ]
    }
   ],
   "source": [
    "#Formatting of string\n",
    "name=\"Yashvi\"\n",
    "salary = 500000\n",
    "age =20\n",
    "print(\"{}'s salary {} and his age {}\".format(name,salary,age))\n",
    "print(\"{}'s salary {} and his age \".format(name,salary,age))\n",
    "print(\"{1}'s salary {2} and his age {0}\".format(name,salary,age))"
   ]
  },
  {
   "cell_type": "code",
   "execution_count": 8,
   "metadata": {},
   "outputs": [
    {
     "name": "stdout",
     "output_type": "stream",
     "text": [
      "13\n"
     ]
    }
   ],
   "source": [
    "#length of string\n",
    "a =\"LJU IS Boghas\"\n",
    "print(len(a))"
   ]
  },
  {
   "cell_type": "code",
   "execution_count": 20,
   "metadata": {},
   "outputs": [
    {
     "name": "stdout",
     "output_type": "stream",
     "text": [
      "8\n",
      "6\n",
      "6\n",
      "4\n",
      "7\n",
      "4\n"
     ]
    }
   ],
   "source": [
    "#Removing spaces from string\n",
    "#rstrip()\n",
    "t =\"YAshvi  \"\n",
    "x=t.rstrip()\n",
    "print(len(t))\n",
    "print(len(x))\n",
    "\n",
    "\n",
    "t =\"Yashvi\"\n",
    "x=t.rstrip(\"iv\")\n",
    "print(len(t))\n",
    "print(len(x))\n",
    "\n",
    "\n",
    "t =\"bandana\"\n",
    "x=t.rstrip(\"an\")\n",
    "print(len(t))\n",
    "print(len(x))"
   ]
  },
  {
   "cell_type": "code",
   "execution_count": 14,
   "metadata": {},
   "outputs": [
    {
     "name": "stdout",
     "output_type": "stream",
     "text": [
      "8\n",
      "6\n"
     ]
    }
   ],
   "source": [
    "#lstrip()\n",
    "t =\"  Yashvi\"\n",
    "x=t.lstrip()\n",
    "print(len(t))\n",
    "print(len(x))"
   ]
  },
  {
   "cell_type": "code",
   "execution_count": 24,
   "metadata": {},
   "outputs": [
    {
     "name": "stdout",
     "output_type": "stream",
     "text": [
      "9\n",
      "6\n"
     ]
    }
   ],
   "source": [
    "#strip()\n",
    "t =\"bandana  \"\n",
    "x=t.strip(\"abn\")\n",
    "print(len(t))\n",
    "print(len(x))"
   ]
  },
  {
   "cell_type": "code",
   "execution_count": 33,
   "metadata": {},
   "outputs": [
    {
     "name": "stdout",
     "output_type": "stream",
     "text": [
      "HELLO\n",
      "hello\n",
      "hELLO mY NAME IS yASHVI\n",
      "Welcome To Ljiet\n",
      "Hello yas\n"
     ]
    }
   ],
   "source": [
    "# upper() lower() swapcase() upper hasa to lower krsa // title() staring na badha j words na Capital krssa\n",
    "#capitailze() First word of sentence\n",
    "t = \"hello\"\n",
    "x=t.upper()\n",
    "print(x)\n",
    "\n",
    "t = \"HELLO\"\n",
    "x=t.lower()\n",
    "print(x)\n",
    "\n",
    "t = \"Hello My name is Yashvi\"\n",
    "x=t.swapcase()\n",
    "print(x)\n",
    "\n",
    "t = \"welcome to LJIET\"\n",
    "x=t.title()\n",
    "print(x)\n",
    "\n",
    "t = \"hello Yas\"\n",
    "x=t.capitalize()\n",
    "print(x)"
   ]
  },
  {
   "cell_type": "code",
   "execution_count": 38,
   "metadata": {},
   "outputs": [
    {
     "name": "stdout",
     "output_type": "stream",
     "text": [
      "False\n"
     ]
    }
   ],
   "source": [
    "#isalnum (a to c, A to Z , 0-9)\n",
    "t = \"hello123 \"\n",
    "x=t.isalnum()\n",
    "print(x)"
   ]
  },
  {
   "cell_type": "code",
   "execution_count": 43,
   "metadata": {},
   "outputs": [
    {
     "name": "stdout",
     "output_type": "stream",
     "text": [
      "True\n"
     ]
    }
   ],
   "source": [
    "#isalpha (a to c, A to Z)\n",
    "t = \"hello\"\n",
    "x=t.isalpha()\n",
    "print(x)"
   ]
  },
  {
   "cell_type": "code",
   "execution_count": 47,
   "metadata": {},
   "outputs": [
    {
     "name": "stdout",
     "output_type": "stream",
     "text": [
      "True\n",
      "False\n"
     ]
    }
   ],
   "source": [
    "#isdigit() // isnumeric()\n",
    "t = \"20536\"\n",
    "x=t.isdigit()\n",
    "print(x)\n",
    "\n",
    "\n",
    "t = \"20536a\"\n",
    "x=t.isnumeric()\n",
    "print(x)"
   ]
  },
  {
   "cell_type": "code",
   "execution_count": 52,
   "metadata": {},
   "outputs": [
    {
     "name": "stdout",
     "output_type": "stream",
     "text": [
      "False\n",
      "True\n"
     ]
    }
   ],
   "source": [
    "#islower() isupper()\n",
    "t = \"hello\"\n",
    "x=t.isupper()\n",
    "print(x)\n",
    "\n",
    "t = \"hello\"\n",
    "x=t.islower()\n",
    "print(x)\n"
   ]
  },
  {
   "cell_type": "code",
   "execution_count": 56,
   "metadata": {},
   "outputs": [
    {
     "name": "stdout",
     "output_type": "stream",
     "text": [
      "False\n",
      "True\n",
      "True\n",
      "True\n"
     ]
    }
   ],
   "source": [
    "#istitle()\n",
    "a =\"HELLO HOW ARE YOU?\"\n",
    "b=\"Hello\"\n",
    "c=\"22 Names\"\n",
    "d=\"This Is @ %\"\n",
    "print(a.istitle())\n",
    "print(b.istitle())\n",
    "print(c.istitle())\n",
    "print(d.istitle())"
   ]
  },
  {
   "cell_type": "code",
   "execution_count": 60,
   "metadata": {},
   "outputs": [
    {
     "name": "stdout",
     "output_type": "stream",
     "text": [
      "False\n",
      "True\n",
      "False\n",
      "False\n"
     ]
    }
   ],
   "source": [
    "#isidentifier\n",
    "a =\"HELLO HOW ARE YOU?\"\n",
    "b=\"Hello22\"\n",
    "c=\"22 Names\"\n",
    "d=\"ThiIs@%\"\n",
    "print(a.isidentifier())\n",
    "print(b.isidentifier())\n",
    "print(c.isidentifier())\n",
    "print(d.isidentifier())"
   ]
  },
  {
   "cell_type": "code",
   "execution_count": 63,
   "metadata": {},
   "outputs": [
    {
     "name": "stdout",
     "output_type": "stream",
     "text": [
      "True\n"
     ]
    }
   ],
   "source": [
    "#isspace()\n",
    "a =\"  \"\n",
    "b =a.isspace()\n",
    "print(b)"
   ]
  },
  {
   "cell_type": "code",
   "execution_count": 70,
   "metadata": {},
   "outputs": [
    {
     "name": "stdout",
     "output_type": "stream",
     "text": [
      "26\n",
      "16\n",
      "2\n",
      "4\n",
      "0\n",
      "2\n",
      "14\n"
     ]
    }
   ],
   "source": [
    "s= \"Pyt@$ho%n is 12 very Ea$sy\"\n",
    "print(len(s))\n",
    "l=0\n",
    "d=0\n",
    "sp=0\n",
    "sc=0\n",
    "up=0\n",
    "lo=0\n",
    "for i in s:\n",
    "    if i.isalpha():\n",
    "        l+=1\n",
    "    if i.isdigit():\n",
    "        d+=1\n",
    "    if i.isspace():\n",
    "        sp+=1\n",
    "    if i.isalnum==False and i.isspace==False:\n",
    "        sc+=1\n",
    "    if i.isupper():\n",
    "        up+=1\n",
    "    if i.islower():\n",
    "        lo+=1\n",
    "print(l)\n",
    "print(d)\n",
    "print(sp)\n",
    "print(sc)\n",
    "print(up)\n",
    "print(lo)\n",
    "    "
   ]
  },
  {
   "cell_type": "code",
   "execution_count": 71,
   "metadata": {},
   "outputs": [
    {
     "name": "stdout",
     "output_type": "stream",
     "text": [
      "2\n",
      "25\n"
     ]
    }
   ],
   "source": [
    "#find()\n",
    "s= \"Learning python is very easy\"\n",
    "print(s.find(\"a\"))\n",
    "print(s.find(\"a\",3,100))"
   ]
  }
 ],
 "metadata": {
  "kernelspec": {
   "display_name": "Python 3",
   "language": "python",
   "name": "python3"
  },
  "language_info": {
   "codemirror_mode": {
    "name": "ipython",
    "version": 3
   },
   "file_extension": ".py",
   "mimetype": "text/x-python",
   "name": "python",
   "nbconvert_exporter": "python",
   "pygments_lexer": "ipython3",
   "version": "3.8.5"
  }
 },
 "nbformat": 4,
 "nbformat_minor": 4
}
