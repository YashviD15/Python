{
 "cells": [
  {
   "cell_type": "markdown",
   "metadata": {},
   "source": [
    "# Immutable DS"
   ]
  },
  {
   "cell_type": "code",
   "execution_count": 2,
   "metadata": {},
   "outputs": [
    {
     "name": "stdout",
     "output_type": "stream",
     "text": [
      "I\n",
      "J\n"
     ]
    }
   ],
   "source": [
    "# Using iNDEX\n",
    "s=\"I love LJU\"\n",
    "print(s[0])\n",
    "print(s[-2])"
   ]
  },
  {
   "cell_type": "markdown",
   "metadata": {},
   "source": [
    "# slicing operators"
   ]
  },
  {
   "cell_type": "code",
   "execution_count": 6,
   "metadata": {},
   "outputs": [
    {
     "name": "stdout",
     "output_type": "stream",
     "text": [
      "earnin\n",
      "eri\n",
      "earnin\n",
      "Learnin\n",
      "Python is very easy!!\n",
      "Learning Python is very easy!!\n",
      "Learning Python is very easy!!\n",
      "!!ysae yrev si nohtyP gninraeL\n",
      "!!y\n"
     ]
    }
   ],
   "source": [
    "s =\"Learning Python is very easy!!\"\n",
    "print(s[1:7:1])\n",
    "print(s[1:7:2])\n",
    "print(s[1:7])\n",
    "print(s[:7:])\n",
    "print(s[9:])\n",
    "print(s[::])\n",
    "print(s[:])\n",
    "print(s[::-1])\n",
    "print(s[-1:-4:-1])"
   ]
  },
  {
   "cell_type": "code",
   "execution_count": 10,
   "metadata": {},
   "outputs": [
    {
     "name": "stdout",
     "output_type": "stream",
     "text": [
      "YASHVISHAH\n",
      "YASHVIYASHVIYASHVI\n"
     ]
    }
   ],
   "source": [
    "print(\"YASHVI\" + \"SHAH\")\n",
    "print(\"YASHVI\" *3)"
   ]
  },
  {
   "cell_type": "code",
   "execution_count": null,
   "metadata": {},
   "outputs": [],
   "source": [
    "#COmparison operATOR\n",
    "s1 =input(\"Enter Your string :\")\n",
    "s2 =input(\"Enter Your string :\")\n",
    "if s1==s2:\n",
    "    print(\"Both String is Equal\")\n",
    "elif s1<s2:\n",
    "    print(\"Second String is greater\")\n",
    "else:\n",
    "    print(\"First string is greater\")"
   ]
  },
  {
   "cell_type": "markdown",
   "metadata": {},
   "source": [
    "#JOINING OF STRING\n",
    "#s=separator.join(group of string)\n"
   ]
  },
  {
   "cell_type": "code",
   "execution_count": 2,
   "metadata": {},
   "outputs": [
    {
     "name": "stdout",
     "output_type": "stream",
     "text": [
      "Apple-Banana-Cherry\n"
     ]
    }
   ],
   "source": [
    "t=(\"Apple\",\"Banana\",\"Cherry\")\n",
    "s=\"-\".join(t)\n",
    "print(s)"
   ]
  },
  {
   "cell_type": "code",
   "execution_count": 5,
   "metadata": {},
   "outputs": [
    {
     "name": "stdout",
     "output_type": "stream",
     "text": [
      "Yashvi's salary 500000 and his age 20\n",
      "Yashvi's salary 500000 and his age \n",
      "500000's salary 20 and his age Yashvi\n"
     ]
    }
   ],
   "source": [
    "#Formatting of string\n",
    "name=\"Yashvi\"\n",
    "salary = 500000\n",
    "age =20\n",
    "print(\"{}'s salary {} and his age {}\".format(name,salary,age))\n",
    "print(\"{}'s salary {} and his age \".format(name,salary,age))\n",
    "print(\"{1}'s salary {2} and his age {0}\".format(name,salary,age))"
   ]
  },
  {
   "cell_type": "code",
   "execution_count": 8,
   "metadata": {},
   "outputs": [
    {
     "name": "stdout",
     "output_type": "stream",
     "text": [
      "13\n"
     ]
    }
   ],
   "source": [
    "#length of string\n",
    "a =\"LJU IS Boghas\"\n",
    "print(len(a))"
   ]
  },
  {
   "cell_type": "code",
   "execution_count": 20,
   "metadata": {},
   "outputs": [
    {
     "name": "stdout",
     "output_type": "stream",
     "text": [
      "8\n",
      "6\n",
      "6\n",
      "4\n",
      "7\n",
      "4\n"
     ]
    }
   ],
   "source": [
    "#Removing spaces from string\n",
    "#rstrip()\n",
    "t =\"YAshvi  \"\n",
    "x=t.rstrip()\n",
    "print(len(t))\n",
    "print(len(x))\n",
    "\n",
    "\n",
    "t =\"Yashvi\"\n",
    "x=t.rstrip(\"iv\")\n",
    "print(len(t))\n",
    "print(len(x))\n",
    "\n",
    "\n",
    "t =\"bandana\"\n",
    "x=t.rstrip(\"an\")\n",
    "print(len(t))\n",
    "print(len(x))"
   ]
  },
  {
   "cell_type": "code",
   "execution_count": 14,
   "metadata": {},
   "outputs": [
    {
     "name": "stdout",
     "output_type": "stream",
     "text": [
      "8\n",
      "6\n"
     ]
    }
   ],
   "source": [
    "#lstrip()\n",
    "t =\"  Yashvi\"\n",
    "x=t.lstrip()\n",
    "print(len(t))\n",
    "print(len(x))"
   ]
  },
  {
   "cell_type": "code",
   "execution_count": 24,
   "metadata": {},
   "outputs": [
    {
     "name": "stdout",
     "output_type": "stream",
     "text": [
      "9\n",
      "6\n"
     ]
    }
   ],
   "source": [
    "#strip()\n",
    "t =\"bandana  \"\n",
    "x=t.strip(\"abn\")\n",
    "print(len(t))\n",
    "print(len(x))"
   ]
  },
  {
   "cell_type": "code",
   "execution_count": 33,
   "metadata": {},
   "outputs": [
    {
     "name": "stdout",
     "output_type": "stream",
     "text": [
      "HELLO\n",
      "hello\n",
      "hELLO mY NAME IS yASHVI\n",
      "Welcome To Ljiet\n",
      "Hello yas\n"
     ]
    }
   ],
   "source": [
    "# upper() lower() swapcase() upper hasa to lower krsa // title() staring na badha j words na Capital krssa\n",
    "#capitailze() First word of sentence\n",
    "t = \"hello\"\n",
    "x=t.upper()\n",
    "print(x)\n",
    "\n",
    "t = \"HELLO\"\n",
    "x=t.lower()\n",
    "print(x)\n",
    "\n",
    "t = \"Hello My name is Yashvi\"\n",
    "x=t.swapcase()\n",
    "print(x)\n",
    "\n",
    "t = \"welcome to LJIET\"\n",
    "x=t.title()\n",
    "print(x)\n",
    "\n",
    "t = \"hello Yas\"\n",
    "x=t.capitalize()\n",
    "print(x)"
   ]
  },
  {
   "cell_type": "code",
   "execution_count": 38,
   "metadata": {},
   "outputs": [
    {
     "name": "stdout",
     "output_type": "stream",
     "text": [
      "False\n"
     ]
    }
   ],
   "source": [
    "#isalnum (a to c, A to Z , 0-9)\n",
    "t = \"hello123 \"\n",
    "x=t.isalnum()\n",
    "print(x)"
   ]
  },
  {
   "cell_type": "code",
   "execution_count": 43,
   "metadata": {},
   "outputs": [
    {
     "name": "stdout",
     "output_type": "stream",
     "text": [
      "True\n"
     ]
    }
   ],
   "source": [
    "#isalpha (a to c, A to Z)\n",
    "t = \"hello\"\n",
    "x=t.isalpha()\n",
    "print(x)"
   ]
  },
  {
   "cell_type": "code",
   "execution_count": 47,
   "metadata": {},
   "outputs": [
    {
     "name": "stdout",
     "output_type": "stream",
     "text": [
      "True\n",
      "False\n"
     ]
    }
   ],
   "source": [
    "#isdigit() // isnumeric()\n",
    "t = \"20536\"\n",
    "x=t.isdigit()\n",
    "print(x)\n",
    "\n",
    "\n",
    "t = \"20536a\"\n",
    "x=t.isnumeric()\n",
    "print(x)"
   ]
  },
  {
   "cell_type": "code",
   "execution_count": 52,
   "metadata": {},
   "outputs": [
    {
     "name": "stdout",
     "output_type": "stream",
     "text": [
      "False\n",
      "True\n"
     ]
    }
   ],
   "source": [
    "#islower() isupper()\n",
    "t = \"hello\"\n",
    "x=t.isupper()\n",
    "print(x)\n",
    "\n",
    "t = \"hello\"\n",
    "x=t.islower()\n",
    "print(x)\n"
   ]
  },
  {
   "cell_type": "code",
   "execution_count": 56,
   "metadata": {},
   "outputs": [
    {
     "name": "stdout",
     "output_type": "stream",
     "text": [
      "False\n",
      "True\n",
      "True\n",
      "True\n"
     ]
    }
   ],
   "source": [
    "#istitle()\n",
    "a =\"HELLO HOW ARE YOU?\"\n",
    "b=\"Hello\"\n",
    "c=\"22 Names\"\n",
    "d=\"This Is @ %\"\n",
    "print(a.istitle())\n",
    "print(b.istitle())\n",
    "print(c.istitle())\n",
    "print(d.istitle())"
   ]
  },
  {
   "cell_type": "code",
   "execution_count": 60,
   "metadata": {},
   "outputs": [
    {
     "name": "stdout",
     "output_type": "stream",
     "text": [
      "False\n",
      "True\n",
      "False\n",
      "False\n"
     ]
    }
   ],
   "source": [
    "#isidentifier\n",
    "a =\"HELLO HOW ARE YOU?\"\n",
    "b=\"Hello22\"\n",
    "c=\"22 Names\"\n",
    "d=\"ThiIs@%\"\n",
    "print(a.isidentifier())\n",
    "print(b.isidentifier())\n",
    "print(c.isidentifier())\n",
    "print(d.isidentifier())"
   ]
  },
  {
   "cell_type": "code",
   "execution_count": 63,
   "metadata": {},
   "outputs": [
    {
     "name": "stdout",
     "output_type": "stream",
     "text": [
      "True\n"
     ]
    }
   ],
   "source": [
    "#isspace()\n",
    "a =\"  \"\n",
    "b =a.isspace()\n",
    "print(b)"
   ]
  },
  {
   "cell_type": "code",
   "execution_count": 7,
   "metadata": {},
   "outputs": [
    {
     "name": "stdout",
     "output_type": "stream",
     "text": [
      "26\n",
      "16\n",
      "2\n",
      "4\n",
      "0\n",
      "2\n",
      "14\n"
     ]
    }
   ],
   "source": [
    "s= \"Pyt@$ho%n is 12 very Ea$sy\"\n",
    "print(len(s))\n",
    "l=0\n",
    "d=0\n",
    "sp=0\n",
    "sc=0\n",
    "up=0\n",
    "lo=0\n",
    "for i in s:\n",
    "    if i.isalpha():\n",
    "        l+=1\n",
    "    if i.isdigit():\n",
    "        d+=1\n",
    "    if i.isspace():\n",
    "        sp+=1\n",
    "    if i.isalnum==False and i.isspace==False:\n",
    "        sc+=1\n",
    "    if i.isupper():\n",
    "        up+=1\n",
    "    if i.islower():\n",
    "        lo+=1\n",
    "print(l)\n",
    "print(d)\n",
    "print(sp)\n",
    "print(sc)\n",
    "print(up)\n",
    "print(lo)\n",
    "    "
   ]
  },
  {
   "cell_type": "code",
   "execution_count": 1,
   "metadata": {},
   "outputs": [
    {
     "name": "stdout",
     "output_type": "stream",
     "text": [
      "2\n",
      "25\n"
     ]
    }
   ],
   "source": [
    "#find()\n",
    "s= \"Learning python is very easy\"\n",
    "print(s.find(\"a\"))\n",
    "print(s.find(\"a\",3,100))"
   ]
  },
  {
   "cell_type": "code",
   "execution_count": 8,
   "metadata": {},
   "outputs": [
    {
     "name": "stdout",
     "output_type": "stream",
     "text": [
      "2\n",
      "1\n",
      "2\n"
     ]
    }
   ],
   "source": [
    "# count()\n",
    "s =\"abcdefabcabegh\"\n",
    "b =\"YAshvi shah shah\"\n",
    "print(s.count(\"a\", 3,10))\n",
    "print(s.count(\"h\"))\n",
    "print(b.count(\"shah\"))"
   ]
  },
  {
   "cell_type": "code",
   "execution_count": 18,
   "metadata": {},
   "outputs": [
    {
     "name": "stdout",
     "output_type": "stream",
     "text": [
      "YAshvi shAh shAh \n"
     ]
    }
   ],
   "source": [
    "#replace()\n",
    "b =\"Yashvi shah shah \"\n",
    "#a = b.replace(\"shah\",\"Desai\")\n",
    "a=b.replace(\"a\",\"A\",3)\n",
    "print(a)"
   ]
  },
  {
   "cell_type": "code",
   "execution_count": 38,
   "metadata": {},
   "outputs": [
    {
     "name": "stdout",
     "output_type": "stream",
     "text": [
      "['i', 'love', 'lju', 'ki', 'kiii']\n",
      "5\n"
     ]
    }
   ],
   "source": [
    "#split() total words\n",
    "s=\"i love lju ki kiii\"\n",
    "l=s.split()\n",
    "c=0\n",
    "for i in l:\n",
    "    c+=1\n",
    "print(l)\n",
    "print(c)"
   ]
  },
  {
   "cell_type": "code",
   "execution_count": 39,
   "metadata": {},
   "outputs": [
    {
     "name": "stdout",
     "output_type": "stream",
     "text": [
      "['10-0', '-202', '']\n"
     ]
    }
   ],
   "source": [
    "s=\"10-04-2024\"\n",
    "l=s.split(\"4\")\n",
    "print(l)"
   ]
  },
  {
   "cell_type": "code",
   "execution_count": 55,
   "metadata": {},
   "outputs": [
    {
     "name": "stdout",
     "output_type": "stream",
     "text": [
      "!\"#$%&'()*+,-./:;<=>?@[\\]^_`{|}~\n",
      "{97: 121, 104: 98, 36: None, 64: None}\n"
     ]
    }
   ],
   "source": [
    "#punctuation remove\n",
    "import string\n",
    "print(string.punctuation)\n",
    "#print(len(string.punctuation))\n",
    "#print(str.maketrans(\"a\",\"y\",string.punctuation))\n",
    "print(str.maketrans(\"ah\",\"yb\",\"$@\"))\n",
    "\n",
    "\n",
    "\n"
   ]
  },
  {
   "cell_type": "code",
   "execution_count": 59,
   "metadata": {},
   "outputs": [
    {
     "name": "stdout",
     "output_type": "stream",
     "text": [
      "Lebrning python is very ebsy\n"
     ]
    }
   ],
   "source": [
    "import string\n",
    "s=\"Lear@ning pyt@h$^on i!s very ea@sy\"\n",
    "t=s.maketrans(\"a\",\"b\",string.punctuation)\n",
    "x=s.translate(t)\n",
    "print(x)"
   ]
  },
  {
   "cell_type": "code",
   "execution_count": 61,
   "metadata": {},
   "outputs": [
    {
     "name": "stdout",
     "output_type": "stream",
     "text": [
      "Hi Joe!!\n"
     ]
    }
   ],
   "source": [
    "t=\"Hi Sam!!\"\n",
    "x=\"mSa\"\n",
    "y=\"eJo\"\n",
    "mytable=t.maketrans(x,y)\n",
    "print(t.translate(mytable))"
   ]
  },
  {
   "cell_type": "markdown",
   "metadata": {},
   "source": [
    "# Tuple"
   ]
  },
  {
   "cell_type": "code",
   "execution_count": 70,
   "metadata": {},
   "outputs": [
    {
     "name": "stdout",
     "output_type": "stream",
     "text": [
      "<class 'int'>\n",
      "(10, 12, 14, 16, 18)\n"
     ]
    }
   ],
   "source": [
    "t=(1,2,3)\n",
    "t1=(10)\n",
    "print(type(t1))\n",
    "u=tuple(range(10,20,2))\n",
    "print(u)\n",
    "\n"
   ]
  },
  {
   "cell_type": "code",
   "execution_count": 75,
   "metadata": {},
   "outputs": [
    {
     "name": "stdout",
     "output_type": "stream",
     "text": [
      "()\n",
      "(10, 30, 50)\n",
      "(40, 50, 60)\n",
      "(30, 40, 50)\n"
     ]
    }
   ],
   "source": [
    "t=(10,20,30,40,50,60)\n",
    "print(t[-1:-4])\n",
    "print(t[::2])\n",
    "print(t[3:100])\n",
    "print(t[2:5])"
   ]
  },
  {
   "cell_type": "code",
   "execution_count": 77,
   "metadata": {},
   "outputs": [
    {
     "ename": "TypeError",
     "evalue": "'tuple' object does not support item assignment",
     "output_type": "error",
     "traceback": [
      "\u001b[1;31m---------------------------------------------------------------------------\u001b[0m",
      "\u001b[1;31mTypeError\u001b[0m                                 Traceback (most recent call last)",
      "\u001b[1;32m<ipython-input-77-ea1693818a9b>\u001b[0m in \u001b[0;36m<module>\u001b[1;34m\u001b[0m\n\u001b[0;32m      1\u001b[0m \u001b[0mt\u001b[0m\u001b[1;33m=\u001b[0m\u001b[1;33m(\u001b[0m\u001b[1;36m10\u001b[0m\u001b[1;33m,\u001b[0m\u001b[1;36m20\u001b[0m\u001b[1;33m,\u001b[0m\u001b[1;36m30\u001b[0m\u001b[1;33m,\u001b[0m\u001b[1;36m40\u001b[0m\u001b[1;33m,\u001b[0m\u001b[1;36m50\u001b[0m\u001b[1;33m)\u001b[0m\u001b[1;33m\u001b[0m\u001b[1;33m\u001b[0m\u001b[0m\n\u001b[1;32m----> 2\u001b[1;33m \u001b[0mt\u001b[0m\u001b[1;33m[\u001b[0m\u001b[1;36m2\u001b[0m\u001b[1;33m]\u001b[0m\u001b[1;33m=\u001b[0m\u001b[1;36m70\u001b[0m\u001b[1;33m\u001b[0m\u001b[1;33m\u001b[0m\u001b[0m\n\u001b[0m\u001b[0;32m      3\u001b[0m \u001b[0mprint\u001b[0m\u001b[1;33m(\u001b[0m\u001b[0mt\u001b[0m\u001b[1;33m)\u001b[0m\u001b[1;33m\u001b[0m\u001b[1;33m\u001b[0m\u001b[0m\n",
      "\u001b[1;31mTypeError\u001b[0m: 'tuple' object does not support item assignment"
     ]
    }
   ],
   "source": [
    "t=(10,20,30,40,50)\n",
    "t[2]=70\n",
    "print(t)"
   ]
  },
  {
   "cell_type": "code",
   "execution_count": 80,
   "metadata": {},
   "outputs": [
    {
     "name": "stdout",
     "output_type": "stream",
     "text": [
      "(10, 20, 30, 40, 50, 60)\n",
      "(10, 20, 30, 10, 20, 30)\n"
     ]
    }
   ],
   "source": [
    "t1 =(10,20,30)\n",
    "t2=(40,50,60)\n",
    "t=t1+t2\n",
    "print(t)\n",
    "x=t1*2\n",
    "print(x)"
   ]
  },
  {
   "cell_type": "code",
   "execution_count": 82,
   "metadata": {},
   "outputs": [
    {
     "name": "stdout",
     "output_type": "stream",
     "text": [
      "3\n"
     ]
    }
   ],
   "source": [
    "#len()\n",
    "t2=(40,50,60)\n",
    "print(len(t2))"
   ]
  },
  {
   "cell_type": "code",
   "execution_count": 87,
   "metadata": {},
   "outputs": [
    {
     "name": "stdout",
     "output_type": "stream",
     "text": [
      "2\n"
     ]
    }
   ],
   "source": [
    "#count()\n",
    "t2=(40,50,50,60,80,60)\n",
    "print(t2.count(50))\n",
    "#print(t.count(100))"
   ]
  },
  {
   "cell_type": "code",
   "execution_count": 91,
   "metadata": {},
   "outputs": [
    {
     "name": "stdout",
     "output_type": "stream",
     "text": [
      "0\n"
     ]
    }
   ],
   "source": [
    "#index()\n",
    "t2=(50,40,50,50,60)\n",
    "print(t2.index(50))"
   ]
  },
  {
   "cell_type": "code",
   "execution_count": 99,
   "metadata": {},
   "outputs": [
    {
     "name": "stdout",
     "output_type": "stream",
     "text": [
      "[60, 50, 40, 30, 20, 10]\n",
      "[10, 20, 30, 40, 50, 60]\n"
     ]
    }
   ],
   "source": [
    "#sorted\n",
    "t2=(40,50,60,10,20,30)\n",
    "t=sorted(t2,reverse=True)\n",
    "t1=sorted(t2)\n",
    "print(t)\n",
    "print(t1)"
   ]
  },
  {
   "cell_type": "code",
   "execution_count": 103,
   "metadata": {},
   "outputs": [
    {
     "name": "stdout",
     "output_type": "stream",
     "text": [
      "10\n",
      "60\n"
     ]
    }
   ],
   "source": [
    "#min() max()\n",
    "t2=(40,50,60,10,20,30)\n",
    "print(min(t2))\n",
    "print(max(t2))"
   ]
  },
  {
   "cell_type": "code",
   "execution_count": 107,
   "metadata": {},
   "outputs": [
    {
     "name": "stdout",
     "output_type": "stream",
     "text": [
      "(10, 20, 30, 40)\n"
     ]
    }
   ],
   "source": [
    "#tuple packing\n",
    "a=10\n",
    "b=20\n",
    "c=30\n",
    "d=40\n",
    "t=a,b,c,d\n",
    "print(t)"
   ]
  },
  {
   "cell_type": "code",
   "execution_count": 109,
   "metadata": {},
   "outputs": [
    {
     "name": "stdout",
     "output_type": "stream",
     "text": [
      "10 20 30 40\n"
     ]
    }
   ],
   "source": [
    "#tuple unpacking\n",
    "a=10\n",
    "b=20\n",
    "c=30\n",
    "d=40\n",
    "a,b,c,d=t\n",
    "print(a,b,c,d)"
   ]
  },
  {
   "cell_type": "code",
   "execution_count": 112,
   "metadata": {},
   "outputs": [
    {
     "ename": "ValueError",
     "evalue": "too many values to unpack (expected 3)",
     "output_type": "error",
     "traceback": [
      "\u001b[1;31m---------------------------------------------------------------------------\u001b[0m",
      "\u001b[1;31mValueError\u001b[0m                                Traceback (most recent call last)",
      "\u001b[1;32m<ipython-input-112-d2ff1fc6dbb0>\u001b[0m in \u001b[0;36m<module>\u001b[1;34m\u001b[0m\n\u001b[0;32m      1\u001b[0m \u001b[0mt\u001b[0m\u001b[1;33m=\u001b[0m\u001b[1;33m(\u001b[0m\u001b[1;36m10\u001b[0m\u001b[1;33m,\u001b[0m \u001b[1;36m20\u001b[0m\u001b[1;33m,\u001b[0m \u001b[1;36m30\u001b[0m\u001b[1;33m,\u001b[0m \u001b[1;36m40\u001b[0m\u001b[1;33m)\u001b[0m\u001b[1;33m\u001b[0m\u001b[1;33m\u001b[0m\u001b[0m\n\u001b[1;32m----> 2\u001b[1;33m \u001b[0ma\u001b[0m\u001b[1;33m,\u001b[0m\u001b[0mb\u001b[0m\u001b[1;33m,\u001b[0m\u001b[0mc\u001b[0m\u001b[1;33m=\u001b[0m\u001b[0mt\u001b[0m\u001b[1;33m\u001b[0m\u001b[1;33m\u001b[0m\u001b[0m\n\u001b[0m\u001b[0;32m      3\u001b[0m \u001b[0mprint\u001b[0m\u001b[1;33m(\u001b[0m\u001b[0ma\u001b[0m\u001b[1;33m,\u001b[0m\u001b[0mb\u001b[0m\u001b[1;33m,\u001b[0m\u001b[0mc\u001b[0m\u001b[1;33m)\u001b[0m\u001b[1;33m\u001b[0m\u001b[1;33m\u001b[0m\u001b[0m\n",
      "\u001b[1;31mValueError\u001b[0m: too many values to unpack (expected 3)"
     ]
    }
   ],
   "source": [
    "t=(10, 20, 30, 40)\n",
    "a,b,c=t\n",
    "print(a,b,c)"
   ]
  },
  {
   "cell_type": "code",
   "execution_count": 117,
   "metadata": {},
   "outputs": [
    {
     "name": "stdout",
     "output_type": "stream",
     "text": [
      "abc\n",
      "xyz\n",
      "hij\n",
      "abc\n",
      "xyz\n",
      "hij\n"
     ]
    }
   ],
   "source": [
    "t=(\"abc\",\"xyz\",\"hij\")\n",
    "for i in range(len(t)):\n",
    "    print(t[i])\n",
    "for i in t:\n",
    "    print(i)"
   ]
  },
  {
   "cell_type": "code",
   "execution_count": 5,
   "metadata": {},
   "outputs": [
    {
     "name": "stdout",
     "output_type": "stream",
     "text": [
      "abc\n",
      "xyz\n",
      "hij\n"
     ]
    }
   ],
   "source": [
    "t=(\"abc\",\"xyz\",\"hij\")\n",
    "i =0\n",
    "while i<len(t):\n",
    "    \n",
    "    print(t[i])\n",
    "    i+=1"
   ]
  },
  {
   "cell_type": "code",
   "execution_count": null,
   "metadata": {},
   "outputs": [],
   "source": [
    "#reversed()\n",
    "s=\"python\"\n",
    "print(list(reversed(s)))\n",
    "x=('p', 'y', 't', 'h', 'o', 'n')\n",
    "print(list(reversed(x)))\n",
    "y=range(5,9)\n",
    "print(list(reversed(y)))\n",
    "z=[10,20,30,40]\n",
    "print(list(reversed(z)))\n",
    "\n"
   ]
  },
  {
   "cell_type": "code",
   "execution_count": null,
   "metadata": {},
   "outputs": [],
   "source": [
    "#enumerate()\n",
    "l=(\"eattttttt,sleeppppp\",\"repeattttttt\")\n",
    "print(list(enumerate(l))"
   ]
  },
  {
   "cell_type": "code",
   "execution_count": 8,
   "metadata": {},
   "outputs": [
    {
     "name": "stdout",
     "output_type": "stream",
     "text": [
      "Enter String:heetu\n",
      "Enter index:2\n",
      "hetu\n"
     ]
    }
   ],
   "source": [
    "#WAP to remove i th character from string\n",
    "s =input(\"Enter String:\")\n",
    "n =int(input(\"Enter index:\"))\n",
    "x =s[:n] +s[n+1:]\n",
    "print(x)\n"
   ]
  },
  {
   "cell_type": "code",
   "execution_count": 2,
   "metadata": {},
   "outputs": [
    {
     "name": "stdout",
     "output_type": "stream",
     "text": [
      "Enter substring in lower u have to find :usa\n",
      "4\n"
     ]
    }
   ],
   "source": [
    "#WAP to find all occurence of a substring in a given by ingoring the case\n",
    "s =\"welcome to USA usa is aws Usain in from USA\"\n",
    "sub = input(\"Enter substring in lower u have to find :\")\n",
    "s=s.lower()\n",
    "print(s.count(sub))\n",
    "\n"
   ]
  },
  {
   "cell_type": "code",
   "execution_count": 13,
   "metadata": {},
   "outputs": [
    {
     "name": "stdout",
     "output_type": "stream",
     "text": [
      "sum is 22\n",
      "Avg is 3.142857142857143\n"
     ]
    }
   ],
   "source": [
    "#wap to calculate sum and avg of the digits present in a string\n",
    "s=\" Pyt@$123th%4237\"\n",
    "c= 0\n",
    "sum=0\n",
    "for i in s:\n",
    "    if i.isdigit():\n",
    "        sum+=int(i)\n",
    "        c+=1\n",
    "    \n",
    "print(\"sum is\",sum)\n",
    "print(\"Avg is\",sum/c)\n"
   ]
  },
  {
   "cell_type": "code",
   "execution_count": 26,
   "metadata": {},
   "outputs": [
    {
     "name": "stdout",
     "output_type": "stream",
     "text": [
      " Pyt##123th#4237\n"
     ]
    }
   ],
   "source": [
    "#wap to replace each special symbol wiht # in ggiven string\n",
    "import string\n",
    "s=\" Pyt@$123th%4237\"\n",
    "for i in string.punctuation:\n",
    "    s=s.replace(i,\"#\")\n",
    "print(s)"
   ]
  },
  {
   "cell_type": "code",
   "execution_count": 34,
   "metadata": {},
   "outputs": [
    {
     "name": "stdout",
     "output_type": "stream",
     "text": [
      "50 5\n"
     ]
    }
   ],
   "source": [
    "#wap to print min max element in a given tuple with use of min max ()\n",
    "t =(10,20,30,5,50)\n",
    "max=t[0]\n",
    "min=t[0]\n",
    "for i in t:\n",
    "    if i<min:\n",
    "        min=i\n",
    "    if i>max:\n",
    "        max=i\n",
    " \n",
    "        \n",
    "print(max,min)\n",
    "\n"
   ]
  },
  {
   "cell_type": "code",
   "execution_count": 51,
   "metadata": {},
   "outputs": [
    {
     "name": "stdout",
     "output_type": "stream",
     "text": [
      "to Lj University "
     ]
    }
   ],
   "source": [
    "#wap to print even lenght words in a given string\n",
    "s=\"Welcome to Lj University\"\n",
    "l=s.split()\n",
    "for i in l:\n",
    "    if len(i)%2==0:\n",
    "        print(i,end=\" \")\n",
    "         \n",
    "\n",
    "\n"
   ]
  },
  {
   "cell_type": "code",
   "execution_count": 65,
   "metadata": {},
   "outputs": [
    {
     "name": "stdout",
     "output_type": "stream",
     "text": [
      "UNIVErsity\n"
     ]
    }
   ],
   "source": [
    "# wap to uppercase the half string\n",
    "s= \"University\"\n",
    "print(s[:len(s)//2].upper() + s[len(s)//2:])"
   ]
  },
  {
   "cell_type": "code",
   "execution_count": 75,
   "metadata": {},
   "outputs": [
    {
     "name": "stdout",
     "output_type": "stream",
     "text": [
      "GooD MorninG LJ \n"
     ]
    }
   ],
   "source": [
    "#wap to capatilize first and last letter of each word\n",
    "s  = \"good morning lj\"\n",
    "s=s.title()\n",
    "r =\"\"\n",
    "for x in s.split():\n",
    "    r+=x[:-1]+x[-1].upper()+\" \"\n",
    "print(r)"
   ]
  },
  {
   "cell_type": "code",
   "execution_count": 81,
   "metadata": {},
   "outputs": [
    {
     "name": "stdout",
     "output_type": "stream",
     "text": [
      "Not\n"
     ]
    }
   ],
   "source": [
    "#wap to check if two string are balanced\n",
    "s1 =\"abcd\"\n",
    "s2=\"abcxy\"\n",
    "flag =0\n",
    "for i in s1:\n",
    "    if i in s2:\n",
    "        continue\n",
    "    else:\n",
    "        flag =1\n",
    "        break\n",
    "if flag==1:\n",
    "    print(\"Not\")\n",
    "else:\n",
    "    print(\"Yess\")\n",
    "    "
   ]
  },
  {
   "cell_type": "code",
   "execution_count": null,
   "metadata": {},
   "outputs": [],
   "source": [
    "#wap to shift the decimal digits and palces to the left wrapping the extra digit around if shift is grater then the no of digit then reverse the digit\n",
    "n = int(input(\"Enter Number :\"))\n",
    "shift = int(input(\"Enter No of shift :\"))\n",
    "a=str(n)\n",
    "print()\n",
    "if shift>len(a):\n",
    "    r=a[::-1]\n",
    "else:\n",
    "    r=a[shift:]+a[:shift]\n",
    "print(r)\n",
    "   \n"
   ]
  },
  {
   "cell_type": "code",
   "execution_count": null,
   "metadata": {},
   "outputs": [],
   "source": [
    "#wap to check validet of password\n",
    "#mininmum no is 8\n",
    "#The aplhabets must be bet(a-z)\n",
    "#atlest one alphate should be uppercase\n",
    "#atlest one digit betw(0-9)\n",
    "#Atlest one charecter from(_ @ $)\n",
    "a=input(\"Enter Password:\")\n",
    "d=0\n",
    "sc=0\n",
    "up=0\n",
    "lo=0\n",
    "if len(a)>=8:\n",
    "    for i in a:\n",
    "        if i.isdigit():\n",
    "            d+=1\n",
    "        if i.isupper():\n",
    "            up+=1\n",
    "        if i.islower():\n",
    "            lo+=1\n",
    "        if i==\"_\" or i==\"@\" or i==\"$\":\n",
    "            sc+=1\n",
    "    if lo>=1 and up>=1 and sc>=1 and d+up+lo+sc==len(a):\n",
    "        print(\"valid\")\n",
    "    else:\n",
    "        print(\"Invalid\")\n",
    "else:\n",
    "    print(\"Invalid\")\n",
    "    \n",
    "  \n",
    "        \n",
    "       \n"
   ]
  },
  {
   "cell_type": "code",
   "execution_count": null,
   "metadata": {},
   "outputs": [],
   "source": [
    "#wap to display all position of a substring in a given string\n",
    "a=input(\"Enter String :\")\n",
    "subs=input(\"Enter Substring u want :\")\n",
    "flag=0\n",
    "x=-1\n",
    "n=len(a)\n",
    "a=a.lower()\n",
    "while True:\n",
    "    x=a.find(subs,x+1,n)\n",
    "    if x==-1:\n",
    "        break\n",
    "    print(\"found at pos\",x)\n",
    "    flag=1\n",
    "if flag==0:\n",
    "    print(\"Not found\")\n",
    "print(\"Total Occurence\",a.count(subs))"
   ]
  },
  {
   "cell_type": "code",
   "execution_count": 6,
   "metadata": {},
   "outputs": [
    {
     "name": "stdout",
     "output_type": "stream",
     "text": [
      "Enter String :A12B\n",
      "AB12\n"
     ]
    }
   ],
   "source": [
    "#wap to short the charcter of string and first alphabate symbol\n",
    "s=input(\"Enter String :\")\n",
    "s1=s2=output=\"\"\n",
    "for x in s:\n",
    "    if x.isalpha():\n",
    "        s1+=x\n",
    "    if x.isdigit():\n",
    "        s2+=x\n",
    "for x in sorted(s1):\n",
    "    output+=x\n",
    "for x in sorted(s2):\n",
    "    output+=x\n",
    "print(output)\n",
    "\n",
    "\n"
   ]
  },
  {
   "cell_type": "markdown",
   "metadata": {},
   "source": [
    "# CH-5 Mutable DS (list,dict,set)"
   ]
  },
  {
   "cell_type": "code",
   "execution_count": 9,
   "metadata": {},
   "outputs": [
    {
     "name": "stdout",
     "output_type": "stream",
     "text": [
      "Enter Data:[1,2,3]\n",
      "[1, 2, 3]\n",
      "<class 'list'>\n"
     ]
    }
   ],
   "source": [
    "#dynamic input\n",
    "l=eval(input(\"Enter Data:\"))\n",
    "print(l)\n",
    "print(type(l))"
   ]
  },
  {
   "cell_type": "code",
   "execution_count": 12,
   "metadata": {},
   "outputs": [
    {
     "name": "stdout",
     "output_type": "stream",
     "text": [
      "['a', 'r', 'm', 'a', 'n']\n"
     ]
    }
   ],
   "source": [
    "l=list(range(1,20,2))\n",
    "s=\"arman\"\n",
    "x=list(s)\n",
    "print(x)"
   ]
  },
  {
   "cell_type": "code",
   "execution_count": 14,
   "metadata": {},
   "outputs": [
    {
     "name": "stdout",
     "output_type": "stream",
     "text": [
      "[1, 2, 5]\n"
     ]
    }
   ],
   "source": [
    "#list mutability\n",
    "l=[1,2,3]\n",
    "l[2]=5\n",
    "print(l)"
   ]
  },
  {
   "cell_type": "code",
   "execution_count": 17,
   "metadata": {},
   "outputs": [
    {
     "name": "stdout",
     "output_type": "stream",
     "text": [
      "40\n",
      "[30, 40, 50]\n",
      "[10, 20, 30, 40]\n",
      "[10, 20, 30, 40]\n"
     ]
    }
   ],
   "source": [
    "#by index and slicing operator\n",
    "l=[10,20,30,40,50]\n",
    "print(l[3])\n",
    "print(l[2:100])\n",
    "print(l[:4])\n",
    "print(l[-1-5:-1])"
   ]
  },
  {
   "cell_type": "code",
   "execution_count": 19,
   "metadata": {},
   "outputs": [
    {
     "name": "stdout",
     "output_type": "stream",
     "text": [
      "3\n"
     ]
    }
   ],
   "source": [
    "#len()\n",
    "n=[1,2,3]\n",
    "print(len(n))"
   ]
  },
  {
   "cell_type": "code",
   "execution_count": 23,
   "metadata": {},
   "outputs": [
    {
     "name": "stdout",
     "output_type": "stream",
     "text": [
      "2\n"
     ]
    }
   ],
   "source": [
    "#count()\n",
    "n=[1,2,3,3]\n",
    "print(n.count(3))"
   ]
  },
  {
   "cell_type": "code",
   "execution_count": 25,
   "metadata": {},
   "outputs": [
    {
     "name": "stdout",
     "output_type": "stream",
     "text": [
      "1\n"
     ]
    }
   ],
   "source": [
    "#index\n",
    "n=[1,2,3,2]\n",
    "print(n.index(2))"
   ]
  },
  {
   "cell_type": "code",
   "execution_count": 27,
   "metadata": {},
   "outputs": [
    {
     "name": "stdout",
     "output_type": "stream",
     "text": [
      "['A', 'B', 'C', 'D']\n"
     ]
    }
   ],
   "source": [
    "#append() add at the last of the list\n",
    "l=[\"A\",\"B\"]\n",
    "l.append(\"C\")\n",
    "l.append(\"D\")\n",
    "print(l)\n"
   ]
  },
  {
   "cell_type": "code",
   "execution_count": 33,
   "metadata": {},
   "outputs": [
    {
     "name": "stdout",
     "output_type": "stream",
     "text": [
      "[10, 28, 20, 30]\n",
      "[10, 28, 20, 30, 40]\n",
      "[10, 28, 20, 30, 33, 40]\n"
     ]
    }
   ],
   "source": [
    "#insert() by indexing (index,value)\n",
    "l=[10,20,30]\n",
    "l.insert(1,28)\n",
    "print(l)\n",
    "l.insert(10,40)\n",
    "print(l)\n",
    "l.insert(-1,33)\n",
    "print(l)\n"
   ]
  },
  {
   "cell_type": "code",
   "execution_count": 4,
   "metadata": {},
   "outputs": [
    {
     "name": "stdout",
     "output_type": "stream",
     "text": [
      "['Apple', 'Cherry', 'Banana', 'Mango']\n",
      "['Banana', 'Mango', 'Apple', 'Cherry', 'Banana', 'Mango']\n"
     ]
    }
   ],
   "source": [
    "#extend()\n",
    "l1=[\"Apple\",\"Cherry\"]\n",
    "l2=[\"Banana\",\"Mango\"]\n",
    "l1.extend(l2)\n",
    "l2.extend(l1)\n",
    "print(l1)\n",
    "print(l2)"
   ]
  },
  {
   "cell_type": "code",
   "execution_count": 10,
   "metadata": {},
   "outputs": [
    {
     "name": "stdout",
     "output_type": "stream",
     "text": [
      "[2, 3, -1]\n",
      "[2, 3]\n"
     ]
    }
   ],
   "source": [
    "#remove\n",
    "l=[1,2,3,-1]\n",
    "l.remove(1)\n",
    "print(l)\n",
    "#l.remove(4)\n",
    "l.remove(-1)\n",
    "print(l)"
   ]
  },
  {
   "cell_type": "code",
   "execution_count": 17,
   "metadata": {},
   "outputs": [
    {
     "name": "stdout",
     "output_type": "stream",
     "text": [
      "4\n",
      "[1, 2, 3]\n",
      "2\n",
      "[1, 3]\n",
      "3\n",
      "[1]\n"
     ]
    }
   ],
   "source": [
    "#pop()\n",
    "n=[1,2,3,4]\n",
    "print(n.pop())\n",
    "print(n)\n",
    "print(n.pop(1))\n",
    "print(n)\n",
    "print(n.pop())\n",
    "print(n)"
   ]
  },
  {
   "cell_type": "code",
   "execution_count": 19,
   "metadata": {},
   "outputs": [
    {
     "name": "stdout",
     "output_type": "stream",
     "text": [
      "[]\n"
     ]
    }
   ],
   "source": [
    "#clear()\n",
    "n=[1,2,3,4]\n",
    "n.clear()\n",
    "print(n)"
   ]
  },
  {
   "cell_type": "code",
   "execution_count": 24,
   "metadata": {},
   "outputs": [
    {
     "name": "stdout",
     "output_type": "stream",
     "text": [
      "[4, 3, 2, 1]\n"
     ]
    }
   ],
   "source": [
    "#reverse()\n",
    "n=[1,2,3,4]\n",
    "n.reverse()\n",
    "print(n)"
   ]
  },
  {
   "cell_type": "code",
   "execution_count": 27,
   "metadata": {},
   "outputs": [
    {
     "name": "stdout",
     "output_type": "stream",
     "text": [
      "[4, 3, 1, 0]\n"
     ]
    }
   ],
   "source": [
    "#sort()\n",
    "n=[1,0,3,4]\n",
    "n.sort(reverse=True)\n",
    "print(n)"
   ]
  },
  {
   "cell_type": "markdown",
   "metadata": {},
   "source": [
    "# Mathemarical operators\n"
   ]
  },
  {
   "cell_type": "code",
   "execution_count": 2,
   "metadata": {},
   "outputs": [
    {
     "name": "stdout",
     "output_type": "stream",
     "text": [
      "[1, 2, 3, 4, 5, 6]\n",
      "[1, 2, 3, 4]\n",
      "[1, 2, 3, 1, 2, 3, 1, 2, 3]\n"
     ]
    }
   ],
   "source": [
    "a=[1,2,3]\n",
    "b=[4,5,6]\n",
    "print(a+b)\n",
    "print(a+[4])\n",
    "print(a*3)"
   ]
  },
  {
   "cell_type": "code",
   "execution_count": 12,
   "metadata": {},
   "outputs": [
    {
     "name": "stdout",
     "output_type": "stream",
     "text": [
      "True\n",
      "False\n",
      "True\n"
     ]
    }
   ],
   "source": [
    "#comparison operator for list\n",
    "x=[\"Dog\",\"Cat\",\"Rat\"]\n",
    "y=[\"Dog\",\"Cat\",\"Rat\"]\n",
    "z=[\"DOG\",\"CAT\",\"RAT\"]\n",
    "print(x==y)\n",
    "print(x==z)\n",
    "print(x!=z)"
   ]
  },
  {
   "cell_type": "code",
   "execution_count": 11,
   "metadata": {},
   "outputs": [
    {
     "name": "stdout",
     "output_type": "stream",
     "text": [
      "False\n",
      "False\n",
      "True\n",
      "True\n"
     ]
    }
   ],
   "source": [
    "x=[\"Dog\",\"Cat\",\"Rat\"]\n",
    "y=[\"Rat\",\"Cat\", \"Dog\"]\n",
    "print(x>y)\n",
    "print(x>=y)\n",
    "print(x<y)\n",
    "print(x<=y)"
   ]
  },
  {
   "cell_type": "code",
   "execution_count": 13,
   "metadata": {},
   "outputs": [
    {
     "name": "stdout",
     "output_type": "stream",
     "text": [
      "False\n",
      "False\n",
      "True\n",
      "True\n"
     ]
    }
   ],
   "source": [
    "x=[50,20,30]\n",
    "y=[50,20,30,100,200]\n",
    "print(x>y)\n",
    "print(x>=y)\n",
    "print(x<y)\n",
    "print(x<=y)"
   ]
  },
  {
   "cell_type": "code",
   "execution_count": 20,
   "metadata": {},
   "outputs": [
    {
     "name": "stdout",
     "output_type": "stream",
     "text": [
      "True\n",
      "True\n",
      "False\n",
      "False\n"
     ]
    }
   ],
   "source": [
    "#membership operator\n",
    "n=[10,20,30,40]\n",
    "print(10 in n)\n",
    "print(40 in n)\n",
    "print(50 in n)\n",
    "print(40 not in n)"
   ]
  },
  {
   "cell_type": "code",
   "execution_count": 21,
   "metadata": {},
   "outputs": [
    {
     "name": "stdout",
     "output_type": "stream",
     "text": [
      "[10, 20, 30, 40, 50]\n",
      "[10, 20, 100, 40, 50]\n",
      "[10, 20, 30, 40, 50]\n"
     ]
    }
   ],
   "source": [
    "#Aliasing and cloning of list\n",
    "n=[10,20,30,40,50]\n",
    "x=n[:] # or n.copy()\n",
    "print(x)\n",
    "x[2]=100\n",
    "print(x)\n",
    "print(n)"
   ]
  },
  {
   "cell_type": "code",
   "execution_count": 27,
   "metadata": {},
   "outputs": [
    {
     "name": "stdout",
     "output_type": "stream",
     "text": [
      "10\n",
      "[30, 40]\n",
      "50\n",
      "40\n",
      "100\n"
     ]
    }
   ],
   "source": [
    "#nested list\n",
    "n=[10,20,[30,40],[50,60,[100,200]]]\n",
    "print(n[0])\n",
    "print(n[2])\n",
    "print(n[3][0])\n",
    "print(n[2][1])\n",
    "print(n[3][2][0])"
   ]
  },
  {
   "cell_type": "code",
   "execution_count": 39,
   "metadata": {},
   "outputs": [
    {
     "name": "stdout",
     "output_type": "stream",
     "text": [
      "[10, 20, 30]\n",
      "[40, 50, 60]\n",
      "[70, 80, 90]\n",
      "10 20 30 \n",
      "40 50 60 \n",
      "70 80 90 \n"
     ]
    }
   ],
   "source": [
    "#Nested list as Matric\n",
    "n=[[10,20,30],[40,50,60],[70,80,90]]\n",
    "for i in n:\n",
    "    print(i)\n",
    "\n",
    "for i in range(len(n)):\n",
    "    for j in range(len(n[i])):\n",
    "        print(n[i][j],end=\" \")\n",
    "    print()\n"
   ]
  },
  {
   "cell_type": "code",
   "execution_count": 48,
   "metadata": {},
   "outputs": [
    {
     "name": "stdout",
     "output_type": "stream",
     "text": [
      "[4, 16, 36, 64, 100]\n",
      "[1, 4, 9, 16, 25, 36, 49, 64, 81, 100]\n",
      "[2, 4, 8, 16, 32]\n"
     ]
    }
   ],
   "source": [
    "#list comprehension\n",
    "s=[x*x for x in range(1,11)]\n",
    "a=[2**x for x in range(1,6)]\n",
    "n=[x for x in s if x%2==0]\n",
    "print(n)\n",
    "print(s)\n",
    "print(a)"
   ]
  },
  {
   "cell_type": "code",
   "execution_count": 62,
   "metadata": {},
   "outputs": [
    {
     "name": "stdout",
     "output_type": "stream",
     "text": [
      "Enter Data:[2, 4, 8, 16, 32,132]\n",
      "132\n",
      "685\n"
     ]
    }
   ],
   "source": [
    "#wap to print largest even and largest odd number \n",
    "n=eval(input(\"Enter Data:\"))\n",
    "for i in range(len(n)):\n",
    "    if n[i]%2==0:\n",
    "        maxe=n[i]\n",
    "    if n[i]%2==1:\n",
    "        maxo=n[i]\n",
    "for i in range(len(n)):\n",
    "    if n[i]>= maxe and n[i]%2==0:\n",
    "        maxe=n[i]\n",
    "    if n[i]>= maxo and n[i]%2==1:\n",
    "        max0=n[i]\n",
    "print(maxe)\n",
    "print(maxo)"
   ]
  },
  {
   "cell_type": "markdown",
   "metadata": {},
   "source": [
    "# Dictionary\n"
   ]
  },
  {
   "cell_type": "code",
   "execution_count": 68,
   "metadata": {},
   "outputs": [
    {
     "name": "stdout",
     "output_type": "stream",
     "text": [
      "{10: 'lucky', 20: 'Aryan'}\n",
      "Aryan\n"
     ]
    }
   ],
   "source": [
    "d={}\n",
    "d[10]=\"lucky\"\n",
    "d[20]=\"Aryan\"\n",
    "print(d)\n",
    "print(d[20])\n",
    "#print(d[40]) #keyerror\n"
   ]
  },
  {
   "cell_type": "code",
   "execution_count": 72,
   "metadata": {},
   "outputs": [
    {
     "name": "stdout",
     "output_type": "stream",
     "text": [
      "{10: 'Vidhi', 20: 'Harsh', 30: 'Yashvi'}\n"
     ]
    }
   ],
   "source": [
    "d={10: 'lucky', 20: 'Aryan',30:\"Yashvi\"}\n",
    "d[10]=\"Vidhi\"\n",
    "d[20]=\"Harsh\"\n",
    "print(d)"
   ]
  },
  {
   "cell_type": "code",
   "execution_count": 76,
   "metadata": {},
   "outputs": [
    {
     "name": "stdout",
     "output_type": "stream",
     "text": [
      "{20: 'Aryan', 30: 'Yashvi'}\n"
     ]
    }
   ],
   "source": [
    "#del()\n",
    "d={10: 'lucky', 20: 'Aryan',30:\"Yashvi\"}\n",
    "del d[10] #delete the pair with key\n",
    "print(d)"
   ]
  },
  {
   "cell_type": "code",
   "execution_count": 78,
   "metadata": {},
   "outputs": [
    {
     "name": "stdout",
     "output_type": "stream",
     "text": [
      "{1: 1, 2: 4, 3: 9, 4: 16, 5: 25}\n"
     ]
    }
   ],
   "source": [
    "#dictonary comprehension\n",
    "s={x:x*x for x in range(1,6)}\n",
    "print(s)\n"
   ]
  },
  {
   "cell_type": "code",
   "execution_count": 84,
   "metadata": {},
   "outputs": [
    {
     "name": "stdout",
     "output_type": "stream",
     "text": [
      "{1: 'Y', 2: 'H', 3: 'S', 4: 'V'}\n",
      "4\n"
     ]
    }
   ],
   "source": [
    "#dictonary\n",
    "d= dict([(1,\"Y\"),(2,\"H\"),(3,\"S\"),(4,\"V\")])\n",
    "print(d)\n",
    "print(len(d))"
   ]
  },
  {
   "cell_type": "code",
   "execution_count": 90,
   "metadata": {},
   "outputs": [
    {
     "name": "stdout",
     "output_type": "stream",
     "text": [
      "{1: 'Y', 2: 'H', 3: 'S', 4: 'V'}\n",
      "{1: 'Y', 2: 'B', 3: 'S', 4: 'V'}\n",
      "{1: 'Y', 2: 'H', 3: 'S', 4: 'V'}\n"
     ]
    }
   ],
   "source": [
    "d= dict([(1,\"Y\"),(2,\"H\"),(3,\"S\"),(4,\"V\")])\n",
    "x=d.copy()\n",
    "print(x)\n",
    "x[2]=\"B\"\n",
    "print(x)\n",
    "print(d)"
   ]
  },
  {
   "cell_type": "code",
   "execution_count": 93,
   "metadata": {},
   "outputs": [
    {
     "name": "stdout",
     "output_type": "stream",
     "text": [
      "{1: 'Y', 2: 'H', 3: 'j', 4: 'V', 5: 'p'}\n"
     ]
    }
   ],
   "source": [
    "#update()\n",
    "d= dict([(1,\"Y\"),(2,\"H\"),(3,\"S\"),(4,\"V\")])\n",
    "x={5:\"p\",3:\"j\"}\n",
    "d.update(x)\n",
    "print(d)"
   ]
  },
  {
   "cell_type": "code",
   "execution_count": 102,
   "metadata": {},
   "outputs": [
    {
     "name": "stdout",
     "output_type": "stream",
     "text": [
      "j\n",
      "p\n",
      "Y\n"
     ]
    }
   ],
   "source": [
    "#get()\n",
    "d={5:\"p\",3:\"j\"}\n",
    "print(d.get(3))\n",
    "print(d.get(5))\n",
    "print(d.get(40,\"Y\"))"
   ]
  },
  {
   "cell_type": "code",
   "execution_count": 103,
   "metadata": {},
   "outputs": [
    {
     "name": "stdout",
     "output_type": "stream",
     "text": [
      "(5, 'p')\n",
      "{1: 'Y', 2: 'H', 3: 'j', 4: 'V'}\n"
     ]
    }
   ],
   "source": [
    "#popitem\n",
    "p={1: 'Y', 2: 'H', 3: 'j', 4: 'V', 5: 'p'}\n",
    "print(p.popitem())\n",
    "print(p)"
   ]
  }
 ],
 "metadata": {
  "kernelspec": {
   "display_name": "Python 3",
   "language": "python",
   "name": "python3"
  },
  "language_info": {
   "codemirror_mode": {
    "name": "ipython",
    "version": 3
   },
   "file_extension": ".py",
   "mimetype": "text/x-python",
   "name": "python",
   "nbconvert_exporter": "python",
   "pygments_lexer": "ipython3",
   "version": "3.8.5"
  }
 },
 "nbformat": 4,
 "nbformat_minor": 4
}
